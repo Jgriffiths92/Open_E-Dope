{
  "cells": [
    {
      "cell_type": "markdown",
      "metadata": {
        "id": "view-in-github",
        "colab_type": "text"
      },
      "source": [
        "<a href=\"https://colab.research.google.com/github/Jgriffiths92/Open_E-Dope/blob/master/Kivy_App_To_APK.ipynb\" target=\"_parent\"><img src=\"https://colab.research.google.com/assets/colab-badge.svg\" alt=\"Open In Colab\"/></a>"
      ]
    },
    {
      "cell_type": "markdown",
      "source": [
        "If still connected run the first 4 lines"
      ],
      "metadata": {
        "id": "ggWn7A0kCSHM"
      }
    },
    {
      "cell_type": "code",
      "execution_count": 18,
      "metadata": {
        "id": "4t7ncrP4Yg10"
      },
      "outputs": [],
      "source": [
        "!rm -rf Open_E-Dope\n",
        "!rm -rf sample_data/\n",
        "!rm -rf bin/\n",
        "!rm -rf main.py\n",
        "!rm -rf buildozer.spec\n",
        "!rm -rf layout.kv\n",
        "!rm -rf extra_manifest.xml\n",
        "!rm -rf assets"
      ]
    },
    {
      "cell_type": "code",
      "execution_count": 19,
      "metadata": {
        "colab": {
          "base_uri": "https://localhost:8080/"
        },
        "id": "OsT26_KLV4dI",
        "outputId": "b237ddb9-e88d-4fe3-c9a0-ba78dd6cd5a7"
      },
      "outputs": [],
      "source": [
        "!git clone https://github.com/Jgriffiths92/Open_E-Dope.git"
      ]
    },
    {
      "cell_type": "code",
      "execution_count": 3,
      "metadata": {
        "id": "gMWMv07VpEaD"
      },
      "outputs": [],
      "source": [
        "!rm -rf sample_data/"
      ]
    },
    {
      "cell_type": "code",
      "execution_count": 20,
      "metadata": {
        "id": "Srpmf30vl-vX"
      },
      "outputs": [],
      "source": [
        "!mv /content/Open_E-Dope/main.py  ../content/\n",
        "!mv /content/Open_E-Dope/buildozer.spec  ../content/\n",
        "!mv /content/Open_E-Dope/layout.kv  ../content/\n",
        "!mv /content/Open_E-Dope/extra_manifest.xml  ../content/\n",
        "!mv /content/Open_E-Dope/assets  ../content/"
      ]
    },
    {
      "cell_type": "code",
      "execution_count": 5,
      "metadata": {
        "colab": {
          "base_uri": "https://localhost:8080/"
        },
        "id": "esRK2FDYHHxS",
        "outputId": "80dda584-9fa3-48a6-e318-38e0240dd96d"
      },
      "outputs": [],
      "source": [
        "!pip install buildozer"
      ]
    },
    {
      "cell_type": "code",
      "execution_count": 6,
      "metadata": {
        "id": "dotCHcJtHOnF"
      },
      "outputs": [],
      "source": [
        "#!pip install cython"
      ]
    },
    {
      "cell_type": "code",
      "execution_count": 7,
      "metadata": {
        "colab": {
          "base_uri": "https://localhost:8080/"
        },
        "id": "zmT88qNYPDQd",
        "outputId": "9d91ec4b-c78c-475b-d2bb-b780b947fa2b"
      },
      "outputs": [],
      "source": [
        "!sudo apt install -y git zip unzip openjdk-17-jdk python3-pip autoconf libtool pkg-config zlib1g-dev libncurses5-dev libncursesw5-dev libtinfo5 cmake libffi-dev libssl-dev\n",
        "!pip3 install --upgrade Cython==0.29.33 virtualenv  # the --user should be removed if you do this in a virtual enviroment"
      ]
    },
    {
      "cell_type": "code",
      "execution_count": 8,
      "metadata": {
        "id": "ozxjnAHffL6s",
        "outputId": "e713f9dd-4efe-4f6b-d28d-79f0e5068102",
        "colab": {
          "base_uri": "https://localhost:8080/"
        }
      },
      "outputs": [],
      "source": [
        "!pip install kivymd"
      ]
    },
    {
      "cell_type": "code",
      "execution_count": 9,
      "metadata": {
        "id": "fPk201JDHRcF",
        "outputId": "a5a66a4f-f519-494d-806b-cd314e9112ac",
        "colab": {
          "base_uri": "https://localhost:8080/"
        }
      },
      "outputs": [],
      "source": [
        "!sudo apt-get install -y \\\n",
        "    python3-pip \\\n",
        "    build-essential \\\n",
        "    git \\\n",
        "    python3 \\\n",
        "    python3-dev \\\n",
        "    ffmpeg \\\n",
        "    libsdl2-dev \\\n",
        "    libsdl2-image-dev \\\n",
        "    libsdl2-mixer-dev \\\n",
        "    libsdl2-ttf-dev \\\n",
        "    libportmidi-dev \\\n",
        "    libswscale-dev \\\n",
        "    libavformat-dev \\\n",
        "    libavcodec-dev \\\n",
        "    zlib1g-dev"
      ]
    },
    {
      "cell_type": "code",
      "execution_count": 10,
      "metadata": {
        "id": "LHmN0gZvHSXd",
        "outputId": "db96c13c-d458-4cff-ac37-d3ef9fd25582",
        "colab": {
          "base_uri": "https://localhost:8080/"
        }
      },
      "outputs": [],
      "source": [
        "!sudo apt-get install -y \\\n",
        "    libgstreamer1.0 \\\n",
        "    gstreamer1.0-plugins-base \\\n",
        "    gstreamer1.0-plugins-good"
      ]
    },
    {
      "cell_type": "code",
      "execution_count": 11,
      "metadata": {
        "id": "70-a3f8mMRk5",
        "outputId": "4c86bb18-bfa5-4244-80b7-9604eeb8daff",
        "colab": {
          "base_uri": "https://localhost:8080/"
        }
      },
      "outputs": [],
      "source": [
        "!sudo apt-get install libffi7\n",
        "!sudo apt-get install build-essential libsqlite3-dev sqlite3 bzip2 libbz2-dev zlib1g-dev libssl-dev openssl libgdbm-dev libgdbm-compat-dev liblzma-dev libreadline-dev libncursesw5-dev libffi-dev uuid-dev libffi7"
      ]
    },
    {
      "cell_type": "code",
      "execution_count": 12,
      "metadata": {
        "id": "elrRZQ-fHUF1"
      },
      "outputs": [],
      "source": [
        "#!sudo apt-get install build-essential libsqlite3-dev sqlite3 bzip2 libbz2-dev zlib1g-dev libssl-dev openssl libgdbm-dev libgdbm-compat-dev liblzma-dev libreadline-dev libncursesw5-dev libffi-dev uuid-dev libffi7"
      ]
    },
    {
      "cell_type": "code",
      "execution_count": 13,
      "metadata": {
        "id": "V3JJyY3NHVz1",
        "outputId": "3577da2f-850a-4592-fbf6-829c449990e9",
        "colab": {
          "base_uri": "https://localhost:8080/"
        }
      },
      "outputs": [],
      "source": [
        "!sudo apt-get install libffi-dev"
      ]
    },
    {
      "cell_type": "code",
      "execution_count": 14,
      "metadata": {
        "id": "sbL2gpx8HZ7t",
        "outputId": "42444cdd-5a8a-4a6e-b424-0d6b15348f8f",
        "colab": {
          "base_uri": "https://localhost:8080/"
        }
      },
      "outputs": [],
      "source": [
        "!yes | buildozer android clean"
      ]
    },
    {
      "cell_type": "code",
      "execution_count": 15,
      "metadata": {
        "id": "kbwtcLV1HXpF",
        "outputId": "8bd7b949-8eb1-4d60-db16-281551e8b35f",
        "colab": {
          "base_uri": "https://localhost:8080/"
        }
      },
      "outputs": [
        {
          "output_type": "stream",
          "name": "stdout",
          "text": [
            "\u001b[0m\u001b[1;34m# Check configuration tokens\u001b[0m\n",
            "\u001b[91m\u001b[1mBuildozer is running as root!\u001b[0m\n",
            "\u001b[91mThis is \u001b[1mnot\u001b[0m \u001b[91mrecommended, and may lead to problems later.\u001b[0m\n",
            "Are you sure you want to continue [y/n]? ERROR: You already have a buildozer.spec file.\n"
          ]
        }
      ],
      "source": [
        "!yes | buildozer init"
      ]
    },
    {
      "cell_type": "markdown",
      "source": [
        "then run the below lines"
      ],
      "metadata": {
        "id": "wfE7YJZUCnou"
      }
    },
    {
      "cell_type": "code",
      "execution_count": 21,
      "metadata": {
        "id": "Z1pqOWngHY0O",
        "outputId": "78798801-1687-4b50-c26b-337da9e89fd2",
        "colab": {
          "base_uri": "https://localhost:8080/"
        }
      },
      "outputs": [],
      "source": [
        "!yes | buildozer -v android debug"
      ]
    },
    {
      "cell_type": "code",
      "execution_count": 22,
      "metadata": {
        "id": "aD_LcBHhZIAM",
        "outputId": "61a4675a-48d4-44e9-cd77-41d434dca184",
        "colab": {
          "base_uri": "https://localhost:8080/",
          "height": 17
        }
      },
      "outputs": [],
      "source": [
        "from google.colab import files\n",
        "files.download('bin/open_edope-1.0-arm64-v8a_armeabi-v7a-debug.apk')"
      ]
    }
  ],
  "metadata": {
    "colab": {
      "provenance": [],
      "include_colab_link": true
    },
    "kernelspec": {
      "display_name": "Python 3",
      "name": "python3"
    },
    "language_info": {
      "name": "python"
    }
  },
  "nbformat": 4,
  "nbformat_minor": 0
}
