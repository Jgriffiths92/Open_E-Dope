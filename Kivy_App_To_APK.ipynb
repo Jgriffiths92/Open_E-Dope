{
  "cells": [
    {
      "cell_type": "markdown",
      "metadata": {
        "id": "view-in-github",
        "colab_type": "text"
      },
      "source": [
        "<a href=\"https://colab.research.google.com/github/Jgriffiths92/Open_E-Dope/blob/master/Kivy_App_To_APK.ipynb\" target=\"_parent\"><img src=\"https://colab.research.google.com/assets/colab-badge.svg\" alt=\"Open In Colab\"/></a>"
      ]
    },
    {
      "cell_type": "markdown",
      "source": [
        "If still connected run the first 3 lines"
      ],
      "metadata": {
        "id": "ggWn7A0kCSHM"
      }
    },
    {
      "cell_type": "code",
      "execution_count": 34,
      "metadata": {
        "id": "4t7ncrP4Yg10"
      },
      "outputs": [],
      "source": [
        "!rm -rf Open_E-Dope\n",
        "!rm -rf sample_data/\n",
        "!rm -rf bin/\n",
        "!rm -rf main.py\n",
        "!rm -rf buildozer.spec\n",
        "!rm -rf layout.kv\n",
        "!rm -rf extra_manifest.xml\n",
        "!rm -rf extra_intents.xml\n",
        "!rm -rf assets\n",
        "!rm -rf app\n",
        "!rm -rf res"
      ]
    },
    {
      "cell_type": "code",
      "execution_count": 35,
      "metadata": {
        "id": "OsT26_KLV4dI",
        "collapsed": true,
        "outputId": "cf8976cd-afbf-4f45-a0f8-b319d1783bf4",
        "colab": {
          "base_uri": "https://localhost:8080/"
        }
      },
      "outputs": [
        {
          "output_type": "stream",
          "name": "stdout",
          "text": [
            "Cloning into 'Open_E-Dope'...\n",
            "remote: Enumerating objects: 2810, done.\u001b[K\n",
            "remote: Counting objects: 100% (228/228), done.\u001b[K\n",
            "remote: Compressing objects: 100% (121/121), done.\u001b[K\n",
            "remote: Total 2810 (delta 86), reused 147 (delta 42), pack-reused 2582 (from 1)\u001b[K\n",
            "Receiving objects: 100% (2810/2810), 4.90 MiB | 28.37 MiB/s, done.\n",
            "Resolving deltas: 100% (1419/1419), done.\n"
          ]
        }
      ],
      "source": [
        "!git clone https://github.com/Jgriffiths92/Open_E-Dope.git"
      ]
    },
    {
      "cell_type": "code",
      "execution_count": 36,
      "metadata": {
        "id": "Srpmf30vl-vX"
      },
      "outputs": [],
      "source": [
        "!mv /content/Open_E-Dope/main.py  ../content/\n",
        "!mv /content/Open_E-Dope/buildozer.spec  ../content/\n",
        "!mv /content/Open_E-Dope/layout.kv  ../content/\n",
        "!mv /content/Open_E-Dope/extra_manifest.xml  ../content/\n",
        "!mv /content/Open_E-Dope/extra_intents.xml  ../content/\n",
        "!mv /content/Open_E-Dope/assets  ../content/\n",
        "!mv /content/Open_E-Dope/app  ../content/\n",
        "!mv /content/Open_E-Dope/res  ../content/"
      ]
    },
    {
      "cell_type": "code",
      "execution_count": null,
      "metadata": {
        "id": "esRK2FDYHHxS"
      },
      "outputs": [],
      "source": [
        "!pip install buildozer"
      ]
    },
    {
      "cell_type": "code",
      "execution_count": null,
      "metadata": {
        "id": "dotCHcJtHOnF"
      },
      "outputs": [],
      "source": [
        "#!pip install cython"
      ]
    },
    {
      "cell_type": "code",
      "execution_count": null,
      "metadata": {
        "id": "zmT88qNYPDQd"
      },
      "outputs": [],
      "source": [
        "!sudo apt install -y git zip unzip openjdk-17-jdk python3-pip autoconf libtool pkg-config zlib1g-dev libncurses5-dev libncursesw5-dev libtinfo5 cmake libffi-dev libssl-dev\n",
        "!pip3 install --upgrade Cython==0.29.33 virtualenv  # the --user should be removed if you do this in a virtual enviroment"
      ]
    },
    {
      "cell_type": "code",
      "execution_count": null,
      "metadata": {
        "id": "ozxjnAHffL6s"
      },
      "outputs": [],
      "source": [
        "!pip install kivymd"
      ]
    },
    {
      "cell_type": "code",
      "execution_count": null,
      "metadata": {
        "id": "fPk201JDHRcF"
      },
      "outputs": [],
      "source": [
        "!sudo apt-get install -y \\\n",
        "    python3-pip \\\n",
        "    build-essential \\\n",
        "    git \\\n",
        "    python3 \\\n",
        "    python3-dev \\\n",
        "    ffmpeg \\\n",
        "    libsdl2-dev \\\n",
        "    libsdl2-image-dev \\\n",
        "    libsdl2-mixer-dev \\\n",
        "    libsdl2-ttf-dev \\\n",
        "    libportmidi-dev \\\n",
        "    libswscale-dev \\\n",
        "    libavformat-dev \\\n",
        "    libavcodec-dev \\\n",
        "    zlib1g-dev"
      ]
    },
    {
      "cell_type": "code",
      "execution_count": null,
      "metadata": {
        "id": "LHmN0gZvHSXd"
      },
      "outputs": [],
      "source": [
        "!sudo apt-get install -y \\\n",
        "    libgstreamer1.0 \\\n",
        "    gstreamer1.0-plugins-base \\\n",
        "    gstreamer1.0-plugins-good"
      ]
    },
    {
      "cell_type": "code",
      "execution_count": null,
      "metadata": {
        "id": "70-a3f8mMRk5"
      },
      "outputs": [],
      "source": [
        "!sudo apt-get install libffi7\n",
        "!sudo apt-get install build-essential libsqlite3-dev sqlite3 bzip2 libbz2-dev zlib1g-dev libssl-dev openssl libgdbm-dev libgdbm-compat-dev liblzma-dev libreadline-dev libncursesw5-dev libffi-dev uuid-dev libffi7"
      ]
    },
    {
      "cell_type": "code",
      "execution_count": null,
      "metadata": {
        "id": "elrRZQ-fHUF1"
      },
      "outputs": [],
      "source": [
        "#!sudo apt-get install build-essential libsqlite3-dev sqlite3 bzip2 libbz2-dev zlib1g-dev libssl-dev openssl libgdbm-dev libgdbm-compat-dev liblzma-dev libreadline-dev libncursesw5-dev libffi-dev uuid-dev libffi7"
      ]
    },
    {
      "cell_type": "code",
      "execution_count": null,
      "metadata": {
        "id": "V3JJyY3NHVz1"
      },
      "outputs": [],
      "source": [
        "!sudo apt-get install libffi-dev"
      ]
    },
    {
      "cell_type": "code",
      "execution_count": null,
      "metadata": {
        "id": "sbL2gpx8HZ7t"
      },
      "outputs": [],
      "source": [
        "!yes | buildozer android clean"
      ]
    },
    {
      "cell_type": "code",
      "execution_count": null,
      "metadata": {
        "id": "kbwtcLV1HXpF"
      },
      "outputs": [],
      "source": [
        "!yes | buildozer init"
      ]
    },
    {
      "cell_type": "markdown",
      "source": [
        "then run the below lines"
      ],
      "metadata": {
        "id": "wfE7YJZUCnou"
      }
    },
    {
      "cell_type": "code",
      "execution_count": 37,
      "metadata": {
        "id": "Z1pqOWngHY0O",
        "collapsed": true,
        "outputId": "cff83cfc-d2b7-415e-fb5f-d4091591b652",
        "colab": {
          "base_uri": "https://localhost:8080/"
        }
      },
      "outputs": [
        {
          "output_type": "stream",
          "name": "stdout",
          "text": [
            "\u001b[39m\u001b[0m\u001b[36m# Check configuration tokens\u001b[39m\u001b[0m\n",
            "\u001b[91m\u001b[1mBuildozer is running as root!\u001b[0m\n",
            "\u001b[91mThis is \u001b[1mnot\u001b[0m \u001b[91mrecommended, and may lead to problems later.\u001b[0m\n",
            "Are you sure you want to continue [y/n]? \u001b[39m\u001b[0m\u001b[36m# Ensure build layout\u001b[39m\u001b[0m\n",
            "\u001b[39m\u001b[0m\u001b[30m\u001b[1m# Create directory /content/bin\u001b[39m\u001b[0m\n",
            "\u001b[39m\u001b[0m\u001b[36m# Check configuration tokens\u001b[39m\u001b[0m\n",
            "\u001b[39m\u001b[0m\u001b[36m# Preparing build\u001b[39m\u001b[0m\n",
            "\u001b[39m\u001b[0m\u001b[36m# Check requirements for android\u001b[39m\u001b[0m\n",
            "\u001b[39m\u001b[0m\u001b[30m\u001b[1m# Search for Git (git)\u001b[39m\u001b[0m\n",
            "\u001b[39m\u001b[0m\u001b[30m\u001b[1m#  -> found at /usr/bin/git\u001b[39m\u001b[0m\n",
            "\u001b[39m\u001b[0m\u001b[30m\u001b[1m# Search for Cython (cython)\u001b[39m\u001b[0m\n",
            "\u001b[39m\u001b[0m\u001b[30m\u001b[1m#  -> found at /usr/local/bin/cython\u001b[39m\u001b[0m\n",
            "\u001b[39m\u001b[0m\u001b[30m\u001b[1m# Search for Java compiler (javac)\u001b[39m\u001b[0m\n",
            "\u001b[39m\u001b[0m\u001b[30m\u001b[1m#  -> found at /usr/lib/jvm/java-17-openjdk-amd64/bin/javac\u001b[39m\u001b[0m\n",
            "\u001b[39m\u001b[0m\u001b[30m\u001b[1m# Search for Java keytool (keytool)\u001b[39m\u001b[0m\n",
            "\u001b[39m\u001b[0m\u001b[30m\u001b[1m#  -> found at /usr/lib/jvm/java-17-openjdk-amd64/bin/keytool\u001b[39m\u001b[0m\n",
            "\u001b[39m\u001b[0m\u001b[36m# Install platform\u001b[39m\u001b[0m\n",
            "\u001b[39m\u001b[0m\u001b[30m\u001b[1m# Run ['git', 'config', '--get', 'remote.origin.url']\u001b[39m\u001b[0m\n",
            "\u001b[39m\u001b[0m\u001b[30m\u001b[1m# Cwd /content/.buildozer/android/platform/python-for-android\u001b[39m\u001b[0m\n",
            "https://github.com/kivy/python-for-android.git\n",
            "\u001b[39m\u001b[0m\u001b[30m\u001b[1m# Run ['git', 'branch', '-vv']\u001b[39m\u001b[0m\n",
            "\u001b[39m\u001b[0m\u001b[30m\u001b[1m# Cwd /content/.buildozer/android/platform/python-for-android\u001b[39m\u001b[0m\n",
            "* master 957a3e5f [origin/master] Merge pull request #2959 from kivy/release-2024.01.21\n",
            "\u001b[39m\u001b[0m\u001b[30m\u001b[1m# Run ['/usr/bin/python3', '-m', 'pip', 'install', '-q', '--user', 'appdirs', 'colorama>=0.3.3', 'jinja2', 'sh>=1.10, <2.0; sys_platform!=\"win32\"', 'build', 'toml', 'packaging', 'setuptools']\u001b[39m\u001b[0m\n",
            "\u001b[39m\u001b[0m\u001b[30m\u001b[1m# Cwd None\u001b[39m\u001b[0m\n",
            "\u001b[39m\u001b[0m\u001b[36m# Apache ANT found at /root/.buildozer/android/platform/apache-ant-1.9.4\u001b[39m\u001b[0m\n",
            "\u001b[39m\u001b[0m\u001b[36m# Android SDK found at /root/.buildozer/android/platform/android-sdk\u001b[39m\u001b[0m\n",
            "\u001b[39m\u001b[0m\u001b[36m# Recommended android's NDK version by p4a is: 25b\u001b[39m\u001b[0m\n",
            "\u001b[39m\u001b[0m\u001b[36m# Android NDK found at /root/.buildozer/android/platform/android-ndk-r25b\u001b[39m\u001b[0m\n",
            "\u001b[39m\u001b[0m\u001b[30m\u001b[1m# Run ['/usr/bin/python3', '-m', 'pythonforandroid.toolchain', 'aab', '-h', '--color=always', '--storage-dir=/content/.buildozer/android/platform/build-arm64-v8a_armeabi-v7a', '--ndk-api=21', '--ignore-setup-py', '--debug']\u001b[39m\u001b[0m\n",
            "\u001b[39m\u001b[0m\u001b[30m\u001b[1m# Cwd /content/.buildozer/android/platform/python-for-android\u001b[39m\u001b[0m\n",
            "[WARNING]: prerequisites.py is experimental and does not support all prerequisites yet.\n",
            "[WARNING]: Please report any issues to the python-for-android issue tracker.\n",
            "[WARNING]: prerequisites.py is experimental and does not support all prerequisites yet.\n",
            "[WARNING]: Please report any issues to the python-for-android issue tracker.\n",
            "usage: toolchain.py aab [-h] [--debug] [--color {always,never,auto}]\n",
            "                        [--sdk-dir SDK_DIR] [--ndk-dir NDK_DIR]\n",
            "                        [--android-api ANDROID_API]\n",
            "                        [--ndk-version NDK_VERSION] [--ndk-api NDK_API]\n",
            "                        [--symlink-bootstrap-files]\n",
            "                        [--storage-dir STORAGE_DIR] [--arch ARCH]\n",
            "                        [--dist-name DIST_NAME] [--requirements REQUIREMENTS]\n",
            "                        [--recipe-blacklist RECIPE_BLACKLIST]\n",
            "                        [--blacklist-requirements BLACKLIST_REQUIREMENTS]\n",
            "                        [--bootstrap BOOTSTRAP] [--hook HOOK] [--force-build]\n",
            "                        [--no-force-build] [--require-perfect-match]\n",
            "                        [--no-require-perfect-match] [--allow-replace-dist]\n",
            "                        [--no-allow-replace-dist]\n",
            "                        [--local-recipes LOCAL_RECIPES]\n",
            "                        [--activity-class-name ACTIVITY_CLASS_NAME]\n",
            "                        [--service-class-name SERVICE_CLASS_NAME]\n",
            "                        [--java-build-tool {auto,ant,gradle}] [--copy-libs]\n",
            "                        [--no-copy-libs] [--add-asset ASSETS]\n",
            "                        [--add-resource RESOURCES] [--private PRIVATE]\n",
            "                        [--use-setup-py] [--ignore-setup-py] [--release]\n",
            "                        [--with-debug-symbols] [--keystore KEYSTORE]\n",
            "                        [--signkey SIGNKEY] [--keystorepw KEYSTOREPW]\n",
            "                        [--signkeypw SIGNKEYPW]\n",
            "\n",
            "options:\n",
            "  -h, --help            show this help message and exit\n",
            "  --debug               Display debug output and all build info\n",
            "  --color {always,never,auto}\n",
            "                        Enable or disable color output (default enabled on\n",
            "                        tty)\n",
            "  --sdk-dir SDK_DIR, --sdk_dir SDK_DIR\n",
            "                        The filepath where the Android SDK is installed\n",
            "  --ndk-dir NDK_DIR, --ndk_dir NDK_DIR\n",
            "                        The filepath where the Android NDK is installed\n",
            "  --android-api ANDROID_API, --android_api ANDROID_API\n",
            "                        The Android API level to build against defaults to 33\n",
            "                        if not specified.\n",
            "  --ndk-version NDK_VERSION, --ndk_version NDK_VERSION\n",
            "                        DEPRECATED: the NDK version is now found automatically\n",
            "                        or not at all.\n",
            "  --ndk-api NDK_API     The Android API level to compile against. This should\n",
            "                        be your *minimal supported* API, not normally the same\n",
            "                        as your --android-api. Defaults to min(ANDROID_API,\n",
            "                        21) if not specified.\n",
            "  --symlink-bootstrap-files, --ssymlink_bootstrap_files\n",
            "                        If True, symlinks the bootstrap files creation. This\n",
            "                        is useful for development only, it could also cause\n",
            "                        weird problems.\n",
            "  --storage-dir STORAGE_DIR\n",
            "                        Primary storage directory for downloads and builds\n",
            "                        (default: /root/.local/share/python-for-android)\n",
            "  --arch ARCH           The archs to build for.\n",
            "  --dist-name DIST_NAME, --dist_name DIST_NAME\n",
            "                        The name of the distribution to use or create\n",
            "  --requirements REQUIREMENTS\n",
            "                        Dependencies of your app, should be recipe names or\n",
            "                        Python modules. NOT NECESSARY if you are using Python\n",
            "                        3 with --use-setup-py\n",
            "  --recipe-blacklist RECIPE_BLACKLIST\n",
            "                        Blacklist an internal recipe from use. Allows\n",
            "                        disabling Python 3 core modules to save size\n",
            "  --blacklist-requirements BLACKLIST_REQUIREMENTS\n",
            "                        Blacklist an internal recipe from use. Allows\n",
            "                        disabling Python 3 core modules to save size\n",
            "  --bootstrap BOOTSTRAP\n",
            "                        The bootstrap to build with. Leave unset to choose\n",
            "                        automatically.\n",
            "  --hook HOOK           Filename to a module that contains python-for-android\n",
            "                        hooks\n",
            "  --local-recipes LOCAL_RECIPES, --local_recipes LOCAL_RECIPES\n",
            "                        Directory to look for local recipes\n",
            "  --activity-class-name ACTIVITY_CLASS_NAME\n",
            "                        The full java class name of the main activity\n",
            "  --service-class-name SERVICE_CLASS_NAME\n",
            "                        Full java package name of the PythonService class\n",
            "  --java-build-tool {auto,ant,gradle}\n",
            "                        The java build tool to use when packaging the APK,\n",
            "                        defaults to automatically selecting an appropriate\n",
            "                        tool.\n",
            "  --add-asset ASSETS    Put this in the assets folder in the apk.\n",
            "  --add-resource RESOURCES\n",
            "                        Put this in the res folder in the apk.\n",
            "  --private PRIVATE     the directory with the app source code files\n",
            "                        (containing your main.py entrypoint)\n",
            "  --use-setup-py        Process the setup.py of a project if present.\n",
            "                        (Experimental!\n",
            "  --ignore-setup-py     Don't run the setup.py of a project if present. This\n",
            "                        may be required if the setup.py is not designed to\n",
            "                        work inside p4a (e.g. by installing dependencies that\n",
            "                        won't work or aren't desired on Android\n",
            "  --release             Build your app as a non-debug release build. (Disables\n",
            "                        gdb debugging among other things)\n",
            "  --with-debug-symbols  Will keep debug symbols from `.so` files.\n",
            "  --keystore KEYSTORE   Keystore for JAR signing key, will use jarsigner\n",
            "                        default if not specified (release build only)\n",
            "  --signkey SIGNKEY     Key alias to sign PARSER_APK. with (release build\n",
            "                        only)\n",
            "  --keystorepw KEYSTOREPW\n",
            "                        Password for keystore\n",
            "  --signkeypw SIGNKEYPW\n",
            "                        Password for key alias\n",
            "\n",
            "  Whether to force compilation of a new distribution\n",
            "\n",
            "  --force-build\n",
            "  --no-force-build      (this is the default)\n",
            "  --require-perfect-match\n",
            "  --no-require-perfect-match\n",
            "                        (this is the default)\n",
            "  --allow-replace-dist  (this is the default)\n",
            "  --no-allow-replace-dist\n",
            "  --copy-libs\n",
            "  --no-copy-libs        (this is the default)\n",
            "\u001b[39m\u001b[0m\u001b[36m# Check application requirements\u001b[39m\u001b[0m\n",
            "\u001b[39m\u001b[0m\u001b[36m# Compile platform\u001b[39m\u001b[0m\n",
            "\u001b[39m\u001b[0m\u001b[30m\u001b[1m# Run ['/usr/bin/python3', '-m', 'pythonforandroid.toolchain', 'create', '--dist_name=open_edope', '--bootstrap=sdl2', '--requirements=python3,kivy,kivymd,pyjnius,pillow,plyer', '--arch=arm64-v8a', '--arch=armeabi-v7a', '--copy-libs', '--color=always', '--storage-dir=/content/.buildozer/android/platform/build-arm64-v8a_armeabi-v7a', '--ndk-api=21', '--ignore-setup-py', '--debug']\u001b[39m\u001b[0m\n",
            "\u001b[39m\u001b[0m\u001b[30m\u001b[1m# Cwd /content/.buildozer/android/platform/python-for-android\u001b[39m\u001b[0m\n",
            "[WARNING]: prerequisites.py is experimental and does not support all prerequisites yet.\n",
            "[WARNING]: Please report any issues to the python-for-android issue tracker.\n",
            "[WARNING]: prerequisites.py is experimental and does not support all prerequisites yet.\n",
            "[WARNING]: Please report any issues to the python-for-android issue tracker.\n",
            "\u001b[1m[INFO]\u001b[0m:    Will compile for the following archs: arm64-v8a, armeabi-v7a\n",
            "\u001b[1m[INFO]\u001b[0m:    Found Android API target in $ANDROIDAPI: 31\n",
            "\u001b[1m[INFO]\u001b[0m:    Available Android APIs are (31)\n",
            "\u001b[1m[INFO]\u001b[0m:    Requested API target 31 is available, continuing.\n",
            "\u001b[1m[INFO]\u001b[0m:    Found NDK dir in $ANDROIDNDK: /root/.buildozer/android/platform/android-ndk-r25b\n",
            "\u001b[1m[INFO]\u001b[0m:    Found NDK version 25b\n",
            "\u001b[1m[INFO]\u001b[0m:    Getting NDK API version (i.e. minimum supported API) from user argument\n",
            "\u001b[1m[INFO]\u001b[0m:    ccache is missing, the build will not be optimized in the future.\n",
            "\u001b[1m\u001b[90m[DEBUG]\u001b[39m\u001b[0m:   All possible dists: [<Distribution: name open_edope with recipes (freetype, hostpython3, jpeg, libffi, openssl, png, sdl2_image, sdl2_mixer, sdl2_ttf, sqlite3, python3, sdl2, setuptools, pillow, six, pyjnius, android, kivy, urllib3, requests, plyer, idna, chardet, kivymd, certifi)>]\n",
            "\u001b[1m\u001b[90m[DEBUG]\u001b[39m\u001b[0m:   Dist matching name and arch: [<Distribution: name open_edope with recipes (freetype, hostpython3, jpeg, libffi, openssl, png, sdl2_image, sdl2_mixer, sdl2_ttf, sqlite3, python3, sdl2, setuptools, pillow, six, pyjnius, android, kivy, urllib3, requests, plyer, idna, chardet, kivymd, certifi)>]\n",
            "\u001b[1m\u001b[90m[DEBUG]\u001b[39m\u001b[0m:   Dist matching ndk_api and recipe: [<Distribution: name open_edope with recipes (freetype, hostpython3, jpeg, libffi, openssl, png, sdl2_image, sdl2_mixer, sdl2_ttf, sqlite3, python3, sdl2, setuptools, pillow, six, pyjnius, android, kivy, urllib3, requests, plyer, idna, chardet, kivymd, certifi)>]\n",
            "\u001b[1m[INFO]\u001b[0m:    Of the existing distributions, the following meet the given requirements:\n",
            "\u001b[1m[INFO]\u001b[0m:    \t\u001b[32m\u001b[1mopen_edope\u001b[0m: min API 21, includes recipes (\u001b[32mfreetype, hostpython3, jpeg, libffi, openssl, png, sdl2_image, sdl2_mixer, sdl2_ttf, sqlite3, python3, sdl2, setuptools, pillow, six, pyjnius, android, kivy, urllib3, requests, plyer, idna, chardet, kivymd, certifi\u001b[0m), built for archs (\u001b[34marmeabi-v7a, arm64-v8a\u001b[0m)\n",
            "\u001b[1m[INFO]\u001b[0m:    \u001b[1m\u001b[94mopen_edope has compatible recipes, using this one\u001b[0m\n",
            "\u001b[39m\u001b[0m\u001b[36m# Build the application #5\u001b[39m\u001b[0m\n",
            "\u001b[39m\u001b[0m\u001b[30m\u001b[1m# Copy application source from /content\u001b[39m\u001b[0m\n",
            "\u001b[39m\u001b[0m\u001b[30m\u001b[1m# Create directory /content/.buildozer/android/app\u001b[39m\u001b[0m\n",
            "\u001b[39m\u001b[0m\u001b[30m\u001b[1m# Copy /content/layout.kv\u001b[39m\u001b[0m\n",
            "\u001b[39m\u001b[0m\u001b[30m\u001b[1m# Copy /content/main.py\u001b[39m\u001b[0m\n",
            "\u001b[39m\u001b[0m\u001b[30m\u001b[1m# Copy /content/extra_manifest.xml\u001b[39m\u001b[0m\n",
            "\u001b[39m\u001b[0m\u001b[30m\u001b[1m# Copy /content/extra_intents.xml\u001b[39m\u001b[0m\n",
            "\u001b[39m\u001b[0m\u001b[30m\u001b[1m# Create directory /content/.buildozer/android/app/res/xml\u001b[39m\u001b[0m\n",
            "\u001b[39m\u001b[0m\u001b[30m\u001b[1m# Copy /content/res/xml/nfc_tech_filter.xml\u001b[39m\u001b[0m\n",
            "\u001b[39m\u001b[0m\u001b[30m\u001b[1m# Create directory /content/.buildozer/android/app/Open_E-Dope\u001b[39m\u001b[0m\n",
            "\u001b[39m\u001b[0m\u001b[30m\u001b[1m# Copy /content/Open_E-Dope/requirements.txt\u001b[39m\u001b[0m\n",
            "\u001b[39m\u001b[0m\u001b[30m\u001b[1m# Copy /content/Open_E-Dope/LICENSE\u001b[39m\u001b[0m\n",
            "\u001b[39m\u001b[0m\u001b[30m\u001b[1m# Copy /content/Open_E-Dope/README.md\u001b[39m\u001b[0m\n",
            "\u001b[39m\u001b[0m\u001b[30m\u001b[1m# Create directory /content/.buildozer/android/app/app/src/main/java/com/openedope/open_edope\u001b[39m\u001b[0m\n",
            "\u001b[39m\u001b[0m\u001b[30m\u001b[1m# Copy /content/app/src/main/java/com/openedope/open_edope/PythonCallback.java\u001b[39m\u001b[0m\n",
            "\u001b[39m\u001b[0m\u001b[30m\u001b[1m# Copy /content/app/src/main/java/com/openedope/open_edope/NfcHelper.java\u001b[39m\u001b[0m\n",
            "\u001b[39m\u001b[0m\u001b[30m\u001b[1m# Create directory /content/.buildozer/android/app/assets/bitmap\u001b[39m\u001b[0m\n",
            "\u001b[39m\u001b[0m\u001b[30m\u001b[1m# Copy /content/assets/bitmap/output.bmp\u001b[39m\u001b[0m\n",
            "\u001b[39m\u001b[0m\u001b[30m\u001b[1m# Create directory /content/.buildozer/android/app/assets/images\u001b[39m\u001b[0m\n",
            "\u001b[39m\u001b[0m\u001b[30m\u001b[1m# Copy /content/assets/images/icon.png\u001b[39m\u001b[0m\n",
            "\u001b[39m\u001b[0m\u001b[30m\u001b[1m# Copy /content/assets/images/logo.png\u001b[39m\u001b[0m\n",
            "\u001b[39m\u001b[0m\u001b[30m\u001b[1m# Copy /content/assets/images/splash.png\u001b[39m\u001b[0m\n",
            "\u001b[39m\u001b[0m\u001b[30m\u001b[1m# Create directory /content/.buildozer/android/app/assets/fonts\u001b[39m\u001b[0m\n",
            "\u001b[39m\u001b[0m\u001b[30m\u001b[1m# Copy /content/assets/fonts/RobotoMono-Regular.ttf\u001b[39m\u001b[0m\n",
            "\u001b[39m\u001b[0m\u001b[36m# Package the application\u001b[39m\u001b[0m\n",
            "\u001b[39m\u001b[0m\u001b[30m\u001b[1m# project.properties updated\u001b[39m\u001b[0m\n",
            "\u001b[39m\u001b[0m\u001b[30m\u001b[1m# Run ['/usr/bin/python3', '-m', 'pythonforandroid.toolchain', 'apk', '--bootstrap', 'sdl2', '--dist_name', 'open_edope', '--name', 'Open E-Dope', '--version', '1.0', '--package', 'com.openedope.open_edope', '--minsdk', '21', '--ndk-api', '21', '--private', '/content/.buildozer/android/app', '--permission', 'INTERNET', '--permission', 'WRITE_EXTERNAL_STORAGE', '--permission', 'READ_EXTERNAL_STORAGE', '--permission', 'FOREGROUND_SERVICE', '--permission', 'NFC', '--permission', 'VIBRATE', '--res_xml', '/content/./res/xml/nfc_tech_filter.xml', '--android-entrypoint', 'org.kivy.android.PythonActivity', '--android-apptheme', '@android:style/Theme.NoTitleBar', '--meta-data', 'android.allowBalOptIn=true', '--presplash', '/content/assets/images/splash.png', '--icon', '/content/assets/images/icon.png', '--orientation', 'portrait', '--window', '--enable-androidx', '--intent-filters', '/content/extra_intents.xml', '--activity-launch-mode', 'singleTask', '--presplash-color', '#016586', '--copy-libs', '--add-source', '/content/app/src/main/java/com/openedope/open_edope', '--add-asset', '/content/assets/images:images', '--add-asset', '/content/assets/fonts:fonts', '--add-asset', '/content/assets/CSV:CSV', '--add-asset', '/content/assets/bitmap:bitmap', '--extra-manifest-xml=\"<uses-feature android:name=\"android.hardware.nfc\" android:required=\"true\" />\"', '--arch', 'arm64-v8a', '--arch', 'armeabi-v7a', '--color=always', '--storage-dir=/content/.buildozer/android/platform/build-arm64-v8a_armeabi-v7a', '--ndk-api=21', '--ignore-setup-py', '--debug']\u001b[39m\u001b[0m\n",
            "\u001b[39m\u001b[0m\u001b[30m\u001b[1m# Cwd /content/.buildozer/android/platform/python-for-android\u001b[39m\u001b[0m\n",
            "[WARNING]: prerequisites.py is experimental and does not support all prerequisites yet.\n",
            "[WARNING]: Please report any issues to the python-for-android issue tracker.\n",
            "[WARNING]: prerequisites.py is experimental and does not support all prerequisites yet.\n",
            "[WARNING]: Please report any issues to the python-for-android issue tracker.\n",
            "\u001b[1m[INFO]\u001b[0m:    Will compile for the following archs: armeabi-v7a, arm64-v8a\n",
            "\u001b[1m[INFO]\u001b[0m:    Found Android API target in $ANDROIDAPI: 31\n",
            "\u001b[1m[INFO]\u001b[0m:    Available Android APIs are (31)\n",
            "\u001b[1m[INFO]\u001b[0m:    Requested API target 31 is available, continuing.\n",
            "\u001b[1m[INFO]\u001b[0m:    Found NDK dir in $ANDROIDNDK: /root/.buildozer/android/platform/android-ndk-r25b\n",
            "\u001b[1m[INFO]\u001b[0m:    Found NDK version 25b\n",
            "\u001b[1m[INFO]\u001b[0m:    Getting NDK API version (i.e. minimum supported API) from user argument\n",
            "\u001b[1m[INFO]\u001b[0m:    ccache is missing, the build will not be optimized in the future.\n",
            "\u001b[1m\u001b[90m[DEBUG]\u001b[39m\u001b[0m:   All possible dists: [<Distribution: name open_edope with recipes (freetype, hostpython3, jpeg, libffi, openssl, png, sdl2_image, sdl2_mixer, sdl2_ttf, sqlite3, python3, sdl2, setuptools, pillow, six, pyjnius, android, kivy, urllib3, requests, plyer, idna, chardet, kivymd, certifi)>]\n",
            "\u001b[1m\u001b[90m[DEBUG]\u001b[39m\u001b[0m:   Dist matching name and arch: [<Distribution: name open_edope with recipes (freetype, hostpython3, jpeg, libffi, openssl, png, sdl2_image, sdl2_mixer, sdl2_ttf, sqlite3, python3, sdl2, setuptools, pillow, six, pyjnius, android, kivy, urllib3, requests, plyer, idna, chardet, kivymd, certifi)>]\n",
            "\u001b[1m\u001b[90m[DEBUG]\u001b[39m\u001b[0m:   Dist matching ndk_api and recipe: [<Distribution: name open_edope with recipes (freetype, hostpython3, jpeg, libffi, openssl, png, sdl2_image, sdl2_mixer, sdl2_ttf, sqlite3, python3, sdl2, setuptools, pillow, six, pyjnius, android, kivy, urllib3, requests, plyer, idna, chardet, kivymd, certifi)>]\n",
            "\u001b[1m[INFO]\u001b[0m:    Of the existing distributions, the following meet the given requirements:\n",
            "\u001b[1m[INFO]\u001b[0m:    \t\u001b[32m\u001b[1mopen_edope\u001b[0m: min API 21, includes recipes (\u001b[32mfreetype, hostpython3, jpeg, libffi, openssl, png, sdl2_image, sdl2_mixer, sdl2_ttf, sqlite3, python3, sdl2, setuptools, pillow, six, pyjnius, android, kivy, urllib3, requests, plyer, idna, chardet, kivymd, certifi\u001b[0m), built for archs (\u001b[34marmeabi-v7a, arm64-v8a\u001b[0m)\n",
            "\u001b[1m[INFO]\u001b[0m:    \u001b[1m\u001b[94mopen_edope has compatible recipes, using this one\u001b[0m\n",
            "\u001b[1m\u001b[90m[DEBUG]\u001b[39m\u001b[0m:   All possible dists: [<Distribution: name open_edope with recipes (freetype, hostpython3, jpeg, libffi, openssl, png, sdl2_image, sdl2_mixer, sdl2_ttf, sqlite3, python3, sdl2, setuptools, pillow, six, pyjnius, android, kivy, urllib3, requests, plyer, idna, chardet, kivymd, certifi)>]\n",
            "\u001b[1m\u001b[90m[DEBUG]\u001b[39m\u001b[0m:   Dist matching name and arch: [<Distribution: name open_edope with recipes (freetype, hostpython3, jpeg, libffi, openssl, png, sdl2_image, sdl2_mixer, sdl2_ttf, sqlite3, python3, sdl2, setuptools, pillow, six, pyjnius, android, kivy, urllib3, requests, plyer, idna, chardet, kivymd, certifi)>]\n",
            "\u001b[1m\u001b[90m[DEBUG]\u001b[39m\u001b[0m:   Dist matching ndk_api and recipe: [<Distribution: name open_edope with recipes (freetype, hostpython3, jpeg, libffi, openssl, png, sdl2_image, sdl2_mixer, sdl2_ttf, sqlite3, python3, sdl2, setuptools, pillow, six, pyjnius, android, kivy, urllib3, requests, plyer, idna, chardet, kivymd, certifi)>]\n",
            "\u001b[1m[INFO]\u001b[0m:    Of the existing distributions, the following meet the given requirements:\n",
            "\u001b[1m[INFO]\u001b[0m:    \t\u001b[32m\u001b[1mopen_edope\u001b[0m: min API 21, includes recipes (\u001b[32mfreetype, hostpython3, jpeg, libffi, openssl, png, sdl2_image, sdl2_mixer, sdl2_ttf, sqlite3, python3, sdl2, setuptools, pillow, six, pyjnius, android, kivy, urllib3, requests, plyer, idna, chardet, kivymd, certifi\u001b[0m), built for archs (\u001b[34marmeabi-v7a, arm64-v8a\u001b[0m)\n",
            "\u001b[1m[INFO]\u001b[0m:    \u001b[1m\u001b[94mopen_edope has compatible recipes, using this one\u001b[0m\n",
            "\u001b[1m[INFO]\u001b[0m:    \u001b[36m-> directory context /content/.buildozer/android/platform/build-arm64-v8a_armeabi-v7a/build/bootstrap_builds/sdl2\u001b[39m\n",
            "\u001b[1m[INFO]\u001b[0m:    \u001b[36m<- directory context /content/.buildozer/android/platform/python-for-android\u001b[39m\n",
            "\u001b[1m[INFO]\u001b[0m:    \u001b[36m-> directory context /content/.buildozer/android/platform/build-arm64-v8a_armeabi-v7a/dists/open_edope\u001b[39m\n",
            "\u001b[1m\u001b[90m[DEBUG]\u001b[39m\u001b[0m:   Remove directory and subdirectory src/main/assets\n",
            "\u001b[1m\u001b[90m[DEBUG]\u001b[39m\u001b[0m:   Create directory src/main/assets\n",
            "Compiling '/content/.buildozer/android/app/main.py'...\n",
            "Compiling '/content/.buildozer/android/app/sitecustomize.py'...\n",
            "\u001b[1m\u001b[90m[DEBUG]\u001b[39m\u001b[0m:   Remove directory and subdirectory /tmp/p4a-extra-env-xr0uy00a\n",
            "\u001b[1m\u001b[90m[DEBUG]\u001b[39m\u001b[0m:   Remove directory and subdirectory src/main/res\n",
            "\u001b[1m\u001b[90m[DEBUG]\u001b[39m\u001b[0m:   Create directory src/main/res/xml\n",
            "\u001b[1m[INFO]\u001b[0m:    Detected highest available build tools version to be 36.0.0\n",
            "stty: 'standard input': Inappropriate ioctl for device\n",
            "\u001b[1m\u001b[90m[DEBUG]\u001b[39m\u001b[0m:   \u001b[90m->\u001b[0m running gradlew clean assembleDebug\u001b[0m\n",
            "\u001b[1m\u001b[90m[DEBUG]\u001b[39m\u001b[0m:   \t\n",
            "\u001b[1m\u001b[90m[DEBUG]\u001b[39m\u001b[0m:   \t\u001b[1A\u001b[1m<\u001b[0;1m-------------> 0% INITIALIZING [8ms]\u001b[m\u001b[37D\u001b[1B\n",
            "\u001b[1m\u001b[90m[DEBUG]\u001b[39m\u001b[0m:   \t\u001b[2A\u001b[1m<\u001b[0;1m-------------> 0% CONFIGURING [108ms]\u001b[m\u001b[38D\u001b[1B\u001b[1m> root project > Resolve dependencies of :classpath\u001b[m\u001b[51D\u001b[1B\u001b[2A\u001b[1m<\u001b[0;1m-------------> 0% CONFIGURING [208ms]\u001b[m\u001b[38D\u001b[1B\u001b[1m> root project > Resolve files of :classpath\u001b[m\u001b[0K\u001b[44D\u001b[1B\u001b[2A\u001b[1m<\u001b[0;1m-------------> 0% CONFIGURING [308ms]\u001b[m\u001b[38D\u001b[1B\u001b[1m> root project\u001b[m\u001b[0K\u001b[14D\u001b[1B\u001b[2A\u001b[1m<\u001b[0;32;1m=============\u001b[0;39;1m> 100% CONFIGURING [408ms]\u001b[m\u001b[40D\u001b[1B\u001b[1m> Resolve dependencies of :classpath\u001b[m\u001b[36D\u001b[1B\u001b[2A\u001b[1m<\u001b[0;32;1m=============\u001b[0;39;1m> 100% CONFIGURING [509ms]\u001b[m\u001b[40D\u001b[1B> IDLE\u001b[0K\u001b[6D\u001b[1B\u001b[2A\u001b[1m<\u001b[0;1m-------------> 0% EXECUTING [608ms]\u001b[m\u001b[0K\u001b[36D\u001b[1B\u001b[1m> :clean\u001b[m\u001b[8D\u001b[1B\u001b[2A\u001b[1m<\u001b[0;1m-------------> 0% EXECUTING [709ms]\u001b[m\u001b[36D\u001b[2B\u001b[2A\u001b[1m<\u001b[0;32;1m==\u001b[0;39;1m-----------> 21% EXECUTING [808ms]\u001b[m\u001b[37D\u001b[1B\u001b[1m> :mergeDebugResources\u001b[m\u001b[22D\u001b[1B\n",
            "\u001b[1m\u001b[90m[DEBUG]\u001b[39m\u001b[0m:   \t\u001b[3A\u001b[1m<\u001b[0;32;1m===\u001b[0;39;1m----------> 29% EXECUTING [908ms]\u001b[m\u001b[37D\u001b[1B\u001b[1m> :parseDebugLocalResources\u001b[m\u001b[27D\u001b[1B\u001b[1m> :extractDeepLinksDebug\u001b[m\u001b[24D\u001b[1B\u001b[3A\u001b[0K\n",
            "\u001b[1m\u001b[90m[DEBUG]\u001b[39m\u001b[0m:   \t\u001b[1m> Task :processDebugMainManifest\u001b[m\n",
            "\u001b[1m\u001b[90m[DEBUG]\u001b[39m\u001b[0m:   \t/content/.buildozer/android/platform/build-arm64-v8a_armeabi-v7a/dists/open_edope/src/main/AndroidManifest.xml:65:18-50 Warning:\n",
            "\u001b[1m\u001b[90m[DEBUG]\u001b[39m\u001b[0m:   \t        android:extractNativeLibs should not be specified in this source AndroidManifest.xml file. See https://d.android.com/guide/topics/manifest/application-element#extractNativeLibs for more information.\n",
            "\u001b[1m\u001b[90m[DEBUG]\u001b[39m\u001b[0m:   \tThe AGP Upgrade Assistant can remove the attribute from the AndroidManifest.xml file and update the build file accordingly. See https://d.android.com/studio/build/agp-upgrade-assistant for more information.\n",
            "\u001b[1m\u001b[90m[DEBUG]\u001b[39m\u001b[0m:   \t\u001b[0K\n",
            "\u001b[1m\u001b[90m[DEBUG]\u001b[39m\u001b[0m:   \t\u001b[0K\n",
            "\u001b[1m\u001b[90m[DEBUG]\u001b[39m\u001b[0m:   \t\u001b[0K\n",
            "\u001b[1m\u001b[90m[DEBUG]\u001b[39m\u001b[0m:   \t\u001b[3A\u001b[1m<\u001b[0;32;1m======\u001b[0;39;1m-------> 48% EXECUTING [1s]\u001b[m\u001b[34D\u001b[1B\u001b[1m> :processDebugResources\u001b[m\u001b[24D\u001b[1B> IDLE\u001b[6D\u001b[1B\u001b[3A\u001b[1m<\u001b[0;32;1m======\u001b[0;39;1m-------> 51% EXECUTING [1s]\u001b[m\u001b[34D\u001b[2B\u001b[1m> :compressDebugAssets\u001b[m\u001b[22D\u001b[1B\u001b[3A\u001b[1m<\u001b[0;32;1m======\u001b[0;39;1m-------> 53% EXECUTING [1s]\u001b[m\u001b[34D\u001b[2B> IDLE\u001b[0K\u001b[6D\u001b[1B\u001b[3A\u001b[1m<\u001b[0;32;1m========\u001b[0;39;1m-----> 68% EXECUTING [1s]\u001b[m\u001b[34D\u001b[2B\u001b[1m> :mergeDebugJniLibFolders\u001b[m\u001b[26D\u001b[1B\u001b[3A\u001b[1m<\u001b[0;32;1m=========\u001b[0;39;1m----> 70% EXECUTING [1s]\u001b[m\u001b[34D\u001b[1B> IDLE\u001b[0K\u001b[6D\u001b[2B\u001b[3A\u001b[1m<\u001b[0;32;1m=========\u001b[0;39;1m----> 73% EXECUTING [1s]\u001b[m\u001b[34D\u001b[2B\u001b[1m> :compileDebugJavaWithJavac\u001b[m\u001b[28D\u001b[1B\u001b[3A\u001b[1m<\u001b[0;32;1m=========\u001b[0;39;1m----> 73% EXECUTING [2s]\u001b[m\u001b[34D\u001b[3B\u001b[3A\u001b[1m<\u001b[0;32;1m=========\u001b[0;39;1m----> 73% EXECUTING [3s]\u001b[m\u001b[34D\u001b[3B\u001b[3A\u001b[0K\n",
            "\u001b[1m\u001b[90m[DEBUG]\u001b[39m\u001b[0m:   \t\u001b[1m> Task :compileDebugJavaWithJavac\u001b[m\n",
            "\u001b[1m\u001b[90m[DEBUG]\u001b[39m\u001b[0m:   \tNote: Some input files use or override a deprecated API.\n",
            "\u001b[1m\u001b[90m[DEBUG]\u001b[39m\u001b[0m:   \tNote: Recompile with -Xlint:deprecation for details.\n",
            "\u001b[1m\u001b[90m[DEBUG]\u001b[39m\u001b[0m:   \t\u001b[0K\n",
            "\u001b[1m\u001b[90m[DEBUG]\u001b[39m\u001b[0m:   \t\u001b[0K\n",
            "\u001b[1m\u001b[90m[DEBUG]\u001b[39m\u001b[0m:   \t\u001b[0K\n",
            "\u001b[1m\u001b[90m[DEBUG]\u001b[39m\u001b[0m:   \t\u001b[3A\u001b[1m<\u001b[0;32;1m=========\u001b[0;39;1m----> 75% EXECUTING [3s]\u001b[m\u001b[34D\u001b[1B> IDLE\u001b[6D\u001b[1B\u001b[1m> :dexBuilderDebug\u001b[m\u001b[18D\u001b[1B\u001b[3A\u001b[1m<\u001b[0;32;1m=========\u001b[0;39;1m----> 75% EXECUTING [4s]\u001b[m\u001b[34D\u001b[3B\u001b[3A\u001b[1m<\u001b[0;32;1m=========\u001b[0;39;1m----> 75% EXECUTING [5s]\u001b[m\u001b[34D\u001b[3B\u001b[3A\u001b[1m<\u001b[0;32;1m=========\u001b[0;39;1m----> 75% EXECUTING [6s]\u001b[m\u001b[34D\u001b[3B\u001b[3A\u001b[1m<\u001b[0;32;1m==========\u001b[0;39;1m---> 78% EXECUTING [6s]\u001b[m\u001b[34D\u001b[1B\u001b[1m> :mergeDebugNativeLibs\u001b[m\u001b[23D\u001b[1B\u001b[1m> :mergeProjectDexDebug\u001b[m\u001b[23D\u001b[1B\u001b[3A\u001b[1m<\u001b[0;32;1m===========\u001b[0;39;1m--> 85% EXECUTING [6s]\u001b[m\u001b[34D\u001b[2B\u001b[1m> :writeDebugSigningConfigVersions\u001b[m\u001b[34D\u001b[1B\u001b[3A\u001b[1m<\u001b[0;32;1m===========\u001b[0;39;1m--> 87% EXECUTING [6s]\u001b[m\u001b[34D\u001b[2B> IDLE\u001b[0K\u001b[6D\u001b[1B\u001b[3A\u001b[1m<\u001b[0;32;1m===========\u001b[0;39;1m--> 90% EXECUTING [6s]\u001b[m\u001b[34D\u001b[1B\u001b[1m> :stripDebugDebugSymbols\u001b[m\u001b[25D\u001b[2B\u001b[3A\u001b[1m<\u001b[0;32;1m===========\u001b[0;39;1m--> 90% EXECUTING [7s]\u001b[m\u001b[34D\u001b[3B\u001b[3A\u001b[1m<\u001b[0;32;1m============\u001b[0;39;1m-> 92% EXECUTING [7s]\u001b[m\u001b[34D\u001b[1B\u001b[1m> :packageDebug\u001b[m\u001b[0K\u001b[15D\u001b[2B\u001b[3A\u001b[1m<\u001b[0;32;1m============\u001b[0;39;1m-> 92% EXECUTING [8s]\u001b[m\u001b[34D\u001b[3B\u001b[3A\u001b[1m<\u001b[0;32;1m============\u001b[0;39;1m-> 92% EXECUTING [9s]\u001b[m\u001b[34D\u001b[3B\u001b[3A\u001b[1m<\u001b[0;32;1m============\u001b[0;39;1m-> 92% EXECUTING [10s]\u001b[m\u001b[35D\u001b[3B\u001b[3A\u001b[1m<\u001b[0;32;1m============\u001b[0;39;1m-> 92% EXECUTING [11s]\u001b[m\u001b[35D\u001b[3B\u001b[3A\u001b[0K\n",
            "\u001b[1m\u001b[90m[DEBUG]\u001b[39m\u001b[0m:   \tDeprecated Gradle features were used in this build, making it incompatible with Gradle 9.0.\n",
            "\u001b[1m\u001b[90m[DEBUG]\u001b[39m\u001b[0m:   \t\n",
            "\u001b[1m\u001b[90m[DEBUG]\u001b[39m\u001b[0m:   \tYou can use '--warning-mode all' to show the individual deprecation warnings and determine if they come from your own scripts or plugins.\n",
            "\u001b[1m\u001b[90m[DEBUG]\u001b[39m\u001b[0m:   \t\n",
            "\u001b[1m\u001b[90m[DEBUG]\u001b[39m\u001b[0m:   \tSee https://docs.gradle.org/8.0.2/userguide/command_line_interface.html#sec:command_line_warnings\n",
            "\u001b[1m\u001b[90m[DEBUG]\u001b[39m\u001b[0m:   \t\n",
            "\u001b[1m\u001b[90m[DEBUG]\u001b[39m\u001b[0m:   \t\u001b[32;1mBUILD SUCCESSFUL\u001b[0;39m in 12s\n",
            "\u001b[1m\u001b[90m[DEBUG]\u001b[39m\u001b[0m:   \t33 actionable tasks: 33 executed\n",
            "\u001b[1m\u001b[90m[DEBUG]\u001b[39m\u001b[0m:   \t\u001b[0K\n",
            "\u001b[1m\u001b[90m[DEBUG]\u001b[39m\u001b[0m:   \t\u001b[0K\n",
            "\u001b[1m\u001b[90m[DEBUG]\u001b[39m\u001b[0m:   \t\u001b[0K\n",
            "\u001b[1m\u001b[90m[DEBUG]\u001b[39m\u001b[0m:   \t\u001b[3A\u001b[1m<\u001b[0;32;1m=============\u001b[0;39;1m> 100% EXECUTING [11s]\u001b[m\u001b[36D\u001b[1B> IDLE\u001b[6D\u001b[1B> IDLE\u001b[6D\u001b[1B\u001b[3A\u001b[1m<\u001b[0;1m-------------> 0% WAITING\u001b[m\u001b[0K\u001b[26D\u001b[3B\u001b[3A\u001b[2K\u001b[1B\u001b[2K\u001b[1B\u001b[2K\u001b[2A\u001b[m\n",
            "\u001b[1m[INFO]\u001b[0m:    \u001b[36m<- directory context /content/.buildozer/android/platform/python-for-android\u001b[39m\n",
            "\u001b[1m\u001b[90m[DEBUG]\u001b[39m\u001b[0m:   All possible dists: [<Distribution: name open_edope with recipes (freetype, hostpython3, jpeg, libffi, openssl, png, sdl2_image, sdl2_mixer, sdl2_ttf, sqlite3, python3, sdl2, setuptools, pillow, six, pyjnius, android, kivy, urllib3, requests, plyer, idna, chardet, kivymd, certifi)>]\n",
            "\u001b[1m\u001b[90m[DEBUG]\u001b[39m\u001b[0m:   Dist matching name and arch: [<Distribution: name open_edope with recipes (freetype, hostpython3, jpeg, libffi, openssl, png, sdl2_image, sdl2_mixer, sdl2_ttf, sqlite3, python3, sdl2, setuptools, pillow, six, pyjnius, android, kivy, urllib3, requests, plyer, idna, chardet, kivymd, certifi)>]\n",
            "\u001b[1m\u001b[90m[DEBUG]\u001b[39m\u001b[0m:   Dist matching ndk_api and recipe: [<Distribution: name open_edope with recipes (freetype, hostpython3, jpeg, libffi, openssl, png, sdl2_image, sdl2_mixer, sdl2_ttf, sqlite3, python3, sdl2, setuptools, pillow, six, pyjnius, android, kivy, urllib3, requests, plyer, idna, chardet, kivymd, certifi)>]\n",
            "\u001b[1m[INFO]\u001b[0m:    Of the existing distributions, the following meet the given requirements:\n",
            "\u001b[1m[INFO]\u001b[0m:    \t\u001b[32m\u001b[1mopen_edope\u001b[0m: min API 21, includes recipes (\u001b[32mfreetype, hostpython3, jpeg, libffi, openssl, png, sdl2_image, sdl2_mixer, sdl2_ttf, sqlite3, python3, sdl2, setuptools, pillow, six, pyjnius, android, kivy, urllib3, requests, plyer, idna, chardet, kivymd, certifi\u001b[0m), built for archs (\u001b[34marmeabi-v7a, arm64-v8a\u001b[0m)\n",
            "\u001b[1m[INFO]\u001b[0m:    \u001b[1m\u001b[94mopen_edope has compatible recipes, using this one\u001b[0m\n",
            "\u001b[1m[INFO]\u001b[0m:    \u001b[1m\u001b[32m# Copying android package to current directory\u001b[0m\u001b[39m\n",
            "\u001b[1m[INFO]\u001b[0m:    \u001b[1m\u001b[32m# Android package filename not found in build output. Guessing...\u001b[0m\u001b[39m\n",
            "\u001b[1m[INFO]\u001b[0m:    \u001b[1m\u001b[32m# Found android package file: /content/.buildozer/android/platform/build-arm64-v8a_armeabi-v7a/dists/open_edope/build/outputs/apk/debug/open_edope-debug.apk\u001b[0m\u001b[39m\n",
            "\u001b[1m[INFO]\u001b[0m:    # Add version number to android package\n",
            "\u001b[1m[INFO]\u001b[0m:    # Android package renamed to open_edope-debug-1.0.apk\n",
            "stty: 'standard input': Inappropriate ioctl for device\n",
            "\u001b[1m\u001b[90m[DEBUG]\u001b[39m\u001b[0m:   \u001b[90m->\u001b[0m running cp /content/.buildozer/android/platform/build-arm64-v8a_armeabi-v7a/dists/open_edope/build/outputs/apk/debug/open_edope-debug.apk open_edope-debug-1.0.apk\u001b[0m\n",
            "No setup.py/pyproject.toml used, copying full private data into .apk.\n",
            "Applying Java source code patches...\n",
            "Applying patch: src/patches/SDLActivity.java.patch\n",
            "Warning: failed to apply patch (exit code 1), assuming it is already applied:  src/patches/SDLActivity.java.patch\n",
            "\u001b[39m\u001b[0m\u001b[36m# Android packaging done!\u001b[39m\u001b[0m\n",
            "\u001b[39m\u001b[0m\u001b[36m# APK open_edope-1.0-arm64-v8a_armeabi-v7a-debug.apk available in the bin directory\u001b[39m\u001b[0m\n",
            "\u001b[0m"
          ]
        }
      ],
      "source": [
        "!yes | buildozer -v android debug"
      ]
    },
    {
      "cell_type": "code",
      "execution_count": 38,
      "metadata": {
        "id": "aD_LcBHhZIAM",
        "outputId": "5e99e699-de2c-46c9-a835-d97ce6b3d23c",
        "colab": {
          "base_uri": "https://localhost:8080/",
          "height": 34
        }
      },
      "outputs": [
        {
          "output_type": "display_data",
          "data": {
            "text/plain": [
              "<IPython.core.display.Javascript object>"
            ],
            "application/javascript": [
              "\n",
              "    async function download(id, filename, size) {\n",
              "      if (!google.colab.kernel.accessAllowed) {\n",
              "        return;\n",
              "      }\n",
              "      const div = document.createElement('div');\n",
              "      const label = document.createElement('label');\n",
              "      label.textContent = `Downloading \"${filename}\": `;\n",
              "      div.appendChild(label);\n",
              "      const progress = document.createElement('progress');\n",
              "      progress.max = size;\n",
              "      div.appendChild(progress);\n",
              "      document.body.appendChild(div);\n",
              "\n",
              "      const buffers = [];\n",
              "      let downloaded = 0;\n",
              "\n",
              "      const channel = await google.colab.kernel.comms.open(id);\n",
              "      // Send a message to notify the kernel that we're ready.\n",
              "      channel.send({})\n",
              "\n",
              "      for await (const message of channel.messages) {\n",
              "        // Send a message to notify the kernel that we're ready.\n",
              "        channel.send({})\n",
              "        if (message.buffers) {\n",
              "          for (const buffer of message.buffers) {\n",
              "            buffers.push(buffer);\n",
              "            downloaded += buffer.byteLength;\n",
              "            progress.value = downloaded;\n",
              "          }\n",
              "        }\n",
              "      }\n",
              "      const blob = new Blob(buffers, {type: 'application/binary'});\n",
              "      const a = document.createElement('a');\n",
              "      a.href = window.URL.createObjectURL(blob);\n",
              "      a.download = filename;\n",
              "      div.appendChild(a);\n",
              "      a.click();\n",
              "      div.remove();\n",
              "    }\n",
              "  "
            ]
          },
          "metadata": {}
        },
        {
          "output_type": "display_data",
          "data": {
            "text/plain": [
              "<IPython.core.display.Javascript object>"
            ],
            "application/javascript": [
              "download(\"download_a4df5539-4d9a-411b-824d-df41d98e8c27\", \"open_edope-1.0-arm64-v8a_armeabi-v7a-debug.apk\", 43808378)"
            ]
          },
          "metadata": {}
        }
      ],
      "source": [
        "from google.colab import files\n",
        "files.download('bin/open_edope-1.0-arm64-v8a_armeabi-v7a-debug.apk')"
      ]
    }
  ],
  "metadata": {
    "colab": {
      "provenance": [],
      "include_colab_link": true
    },
    "kernelspec": {
      "display_name": "Python 3",
      "name": "python3"
    },
    "language_info": {
      "name": "python"
    }
  },
  "nbformat": 4,
  "nbformat_minor": 0
}