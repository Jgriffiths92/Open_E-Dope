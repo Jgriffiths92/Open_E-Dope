{
  "cells": [
    {
      "cell_type": "markdown",
      "metadata": {
        "id": "view-in-github",
        "colab_type": "text"
      },
      "source": [
        "<a href=\"https://colab.research.google.com/github/Jgriffiths92/Open_E-Dope/blob/master/Kivy_App_To_APK.ipynb\" target=\"_parent\"><img src=\"https://colab.research.google.com/assets/colab-badge.svg\" alt=\"Open In Colab\"/></a>"
      ]
    },
    {
      "cell_type": "code",
      "execution_count": null,
      "metadata": {
        "id": "esRK2FDYHHxS"
      },
      "outputs": [],
      "source": [
        "!pip install buildozer"
      ]
    },
    {
      "cell_type": "code",
      "execution_count": null,
      "metadata": {
        "id": "dotCHcJtHOnF"
      },
      "outputs": [],
      "source": [
        "#!pip install cython"
      ]
    },
    {
      "cell_type": "code",
      "execution_count": null,
      "metadata": {
        "id": "zmT88qNYPDQd"
      },
      "outputs": [],
      "source": [
        "!sudo apt install -y git zip unzip openjdk-17-jdk python3-pip autoconf libtool pkg-config zlib1g-dev libncurses5-dev libncursesw5-dev libtinfo5 cmake libffi-dev libssl-dev\n",
        "!pip3 install --upgrade Cython==0.29.33 virtualenv  # the --user should be removed if you do this in a virtual enviroment"
      ]
    },
    {
      "cell_type": "code",
      "execution_count": null,
      "metadata": {
        "id": "ozxjnAHffL6s"
      },
      "outputs": [],
      "source": [
        "!pip install kivymd"
      ]
    },
    {
      "cell_type": "code",
      "execution_count": null,
      "metadata": {
        "id": "fPk201JDHRcF"
      },
      "outputs": [],
      "source": [
        "!sudo apt-get install -y \\\n",
        "    python3-pip \\\n",
        "    build-essential \\\n",
        "    git \\\n",
        "    python3 \\\n",
        "    python3-dev \\\n",
        "    ffmpeg \\\n",
        "    libsdl2-dev \\\n",
        "    libsdl2-image-dev \\\n",
        "    libsdl2-mixer-dev \\\n",
        "    libsdl2-ttf-dev \\\n",
        "    libportmidi-dev \\\n",
        "    libswscale-dev \\\n",
        "    libavformat-dev \\\n",
        "    libavcodec-dev \\\n",
        "    zlib1g-dev"
      ]
    },
    {
      "cell_type": "code",
      "execution_count": null,
      "metadata": {
        "id": "LHmN0gZvHSXd"
      },
      "outputs": [],
      "source": [
        "!sudo apt-get install -y \\\n",
        "    libgstreamer1.0 \\\n",
        "    gstreamer1.0-plugins-base \\\n",
        "    gstreamer1.0-plugins-good"
      ]
    },
    {
      "cell_type": "code",
      "execution_count": null,
      "metadata": {
        "id": "70-a3f8mMRk5"
      },
      "outputs": [],
      "source": [
        "!sudo apt-get install libffi7\n",
        "!sudo apt-get install build-essential libsqlite3-dev sqlite3 bzip2 libbz2-dev zlib1g-dev libssl-dev openssl libgdbm-dev libgdbm-compat-dev liblzma-dev libreadline-dev libncursesw5-dev libffi-dev uuid-dev libffi7"
      ]
    },
    {
      "cell_type": "code",
      "execution_count": null,
      "metadata": {
        "id": "elrRZQ-fHUF1"
      },
      "outputs": [],
      "source": [
        "#!sudo apt-get install build-essential libsqlite3-dev sqlite3 bzip2 libbz2-dev zlib1g-dev libssl-dev openssl libgdbm-dev libgdbm-compat-dev liblzma-dev libreadline-dev libncursesw5-dev libffi-dev uuid-dev libffi7"
      ]
    },
    {
      "cell_type": "code",
      "execution_count": null,
      "metadata": {
        "id": "V3JJyY3NHVz1"
      },
      "outputs": [],
      "source": [
        "!sudo apt-get install libffi-dev"
      ]
    },
    {
      "cell_type": "code",
      "execution_count": null,
      "metadata": {
        "id": "sbL2gpx8HZ7t"
      },
      "outputs": [],
      "source": [
        "!yes | buildozer android clean"
      ]
    },
    {
      "cell_type": "markdown",
      "metadata": {
        "id": "wfE7YJZUCnou"
      },
      "source": [
        "then run the below lines"
      ]
    },
    {
      "cell_type": "code",
      "execution_count": 21,
      "metadata": {
        "id": "4t7ncrP4Yg10"
      },
      "outputs": [],
      "source": [
        "!rm -rf Open_E-Dope\n",
        "!rm -rf sample_data/\n",
        "!rm -rf bin/\n",
        "!rm -rf main.py\n",
        "!rm -rf buildozer.spec\n",
        "!rm -rf layout.kv\n",
        "!rm -rf extra_manifest.xml\n",
        "!rm -rf extra_intents.xml\n",
        "!rm -rf assets\n",
        "!rm -rf app\n",
        "!rm -rf res\n",
        "!rm -rf circularprogressbar.py"
      ]
    },
    {
      "cell_type": "code",
      "execution_count": null,
      "metadata": {
        "collapsed": true,
        "id": "OsT26_KLV4dI"
      },
      "outputs": [],
      "source": [
        "!git clone https://github.com/Jgriffiths92/Open_E-Dope.git"
      ]
    },
    {
      "cell_type": "code",
      "execution_count": null,
      "metadata": {
        "id": "Srpmf30vl-vX"
      },
      "outputs": [],
      "source": [
        "!mv /content/Open_E-Dope/main.py  ../content/\n",
        "!mv /content/Open_E-Dope/buildozer.spec  ../content/\n",
        "!mv /content/Open_E-Dope/layout.kv  ../content/\n",
        "!mv /content/Open_E-Dope/extra_manifest.xml  ../content/\n",
        "!mv /content/Open_E-Dope/extra_intents.xml  ../content/\n",
        "!mv /content/Open_E-Dope/assets  ../content/\n",
        "!mv /content/Open_E-Dope/app  ../content/\n",
        "!mv /content/Open_E-Dope/res  ../content/\n",
        "!mv /content/Open_E-Dope/circularprogressbar.py  ../content/"
      ]
    },
    {
      "cell_type": "code",
      "execution_count": null,
      "metadata": {
        "id": "kbwtcLV1HXpF"
      },
      "outputs": [],
      "source": [
        "!yes | buildozer init"
      ]
    },
    {
      "cell_type": "code",
      "execution_count": null,
      "metadata": {
        "collapsed": true,
        "id": "Z1pqOWngHY0O"
      },
      "outputs": [],
      "source": [
        "!yes | buildozer -v android debug"
      ]
    },
    {
      "cell_type": "code",
      "execution_count": 20,
      "metadata": {
        "id": "aD_LcBHhZIAM",
        "outputId": "1f99986c-c982-4342-84c0-4500c79ee633",
        "colab": {
          "base_uri": "https://localhost:8080/",
          "height": 17
        }
      },
      "outputs": [
        {
          "output_type": "display_data",
          "data": {
            "text/plain": [
              "<IPython.core.display.Javascript object>"
            ],
            "application/javascript": [
              "\n",
              "    async function download(id, filename, size) {\n",
              "      if (!google.colab.kernel.accessAllowed) {\n",
              "        return;\n",
              "      }\n",
              "      const div = document.createElement('div');\n",
              "      const label = document.createElement('label');\n",
              "      label.textContent = `Downloading \"${filename}\": `;\n",
              "      div.appendChild(label);\n",
              "      const progress = document.createElement('progress');\n",
              "      progress.max = size;\n",
              "      div.appendChild(progress);\n",
              "      document.body.appendChild(div);\n",
              "\n",
              "      const buffers = [];\n",
              "      let downloaded = 0;\n",
              "\n",
              "      const channel = await google.colab.kernel.comms.open(id);\n",
              "      // Send a message to notify the kernel that we're ready.\n",
              "      channel.send({})\n",
              "\n",
              "      for await (const message of channel.messages) {\n",
              "        // Send a message to notify the kernel that we're ready.\n",
              "        channel.send({})\n",
              "        if (message.buffers) {\n",
              "          for (const buffer of message.buffers) {\n",
              "            buffers.push(buffer);\n",
              "            downloaded += buffer.byteLength;\n",
              "            progress.value = downloaded;\n",
              "          }\n",
              "        }\n",
              "      }\n",
              "      const blob = new Blob(buffers, {type: 'application/binary'});\n",
              "      const a = document.createElement('a');\n",
              "      a.href = window.URL.createObjectURL(blob);\n",
              "      a.download = filename;\n",
              "      div.appendChild(a);\n",
              "      a.click();\n",
              "      div.remove();\n",
              "    }\n",
              "  "
            ]
          },
          "metadata": {}
        },
        {
          "output_type": "display_data",
          "data": {
            "text/plain": [
              "<IPython.core.display.Javascript object>"
            ],
            "application/javascript": [
              "download(\"download_0cd0964f-5e2a-4a92-9a0f-db3e942ec20c\", \"open_edope-1.0-arm64-v8a_armeabi-v7a-debug.apk\", 43980848)"
            ]
          },
          "metadata": {}
        }
      ],
      "source": [
        "from google.colab import files\n",
        "files.download('bin/open_edope-1.0-arm64-v8a_armeabi-v7a-debug.apk')"
      ]
    }
  ],
  "metadata": {
    "colab": {
      "provenance": [],
      "include_colab_link": true
    },
    "kernelspec": {
      "display_name": "Python 3",
      "name": "python3"
    },
    "language_info": {
      "name": "python"
    }
  },
  "nbformat": 4,
  "nbformat_minor": 0
}
