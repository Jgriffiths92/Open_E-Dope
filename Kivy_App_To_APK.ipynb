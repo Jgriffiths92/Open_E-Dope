{
  "cells": [
    {
      "cell_type": "markdown",
      "metadata": {
        "id": "view-in-github",
        "colab_type": "text"
      },
      "source": [
        "<a href=\"https://colab.research.google.com/github/Jgriffiths92/Open_E-Dope/blob/master/Kivy_App_To_APK.ipynb\" target=\"_parent\"><img src=\"https://colab.research.google.com/assets/colab-badge.svg\" alt=\"Open In Colab\"/></a>"
      ]
    },
    {
      "cell_type": "markdown",
      "source": [
        "If still connected run the first 4 lines"
      ],
      "metadata": {
        "id": "ggWn7A0kCSHM"
      }
    },
    {
      "cell_type": "code",
      "execution_count": 18,
      "metadata": {
        "id": "4t7ncrP4Yg10"
      },
      "outputs": [],
      "source": [
        "!rm -rf Open_E-Dope\n",
        "!rm -rf sample_data/\n",
        "!rm -rf bin/\n",
        "!rm -rf main.py\n",
        "!rm -rf buildozer.spec\n",
        "!rm -rf layout.kv\n",
        "!rm -rf extra_manifest.xml\n",
        "!rm -rf assets\n",
        "!rm -rf app\n",
        "!rm -rf res"
      ]
    },
    {
      "cell_type": "code",
      "execution_count": 19,
      "metadata": {
        "colab": {
          "base_uri": "https://localhost:8080/"
        },
        "id": "OsT26_KLV4dI",
        "outputId": "0476825b-4160-472f-c5e3-a5af187471c5"
      },
      "outputs": [
        {
          "output_type": "stream",
          "name": "stdout",
          "text": [
            "Cloning into 'Open_E-Dope'...\n",
            "remote: Enumerating objects: 1927, done.\u001b[K\n",
            "remote: Counting objects: 100% (153/153), done.\u001b[K\n",
            "remote: Compressing objects: 100% (91/91), done.\u001b[K\n",
            "remote: Total 1927 (delta 61), reused 93 (delta 32), pack-reused 1774 (from 2)\u001b[K\n",
            "Receiving objects: 100% (1927/1927), 4.80 MiB | 7.92 MiB/s, done.\n",
            "Resolving deltas: 100% (1045/1045), done.\n"
          ]
        }
      ],
      "source": [
        "!git clone https://github.com/Jgriffiths92/Open_E-Dope.git"
      ]
    },
    {
      "cell_type": "code",
      "execution_count": null,
      "metadata": {
        "id": "gMWMv07VpEaD"
      },
      "outputs": [],
      "source": [
        "!rm -rf sample_data/"
      ]
    },
    {
      "cell_type": "code",
      "execution_count": 20,
      "metadata": {
        "id": "Srpmf30vl-vX"
      },
      "outputs": [],
      "source": [
        "!mv /content/Open_E-Dope/main.py  ../content/\n",
        "!mv /content/Open_E-Dope/buildozer.spec  ../content/\n",
        "!mv /content/Open_E-Dope/layout.kv  ../content/\n",
        "!mv /content/Open_E-Dope/extra_manifest.xml  ../content/\n",
        "!mv /content/Open_E-Dope/assets  ../content/\n",
        "!mv /content/Open_E-Dope/app  ../content/\n",
        "!mv /content/Open_E-Dope/res  ../content/"
      ]
    },
    {
      "cell_type": "code",
      "execution_count": null,
      "metadata": {
        "colab": {
          "base_uri": "https://localhost:8080/"
        },
        "id": "esRK2FDYHHxS",
        "outputId": "e58380a1-07d9-4e89-f9c0-22a75a6d9400"
      },
      "outputs": [
        {
          "output_type": "stream",
          "name": "stdout",
          "text": [
            "Requirement already satisfied: buildozer in /usr/local/lib/python3.11/dist-packages (1.5.0)\n",
            "Requirement already satisfied: pexpect in /usr/local/lib/python3.11/dist-packages (from buildozer) (4.9.0)\n",
            "Requirement already satisfied: virtualenv in /usr/local/lib/python3.11/dist-packages (from buildozer) (20.31.2)\n",
            "Requirement already satisfied: sh in /root/.local/lib/python3.11/site-packages (from buildozer) (1.14.3)\n",
            "Requirement already satisfied: ptyprocess>=0.5 in /usr/local/lib/python3.11/dist-packages (from pexpect->buildozer) (0.7.0)\n",
            "Requirement already satisfied: distlib<1,>=0.3.7 in /usr/local/lib/python3.11/dist-packages (from virtualenv->buildozer) (0.3.9)\n",
            "Requirement already satisfied: filelock<4,>=3.12.2 in /usr/local/lib/python3.11/dist-packages (from virtualenv->buildozer) (3.18.0)\n",
            "Requirement already satisfied: platformdirs<5,>=3.9.1 in /usr/local/lib/python3.11/dist-packages (from virtualenv->buildozer) (4.3.8)\n"
          ]
        }
      ],
      "source": [
        "!pip install buildozer"
      ]
    },
    {
      "cell_type": "code",
      "execution_count": null,
      "metadata": {
        "id": "dotCHcJtHOnF"
      },
      "outputs": [],
      "source": [
        "#!pip install cython"
      ]
    },
    {
      "cell_type": "code",
      "execution_count": null,
      "metadata": {
        "colab": {
          "base_uri": "https://localhost:8080/"
        },
        "id": "zmT88qNYPDQd",
        "outputId": "8208db87-a503-416a-845c-8fa0ff4fa8f7"
      },
      "outputs": [
        {
          "output_type": "stream",
          "name": "stdout",
          "text": [
            "Reading package lists... Done\n",
            "Building dependency tree... Done\n",
            "Reading state information... Done\n",
            "autoconf is already the newest version (2.71-2).\n",
            "libffi-dev is already the newest version (3.4.2-4).\n",
            "libtool is already the newest version (2.4.6-15build2).\n",
            "pkg-config is already the newest version (0.29.2-1ubuntu3).\n",
            "zip is already the newest version (3.0-12build2).\n",
            "cmake is already the newest version (3.22.1-1ubuntu1.22.04.2).\n",
            "git is already the newest version (1:2.34.1-1ubuntu1.12).\n",
            "libncurses5-dev is already the newest version (6.3-2ubuntu0.1).\n",
            "libncursesw5-dev is already the newest version (6.3-2ubuntu0.1).\n",
            "libssl-dev is already the newest version (3.0.2-0ubuntu1.19).\n",
            "unzip is already the newest version (6.0-26ubuntu3.2).\n",
            "zlib1g-dev is already the newest version (1:1.2.11.dfsg-2ubuntu9.2).\n",
            "libtinfo5 is already the newest version (6.3-2ubuntu0.1).\n",
            "openjdk-17-jdk is already the newest version (17.0.15+6~us1-0ubuntu1~22.04).\n",
            "python3-pip is already the newest version (22.0.2+dfsg-1ubuntu0.5).\n",
            "The following package was automatically installed and is no longer required:\n",
            "  libpkgconf3\n",
            "Use 'sudo apt autoremove' to remove it.\n",
            "0 upgraded, 0 newly installed, 0 to remove and 32 not upgraded.\n",
            "Requirement already satisfied: Cython==0.29.33 in /usr/local/lib/python3.11/dist-packages (0.29.33)\n",
            "Requirement already satisfied: virtualenv in /usr/local/lib/python3.11/dist-packages (20.31.2)\n",
            "Requirement already satisfied: distlib<1,>=0.3.7 in /usr/local/lib/python3.11/dist-packages (from virtualenv) (0.3.9)\n",
            "Requirement already satisfied: filelock<4,>=3.12.2 in /usr/local/lib/python3.11/dist-packages (from virtualenv) (3.18.0)\n",
            "Requirement already satisfied: platformdirs<5,>=3.9.1 in /usr/local/lib/python3.11/dist-packages (from virtualenv) (4.3.8)\n"
          ]
        }
      ],
      "source": [
        "!sudo apt install -y git zip unzip openjdk-17-jdk python3-pip autoconf libtool pkg-config zlib1g-dev libncurses5-dev libncursesw5-dev libtinfo5 cmake libffi-dev libssl-dev\n",
        "!pip3 install --upgrade Cython==0.29.33 virtualenv  # the --user should be removed if you do this in a virtual enviroment"
      ]
    },
    {
      "cell_type": "code",
      "execution_count": null,
      "metadata": {
        "id": "ozxjnAHffL6s",
        "outputId": "81fb20bb-5231-4d50-e1f0-7ef30d432994",
        "colab": {
          "base_uri": "https://localhost:8080/"
        }
      },
      "outputs": [
        {
          "output_type": "stream",
          "name": "stdout",
          "text": [
            "Requirement already satisfied: kivymd in /usr/local/lib/python3.11/dist-packages (1.2.0)\n",
            "Requirement already satisfied: kivy>=2.2.0 in /usr/local/lib/python3.11/dist-packages (from kivymd) (2.3.1)\n",
            "Requirement already satisfied: pillow in /usr/local/lib/python3.11/dist-packages (from kivymd) (11.2.1)\n",
            "Requirement already satisfied: Kivy-Garden>=0.1.4 in /usr/local/lib/python3.11/dist-packages (from kivy>=2.2.0->kivymd) (0.1.5)\n",
            "Requirement already satisfied: docutils in /usr/local/lib/python3.11/dist-packages (from kivy>=2.2.0->kivymd) (0.21.2)\n",
            "Requirement already satisfied: pygments in /usr/local/lib/python3.11/dist-packages (from kivy>=2.2.0->kivymd) (2.19.1)\n",
            "Requirement already satisfied: requests in /usr/local/lib/python3.11/dist-packages (from kivy>=2.2.0->kivymd) (2.32.3)\n",
            "Requirement already satisfied: filetype in /usr/local/lib/python3.11/dist-packages (from kivy>=2.2.0->kivymd) (1.2.0)\n",
            "Requirement already satisfied: charset-normalizer<4,>=2 in /usr/local/lib/python3.11/dist-packages (from requests->kivy>=2.2.0->kivymd) (3.4.2)\n",
            "Requirement already satisfied: idna<4,>=2.5 in /usr/local/lib/python3.11/dist-packages (from requests->kivy>=2.2.0->kivymd) (3.10)\n",
            "Requirement already satisfied: urllib3<3,>=1.21.1 in /usr/local/lib/python3.11/dist-packages (from requests->kivy>=2.2.0->kivymd) (2.4.0)\n",
            "Requirement already satisfied: certifi>=2017.4.17 in /usr/local/lib/python3.11/dist-packages (from requests->kivy>=2.2.0->kivymd) (2025.4.26)\n"
          ]
        }
      ],
      "source": [
        "!pip install kivymd"
      ]
    },
    {
      "cell_type": "code",
      "execution_count": null,
      "metadata": {
        "id": "fPk201JDHRcF",
        "outputId": "441594e5-77d6-4136-f68f-8bddc0d1e1e8",
        "colab": {
          "base_uri": "https://localhost:8080/"
        }
      },
      "outputs": [
        {
          "output_type": "stream",
          "name": "stdout",
          "text": [
            "Reading package lists... Done\n",
            "Building dependency tree... Done\n",
            "Reading state information... Done\n",
            "build-essential is already the newest version (12.9ubuntu3).\n",
            "libportmidi-dev is already the newest version (1:217-6).\n",
            "libsdl2-image-dev is already the newest version (2.0.5+dfsg1-3build1).\n",
            "libsdl2-mixer-dev is already the newest version (2.0.4+dfsg1-4build1).\n",
            "libsdl2-ttf-dev is already the newest version (2.0.18+dfsg-2).\n",
            "git is already the newest version (1:2.34.1-1ubuntu1.12).\n",
            "python3 is already the newest version (3.10.6-1~22.04.1).\n",
            "python3-dev is already the newest version (3.10.6-1~22.04.1).\n",
            "zlib1g-dev is already the newest version (1:1.2.11.dfsg-2ubuntu9.2).\n",
            "ffmpeg is already the newest version (7:4.4.2-0ubuntu0.22.04.1).\n",
            "libavcodec-dev is already the newest version (7:4.4.2-0ubuntu0.22.04.1).\n",
            "libavformat-dev is already the newest version (7:4.4.2-0ubuntu0.22.04.1).\n",
            "libsdl2-dev is already the newest version (2.0.20+dfsg-2ubuntu1.22.04.1).\n",
            "libswscale-dev is already the newest version (7:4.4.2-0ubuntu0.22.04.1).\n",
            "python3-pip is already the newest version (22.0.2+dfsg-1ubuntu0.5).\n",
            "The following package was automatically installed and is no longer required:\n",
            "  libpkgconf3\n",
            "Use 'sudo apt autoremove' to remove it.\n",
            "0 upgraded, 0 newly installed, 0 to remove and 32 not upgraded.\n"
          ]
        }
      ],
      "source": [
        "!sudo apt-get install -y \\\n",
        "    python3-pip \\\n",
        "    build-essential \\\n",
        "    git \\\n",
        "    python3 \\\n",
        "    python3-dev \\\n",
        "    ffmpeg \\\n",
        "    libsdl2-dev \\\n",
        "    libsdl2-image-dev \\\n",
        "    libsdl2-mixer-dev \\\n",
        "    libsdl2-ttf-dev \\\n",
        "    libportmidi-dev \\\n",
        "    libswscale-dev \\\n",
        "    libavformat-dev \\\n",
        "    libavcodec-dev \\\n",
        "    zlib1g-dev"
      ]
    },
    {
      "cell_type": "code",
      "execution_count": null,
      "metadata": {
        "id": "LHmN0gZvHSXd",
        "outputId": "007b8a71-8229-4881-d842-11e3157cc87e",
        "colab": {
          "base_uri": "https://localhost:8080/"
        }
      },
      "outputs": [
        {
          "output_type": "stream",
          "name": "stdout",
          "text": [
            "Reading package lists... Done\n",
            "Building dependency tree... Done\n",
            "Reading state information... Done\n",
            "Note, selecting 'libgstreamer1.0-dev' for regex 'libgstreamer1.0'\n",
            "Note, selecting 'libgstreamer1.0-0' for regex 'libgstreamer1.0'\n",
            "gstreamer1.0-plugins-base is already the newest version (1.20.1-1ubuntu0.4).\n",
            "gstreamer1.0-plugins-good is already the newest version (1.20.3-0ubuntu1.3).\n",
            "libgstreamer1.0-0 is already the newest version (1.20.3-0ubuntu1.1).\n",
            "libgstreamer1.0-dev is already the newest version (1.20.3-0ubuntu1.1).\n",
            "The following package was automatically installed and is no longer required:\n",
            "  libpkgconf3\n",
            "Use 'sudo apt autoremove' to remove it.\n",
            "0 upgraded, 0 newly installed, 0 to remove and 32 not upgraded.\n"
          ]
        }
      ],
      "source": [
        "!sudo apt-get install -y \\\n",
        "    libgstreamer1.0 \\\n",
        "    gstreamer1.0-plugins-base \\\n",
        "    gstreamer1.0-plugins-good"
      ]
    },
    {
      "cell_type": "code",
      "execution_count": null,
      "metadata": {
        "id": "70-a3f8mMRk5",
        "outputId": "9373b5c5-5852-4d39-dcaa-4c221f75253b",
        "colab": {
          "base_uri": "https://localhost:8080/"
        }
      },
      "outputs": [
        {
          "output_type": "stream",
          "name": "stdout",
          "text": [
            "Reading package lists... Done\n",
            "Building dependency tree... Done\n",
            "Reading state information... Done\n",
            "libffi7 is already the newest version (3.3-5ubuntu1).\n",
            "The following package was automatically installed and is no longer required:\n",
            "  libpkgconf3\n",
            "Use 'sudo apt autoremove' to remove it.\n",
            "0 upgraded, 0 newly installed, 0 to remove and 32 not upgraded.\n",
            "Reading package lists... Done\n",
            "Building dependency tree... Done\n",
            "Reading state information... Done\n",
            "build-essential is already the newest version (12.9ubuntu3).\n",
            "bzip2 is already the newest version (1.0.8-5build1).\n",
            "libbz2-dev is already the newest version (1.0.8-5build1).\n",
            "libffi-dev is already the newest version (3.4.2-4).\n",
            "libgdbm-compat-dev is already the newest version (1.23-1).\n",
            "libgdbm-dev is already the newest version (1.23-1).\n",
            "liblzma-dev is already the newest version (5.2.5-2ubuntu1).\n",
            "libreadline-dev is already the newest version (8.1.2-1).\n",
            "libffi7 is already the newest version (3.3-5ubuntu1).\n",
            "libncursesw5-dev is already the newest version (6.3-2ubuntu0.1).\n",
            "libsqlite3-dev is already the newest version (3.37.2-2ubuntu0.3).\n",
            "libssl-dev is already the newest version (3.0.2-0ubuntu1.19).\n",
            "openssl is already the newest version (3.0.2-0ubuntu1.19).\n",
            "openssl set to manually installed.\n",
            "sqlite3 is already the newest version (3.37.2-2ubuntu0.3).\n",
            "uuid-dev is already the newest version (2.37.2-4ubuntu3.4).\n",
            "zlib1g-dev is already the newest version (1:1.2.11.dfsg-2ubuntu9.2).\n",
            "The following package was automatically installed and is no longer required:\n",
            "  libpkgconf3\n",
            "Use 'sudo apt autoremove' to remove it.\n",
            "0 upgraded, 0 newly installed, 0 to remove and 32 not upgraded.\n"
          ]
        }
      ],
      "source": [
        "!sudo apt-get install libffi7\n",
        "!sudo apt-get install build-essential libsqlite3-dev sqlite3 bzip2 libbz2-dev zlib1g-dev libssl-dev openssl libgdbm-dev libgdbm-compat-dev liblzma-dev libreadline-dev libncursesw5-dev libffi-dev uuid-dev libffi7"
      ]
    },
    {
      "cell_type": "code",
      "execution_count": null,
      "metadata": {
        "id": "elrRZQ-fHUF1"
      },
      "outputs": [],
      "source": [
        "#!sudo apt-get install build-essential libsqlite3-dev sqlite3 bzip2 libbz2-dev zlib1g-dev libssl-dev openssl libgdbm-dev libgdbm-compat-dev liblzma-dev libreadline-dev libncursesw5-dev libffi-dev uuid-dev libffi7"
      ]
    },
    {
      "cell_type": "code",
      "execution_count": null,
      "metadata": {
        "id": "V3JJyY3NHVz1",
        "outputId": "0a98eb9c-5898-40eb-f631-dc91110470fb",
        "colab": {
          "base_uri": "https://localhost:8080/"
        }
      },
      "outputs": [
        {
          "output_type": "stream",
          "name": "stdout",
          "text": [
            "Reading package lists... Done\n",
            "Building dependency tree... Done\n",
            "Reading state information... Done\n",
            "libffi-dev is already the newest version (3.4.2-4).\n",
            "The following package was automatically installed and is no longer required:\n",
            "  libpkgconf3\n",
            "Use 'sudo apt autoremove' to remove it.\n",
            "0 upgraded, 0 newly installed, 0 to remove and 32 not upgraded.\n"
          ]
        }
      ],
      "source": [
        "!sudo apt-get install libffi-dev"
      ]
    },
    {
      "cell_type": "code",
      "execution_count": null,
      "metadata": {
        "id": "sbL2gpx8HZ7t",
        "outputId": "f28bc509-be90-4a37-cbcb-ba4221aa56b5",
        "colab": {
          "base_uri": "https://localhost:8080/"
        }
      },
      "outputs": [
        {
          "output_type": "stream",
          "name": "stdout",
          "text": [
            "\u001b[39m\u001b[0m\u001b[36m# Check configuration tokens\u001b[39m\u001b[0m\n",
            "\u001b[91m\u001b[1mBuildozer is running as root!\u001b[0m\n",
            "\u001b[91mThis is \u001b[1mnot\u001b[0m \u001b[91mrecommended, and may lead to problems later.\u001b[0m\n",
            "Are you sure you want to continue [y/n]? \u001b[39m\u001b[0m\u001b[36m# Ensure build layout\u001b[39m\u001b[0m\n",
            "\u001b[39m\u001b[0m\u001b[30m\u001b[1m# Create directory /content/bin\u001b[39m\u001b[0m\n",
            "\u001b[39m\u001b[0m\u001b[36m# Check configuration tokens\u001b[39m\u001b[0m\n",
            "\u001b[39m\u001b[0m\u001b[30m\u001b[1m# Run ['/usr/bin/python3', '-m', 'pythonforandroid.toolchain', 'clean_builds', '--color=always', '--storage-dir=/content/.buildozer/android/platform/build-arm64-v8a_armeabi-v7a', '--ndk-api=21', '--ignore-setup-py', '--debug']\u001b[39m\u001b[0m\n",
            "\u001b[39m\u001b[0m\u001b[30m\u001b[1m# Cwd /content/.buildozer/android/platform/python-for-android\u001b[39m\u001b[0m\n",
            "[WARNING]: prerequisites.py is experimental and does not support all prerequisites yet.\n",
            "[WARNING]: Please report any issues to the python-for-android issue tracker.\n",
            "[WARNING]: prerequisites.py is experimental and does not support all prerequisites yet.\n",
            "[WARNING]: Please report any issues to the python-for-android issue tracker.\n",
            "\u001b[1m\u001b[90m[DEBUG]\u001b[39m\u001b[0m:   Remove directory and subdirectory /content/.buildozer/android/platform/build-arm64-v8a_armeabi-v7a/build\n",
            "\u001b[1m\u001b[90m[DEBUG]\u001b[39m\u001b[0m:   Create directory /content/.buildozer/android/platform/build-arm64-v8a_armeabi-v7a/build/python-installs\n",
            "\u001b[1m\u001b[90m[DEBUG]\u001b[39m\u001b[0m:   Remove directory and subdirectory /content/.buildozer/android/platform/build-arm64-v8a_armeabi-v7a/build/python-installs\n",
            "\u001b[39m\u001b[0m\u001b[30m\u001b[1m# Run ['/usr/bin/python3', '-m', 'pythonforandroid.toolchain', 'clean_dists', '--color=always', '--storage-dir=/content/.buildozer/android/platform/build-arm64-v8a_armeabi-v7a', '--ndk-api=21', '--ignore-setup-py', '--debug']\u001b[39m\u001b[0m\n",
            "\u001b[39m\u001b[0m\u001b[30m\u001b[1m# Cwd /content/.buildozer/android/platform/python-for-android\u001b[39m\u001b[0m\n",
            "[WARNING]: prerequisites.py is experimental and does not support all prerequisites yet.\n",
            "[WARNING]: Please report any issues to the python-for-android issue tracker.\n",
            "[WARNING]: prerequisites.py is experimental and does not support all prerequisites yet.\n",
            "[WARNING]: Please report any issues to the python-for-android issue tracker.\n",
            "\u001b[1m\u001b[90m[DEBUG]\u001b[39m\u001b[0m:   Remove directory and subdirectory /content/.buildozer/android/platform/build-arm64-v8a_armeabi-v7a/dists\n",
            "\u001b[0m"
          ]
        }
      ],
      "source": [
        "!yes | buildozer android clean"
      ]
    },
    {
      "cell_type": "code",
      "execution_count": null,
      "metadata": {
        "id": "kbwtcLV1HXpF",
        "outputId": "44b5eeac-fb91-44f5-e90e-f7c36b5ffd82",
        "colab": {
          "base_uri": "https://localhost:8080/"
        }
      },
      "outputs": [
        {
          "output_type": "stream",
          "name": "stdout",
          "text": [
            "\u001b[39m\u001b[0m\u001b[36m# Check configuration tokens\u001b[39m\u001b[0m\n",
            "\u001b[91m\u001b[1mBuildozer is running as root!\u001b[0m\n",
            "\u001b[91mThis is \u001b[1mnot\u001b[0m \u001b[91mrecommended, and may lead to problems later.\u001b[0m\n",
            "Are you sure you want to continue [y/n]? ERROR: You already have a buildozer.spec file.\n",
            "\u001b[0m"
          ]
        }
      ],
      "source": [
        "!yes | buildozer init"
      ]
    },
    {
      "cell_type": "markdown",
      "source": [
        "then run the below lines"
      ],
      "metadata": {
        "id": "wfE7YJZUCnou"
      }
    },
    {
      "cell_type": "code",
      "execution_count": 21,
      "metadata": {
        "id": "Z1pqOWngHY0O",
        "outputId": "984545ce-33de-4882-cf67-7b9869717d6a",
        "colab": {
          "base_uri": "https://localhost:8080/"
        }
      },
      "outputs": [
        {
          "output_type": "stream",
          "name": "stdout",
          "text": [
            "\u001b[39m\u001b[0m\u001b[36m# Check configuration tokens\u001b[39m\u001b[0m\n",
            "\u001b[91m\u001b[1mBuildozer is running as root!\u001b[0m\n",
            "\u001b[91mThis is \u001b[1mnot\u001b[0m \u001b[91mrecommended, and may lead to problems later.\u001b[0m\n",
            "Are you sure you want to continue [y/n]? \u001b[39m\u001b[0m\u001b[36m# Ensure build layout\u001b[39m\u001b[0m\n",
            "\u001b[39m\u001b[0m\u001b[30m\u001b[1m# Create directory /content/bin\u001b[39m\u001b[0m\n",
            "\u001b[39m\u001b[0m\u001b[36m# Check configuration tokens\u001b[39m\u001b[0m\n",
            "\u001b[39m\u001b[0m\u001b[36m# Preparing build\u001b[39m\u001b[0m\n",
            "\u001b[39m\u001b[0m\u001b[36m# Check requirements for android\u001b[39m\u001b[0m\n",
            "\u001b[39m\u001b[0m\u001b[30m\u001b[1m# Search for Git (git)\u001b[39m\u001b[0m\n",
            "\u001b[39m\u001b[0m\u001b[30m\u001b[1m#  -> found at /usr/bin/git\u001b[39m\u001b[0m\n",
            "\u001b[39m\u001b[0m\u001b[30m\u001b[1m# Search for Cython (cython)\u001b[39m\u001b[0m\n",
            "\u001b[39m\u001b[0m\u001b[30m\u001b[1m#  -> found at /usr/local/bin/cython\u001b[39m\u001b[0m\n",
            "\u001b[39m\u001b[0m\u001b[30m\u001b[1m# Search for Java compiler (javac)\u001b[39m\u001b[0m\n",
            "\u001b[39m\u001b[0m\u001b[30m\u001b[1m#  -> found at /usr/lib/jvm/java-17-openjdk-amd64/bin/javac\u001b[39m\u001b[0m\n",
            "\u001b[39m\u001b[0m\u001b[30m\u001b[1m# Search for Java keytool (keytool)\u001b[39m\u001b[0m\n",
            "\u001b[39m\u001b[0m\u001b[30m\u001b[1m#  -> found at /usr/lib/jvm/java-17-openjdk-amd64/bin/keytool\u001b[39m\u001b[0m\n",
            "\u001b[39m\u001b[0m\u001b[36m# Install platform\u001b[39m\u001b[0m\n",
            "\u001b[39m\u001b[0m\u001b[30m\u001b[1m# Run ['git', 'config', '--get', 'remote.origin.url']\u001b[39m\u001b[0m\n",
            "\u001b[39m\u001b[0m\u001b[30m\u001b[1m# Cwd /content/.buildozer/android/platform/python-for-android\u001b[39m\u001b[0m\n",
            "https://github.com/kivy/python-for-android.git\n",
            "\u001b[39m\u001b[0m\u001b[30m\u001b[1m# Run ['git', 'branch', '-vv']\u001b[39m\u001b[0m\n",
            "\u001b[39m\u001b[0m\u001b[30m\u001b[1m# Cwd /content/.buildozer/android/platform/python-for-android\u001b[39m\u001b[0m\n",
            "* master 957a3e5f [origin/master] Merge pull request #2959 from kivy/release-2024.01.21\n",
            "\u001b[39m\u001b[0m\u001b[30m\u001b[1m# Run ['/usr/bin/python3', '-m', 'pip', 'install', '-q', '--user', 'appdirs', 'colorama>=0.3.3', 'jinja2', 'sh>=1.10, <2.0; sys_platform!=\"win32\"', 'build', 'toml', 'packaging', 'setuptools']\u001b[39m\u001b[0m\n",
            "\u001b[39m\u001b[0m\u001b[30m\u001b[1m# Cwd None\u001b[39m\u001b[0m\n",
            "\u001b[39m\u001b[0m\u001b[36m# Apache ANT found at /root/.buildozer/android/platform/apache-ant-1.9.4\u001b[39m\u001b[0m\n",
            "\u001b[39m\u001b[0m\u001b[36m# Android SDK found at /root/.buildozer/android/platform/android-sdk\u001b[39m\u001b[0m\n",
            "\u001b[39m\u001b[0m\u001b[36m# Recommended android's NDK version by p4a is: 25b\u001b[39m\u001b[0m\n",
            "\u001b[39m\u001b[0m\u001b[36m# Android NDK found at /root/.buildozer/android/platform/android-ndk-r25b\u001b[39m\u001b[0m\n",
            "\u001b[39m\u001b[0m\u001b[30m\u001b[1m# Run ['/usr/bin/python3', '-m', 'pythonforandroid.toolchain', 'aab', '-h', '--color=always', '--storage-dir=/content/.buildozer/android/platform/build-arm64-v8a_armeabi-v7a', '--ndk-api=21', '--ignore-setup-py', '--debug']\u001b[39m\u001b[0m\n",
            "\u001b[39m\u001b[0m\u001b[30m\u001b[1m# Cwd /content/.buildozer/android/platform/python-for-android\u001b[39m\u001b[0m\n",
            "[WARNING]: prerequisites.py is experimental and does not support all prerequisites yet.\n",
            "[WARNING]: Please report any issues to the python-for-android issue tracker.\n",
            "[WARNING]: prerequisites.py is experimental and does not support all prerequisites yet.\n",
            "[WARNING]: Please report any issues to the python-for-android issue tracker.\n",
            "usage: toolchain.py aab [-h] [--debug] [--color {always,never,auto}]\n",
            "                        [--sdk-dir SDK_DIR] [--ndk-dir NDK_DIR]\n",
            "                        [--android-api ANDROID_API]\n",
            "                        [--ndk-version NDK_VERSION] [--ndk-api NDK_API]\n",
            "                        [--symlink-bootstrap-files]\n",
            "                        [--storage-dir STORAGE_DIR] [--arch ARCH]\n",
            "                        [--dist-name DIST_NAME] [--requirements REQUIREMENTS]\n",
            "                        [--recipe-blacklist RECIPE_BLACKLIST]\n",
            "                        [--blacklist-requirements BLACKLIST_REQUIREMENTS]\n",
            "                        [--bootstrap BOOTSTRAP] [--hook HOOK] [--force-build]\n",
            "                        [--no-force-build] [--require-perfect-match]\n",
            "                        [--no-require-perfect-match] [--allow-replace-dist]\n",
            "                        [--no-allow-replace-dist]\n",
            "                        [--local-recipes LOCAL_RECIPES]\n",
            "                        [--activity-class-name ACTIVITY_CLASS_NAME]\n",
            "                        [--service-class-name SERVICE_CLASS_NAME]\n",
            "                        [--java-build-tool {auto,ant,gradle}] [--copy-libs]\n",
            "                        [--no-copy-libs] [--add-asset ASSETS]\n",
            "                        [--add-resource RESOURCES] [--private PRIVATE]\n",
            "                        [--use-setup-py] [--ignore-setup-py] [--release]\n",
            "                        [--with-debug-symbols] [--keystore KEYSTORE]\n",
            "                        [--signkey SIGNKEY] [--keystorepw KEYSTOREPW]\n",
            "                        [--signkeypw SIGNKEYPW]\n",
            "\n",
            "options:\n",
            "  -h, --help            show this help message and exit\n",
            "  --debug               Display debug output and all build info\n",
            "  --color {always,never,auto}\n",
            "                        Enable or disable color output (default enabled on\n",
            "                        tty)\n",
            "  --sdk-dir SDK_DIR, --sdk_dir SDK_DIR\n",
            "                        The filepath where the Android SDK is installed\n",
            "  --ndk-dir NDK_DIR, --ndk_dir NDK_DIR\n",
            "                        The filepath where the Android NDK is installed\n",
            "  --android-api ANDROID_API, --android_api ANDROID_API\n",
            "                        The Android API level to build against defaults to 33\n",
            "                        if not specified.\n",
            "  --ndk-version NDK_VERSION, --ndk_version NDK_VERSION\n",
            "                        DEPRECATED: the NDK version is now found automatically\n",
            "                        or not at all.\n",
            "  --ndk-api NDK_API     The Android API level to compile against. This should\n",
            "                        be your *minimal supported* API, not normally the same\n",
            "                        as your --android-api. Defaults to min(ANDROID_API,\n",
            "                        21) if not specified.\n",
            "  --symlink-bootstrap-files, --ssymlink_bootstrap_files\n",
            "                        If True, symlinks the bootstrap files creation. This\n",
            "                        is useful for development only, it could also cause\n",
            "                        weird problems.\n",
            "  --storage-dir STORAGE_DIR\n",
            "                        Primary storage directory for downloads and builds\n",
            "                        (default: /root/.local/share/python-for-android)\n",
            "  --arch ARCH           The archs to build for.\n",
            "  --dist-name DIST_NAME, --dist_name DIST_NAME\n",
            "                        The name of the distribution to use or create\n",
            "  --requirements REQUIREMENTS\n",
            "                        Dependencies of your app, should be recipe names or\n",
            "                        Python modules. NOT NECESSARY if you are using Python\n",
            "                        3 with --use-setup-py\n",
            "  --recipe-blacklist RECIPE_BLACKLIST\n",
            "                        Blacklist an internal recipe from use. Allows\n",
            "                        disabling Python 3 core modules to save size\n",
            "  --blacklist-requirements BLACKLIST_REQUIREMENTS\n",
            "                        Blacklist an internal recipe from use. Allows\n",
            "                        disabling Python 3 core modules to save size\n",
            "  --bootstrap BOOTSTRAP\n",
            "                        The bootstrap to build with. Leave unset to choose\n",
            "                        automatically.\n",
            "  --hook HOOK           Filename to a module that contains python-for-android\n",
            "                        hooks\n",
            "  --local-recipes LOCAL_RECIPES, --local_recipes LOCAL_RECIPES\n",
            "                        Directory to look for local recipes\n",
            "  --activity-class-name ACTIVITY_CLASS_NAME\n",
            "                        The full java class name of the main activity\n",
            "  --service-class-name SERVICE_CLASS_NAME\n",
            "                        Full java package name of the PythonService class\n",
            "  --java-build-tool {auto,ant,gradle}\n",
            "                        The java build tool to use when packaging the APK,\n",
            "                        defaults to automatically selecting an appropriate\n",
            "                        tool.\n",
            "  --add-asset ASSETS    Put this in the assets folder in the apk.\n",
            "  --add-resource RESOURCES\n",
            "                        Put this in the res folder in the apk.\n",
            "  --private PRIVATE     the directory with the app source code files\n",
            "                        (containing your main.py entrypoint)\n",
            "  --use-setup-py        Process the setup.py of a project if present.\n",
            "                        (Experimental!\n",
            "  --ignore-setup-py     Don't run the setup.py of a project if present. This\n",
            "                        may be required if the setup.py is not designed to\n",
            "                        work inside p4a (e.g. by installing dependencies that\n",
            "                        won't work or aren't desired on Android\n",
            "  --release             Build your app as a non-debug release build. (Disables\n",
            "                        gdb debugging among other things)\n",
            "  --with-debug-symbols  Will keep debug symbols from `.so` files.\n",
            "  --keystore KEYSTORE   Keystore for JAR signing key, will use jarsigner\n",
            "                        default if not specified (release build only)\n",
            "  --signkey SIGNKEY     Key alias to sign PARSER_APK. with (release build\n",
            "                        only)\n",
            "  --keystorepw KEYSTOREPW\n",
            "                        Password for keystore\n",
            "  --signkeypw SIGNKEYPW\n",
            "                        Password for key alias\n",
            "\n",
            "  Whether to force compilation of a new distribution\n",
            "\n",
            "  --force-build\n",
            "  --no-force-build      (this is the default)\n",
            "  --require-perfect-match\n",
            "  --no-require-perfect-match\n",
            "                        (this is the default)\n",
            "  --allow-replace-dist  (this is the default)\n",
            "  --no-allow-replace-dist\n",
            "  --copy-libs\n",
            "  --no-copy-libs        (this is the default)\n",
            "\u001b[39m\u001b[0m\u001b[36m# Check application requirements\u001b[39m\u001b[0m\n",
            "\u001b[39m\u001b[0m\u001b[36m# Compile platform\u001b[39m\u001b[0m\n",
            "\u001b[39m\u001b[0m\u001b[30m\u001b[1m# Run ['/usr/bin/python3', '-m', 'pythonforandroid.toolchain', 'create', '--dist_name=open_edope', '--bootstrap=sdl2', '--requirements=python3,kivy,kivymd,pyjnius,pillow,plyer', '--arch=arm64-v8a', '--arch=armeabi-v7a', '--copy-libs', '--color=always', '--storage-dir=/content/.buildozer/android/platform/build-arm64-v8a_armeabi-v7a', '--ndk-api=21', '--ignore-setup-py', '--debug']\u001b[39m\u001b[0m\n",
            "\u001b[39m\u001b[0m\u001b[30m\u001b[1m# Cwd /content/.buildozer/android/platform/python-for-android\u001b[39m\u001b[0m\n",
            "[WARNING]: prerequisites.py is experimental and does not support all prerequisites yet.\n",
            "[WARNING]: Please report any issues to the python-for-android issue tracker.\n",
            "[WARNING]: prerequisites.py is experimental and does not support all prerequisites yet.\n",
            "[WARNING]: Please report any issues to the python-for-android issue tracker.\n",
            "\u001b[1m[INFO]\u001b[0m:    Will compile for the following archs: arm64-v8a, armeabi-v7a\n",
            "\u001b[1m[INFO]\u001b[0m:    Found Android API target in $ANDROIDAPI: 31\n",
            "\u001b[1m[INFO]\u001b[0m:    Available Android APIs are (31)\n",
            "\u001b[1m[INFO]\u001b[0m:    Requested API target 31 is available, continuing.\n",
            "\u001b[1m[INFO]\u001b[0m:    Found NDK dir in $ANDROIDNDK: /root/.buildozer/android/platform/android-ndk-r25b\n",
            "\u001b[1m[INFO]\u001b[0m:    Found NDK version 25b\n",
            "\u001b[1m[INFO]\u001b[0m:    Getting NDK API version (i.e. minimum supported API) from user argument\n",
            "\u001b[1m[INFO]\u001b[0m:    ccache is missing, the build will not be optimized in the future.\n",
            "\u001b[1m\u001b[90m[DEBUG]\u001b[39m\u001b[0m:   All possible dists: [<Distribution: name open_edope with recipes (freetype, hostpython3, jpeg, libffi, openssl, png, sdl2_image, sdl2_mixer, sdl2_ttf, sqlite3, python3, sdl2, setuptools, pillow, six, pyjnius, android, kivy, requests, idna, plyer, kivymd, chardet, urllib3, certifi)>]\n",
            "\u001b[1m\u001b[90m[DEBUG]\u001b[39m\u001b[0m:   Dist matching name and arch: [<Distribution: name open_edope with recipes (freetype, hostpython3, jpeg, libffi, openssl, png, sdl2_image, sdl2_mixer, sdl2_ttf, sqlite3, python3, sdl2, setuptools, pillow, six, pyjnius, android, kivy, requests, idna, plyer, kivymd, chardet, urllib3, certifi)>]\n",
            "\u001b[1m\u001b[90m[DEBUG]\u001b[39m\u001b[0m:   Dist matching ndk_api and recipe: [<Distribution: name open_edope with recipes (freetype, hostpython3, jpeg, libffi, openssl, png, sdl2_image, sdl2_mixer, sdl2_ttf, sqlite3, python3, sdl2, setuptools, pillow, six, pyjnius, android, kivy, requests, idna, plyer, kivymd, chardet, urllib3, certifi)>]\n",
            "\u001b[1m[INFO]\u001b[0m:    Of the existing distributions, the following meet the given requirements:\n",
            "\u001b[1m[INFO]\u001b[0m:    \t\u001b[32m\u001b[1mopen_edope\u001b[0m: min API 21, includes recipes (\u001b[32mfreetype, hostpython3, jpeg, libffi, openssl, png, sdl2_image, sdl2_mixer, sdl2_ttf, sqlite3, python3, sdl2, setuptools, pillow, six, pyjnius, android, kivy, requests, idna, plyer, kivymd, chardet, urllib3, certifi\u001b[0m), built for archs (\u001b[34marmeabi-v7a, arm64-v8a\u001b[0m)\n",
            "\u001b[1m[INFO]\u001b[0m:    \u001b[1m\u001b[94mopen_edope has compatible recipes, using this one\u001b[0m\n",
            "\u001b[39m\u001b[0m\u001b[36m# Build the application #2\u001b[39m\u001b[0m\n",
            "\u001b[39m\u001b[0m\u001b[30m\u001b[1m# Copy application source from /content\u001b[39m\u001b[0m\n",
            "\u001b[39m\u001b[0m\u001b[30m\u001b[1m# Create directory /content/.buildozer/android/app\u001b[39m\u001b[0m\n",
            "\u001b[39m\u001b[0m\u001b[30m\u001b[1m# Copy /content/layout.kv\u001b[39m\u001b[0m\n",
            "\u001b[39m\u001b[0m\u001b[30m\u001b[1m# Copy /content/main.py\u001b[39m\u001b[0m\n",
            "\u001b[39m\u001b[0m\u001b[30m\u001b[1m# Copy /content/extra_manifest.xml\u001b[39m\u001b[0m\n",
            "\u001b[39m\u001b[0m\u001b[30m\u001b[1m# Create directory /content/.buildozer/android/app/res/xml\u001b[39m\u001b[0m\n",
            "\u001b[39m\u001b[0m\u001b[30m\u001b[1m# Copy /content/res/xml/nfc_tech_filter.xml\u001b[39m\u001b[0m\n",
            "\u001b[39m\u001b[0m\u001b[30m\u001b[1m# Create directory /content/.buildozer/android/app/assets/fonts\u001b[39m\u001b[0m\n",
            "\u001b[39m\u001b[0m\u001b[30m\u001b[1m# Copy /content/assets/fonts/RobotoMono-Regular.ttf\u001b[39m\u001b[0m\n",
            "\u001b[39m\u001b[0m\u001b[30m\u001b[1m# Create directory /content/.buildozer/android/app/assets/images\u001b[39m\u001b[0m\n",
            "\u001b[39m\u001b[0m\u001b[30m\u001b[1m# Copy /content/assets/images/splash.png\u001b[39m\u001b[0m\n",
            "\u001b[39m\u001b[0m\u001b[30m\u001b[1m# Copy /content/assets/images/icon.png\u001b[39m\u001b[0m\n",
            "\u001b[39m\u001b[0m\u001b[30m\u001b[1m# Copy /content/assets/images/logo.png\u001b[39m\u001b[0m\n",
            "\u001b[39m\u001b[0m\u001b[30m\u001b[1m# Create directory /content/.buildozer/android/app/assets/CSV/AB Quantum\u001b[39m\u001b[0m\n",
            "\u001b[39m\u001b[0m\u001b[30m\u001b[1m# Copy /content/assets/CSV/AB Quantum/AB-Rangecard-export.csv\u001b[39m\u001b[0m\n",
            "\u001b[39m\u001b[0m\u001b[30m\u001b[1m# Create directory /content/.buildozer/android/app/assets/CSV/stand alone\u001b[39m\u001b[0m\n",
            "\u001b[39m\u001b[0m\u001b[30m\u001b[1m# Copy /content/assets/CSV/stand alone/Stand Alone.csv\u001b[39m\u001b[0m\n",
            "\u001b[39m\u001b[0m\u001b[30m\u001b[1m# Create directory /content/.buildozer/android/app/assets/CSV/Test 2\u001b[39m\u001b[0m\n",
            "\u001b[39m\u001b[0m\u001b[30m\u001b[1m# Copy /content/assets/CSV/Test 2/rc.csv\u001b[39m\u001b[0m\n",
            "\u001b[39m\u001b[0m\u001b[30m\u001b[1m# Copy /content/assets/CSV/Test 2/stand alone.csv\u001b[39m\u001b[0m\n",
            "\u001b[39m\u001b[0m\u001b[30m\u001b[1m# Copy /content/assets/CSV/Test 2/Stage 2.csv\u001b[39m\u001b[0m\n",
            "\u001b[39m\u001b[0m\u001b[30m\u001b[1m# Create directory /content/.buildozer/android/app/assets/CSV/test 3\u001b[39m\u001b[0m\n",
            "\u001b[39m\u001b[0m\u001b[30m\u001b[1m# Copy /content/assets/CSV/test 3/Stage 2.csv\u001b[39m\u001b[0m\n",
            "\u001b[39m\u001b[0m\u001b[30m\u001b[1m# Create directory /content/.buildozer/android/app/assets/CSV/GAP Grind\u001b[39m\u001b[0m\n",
            "\u001b[39m\u001b[0m\u001b[30m\u001b[1m# Copy /content/assets/CSV/GAP Grind/rc.csv\u001b[39m\u001b[0m\n",
            "\u001b[39m\u001b[0m\u001b[30m\u001b[1m# Copy /content/assets/CSV/GAP Grind/test 1.csv\u001b[39m\u001b[0m\n",
            "\u001b[39m\u001b[0m\u001b[30m\u001b[1m# Create directory /content/.buildozer/android/app/assets/bitmap\u001b[39m\u001b[0m\n",
            "\u001b[39m\u001b[0m\u001b[30m\u001b[1m# Copy /content/assets/bitmap/output.bmp\u001b[39m\u001b[0m\n",
            "\u001b[39m\u001b[0m\u001b[30m\u001b[1m# Create directory /content/.buildozer/android/app/app/src/main/java/com/openedope/open_edope\u001b[39m\u001b[0m\n",
            "\u001b[39m\u001b[0m\u001b[30m\u001b[1m# Copy /content/app/src/main/java/com/openedope/open_edope/NfcHelper.java\u001b[39m\u001b[0m\n",
            "\u001b[39m\u001b[0m\u001b[30m\u001b[1m# Create directory /content/.buildozer/android/app/Open_E-Dope\u001b[39m\u001b[0m\n",
            "\u001b[39m\u001b[0m\u001b[30m\u001b[1m# Copy /content/Open_E-Dope/LICENSE\u001b[39m\u001b[0m\n",
            "\u001b[39m\u001b[0m\u001b[30m\u001b[1m# Copy /content/Open_E-Dope/requirements.txt\u001b[39m\u001b[0m\n",
            "\u001b[39m\u001b[0m\u001b[30m\u001b[1m# Copy /content/Open_E-Dope/README.md\u001b[39m\u001b[0m\n",
            "\u001b[39m\u001b[0m\u001b[36m# Package the application\u001b[39m\u001b[0m\n",
            "\u001b[39m\u001b[0m\u001b[30m\u001b[1m# project.properties updated\u001b[39m\u001b[0m\n",
            "\u001b[39m\u001b[0m\u001b[30m\u001b[1m# Run ['/usr/bin/python3', '-m', 'pythonforandroid.toolchain', 'apk', '--bootstrap', 'sdl2', '--dist_name', 'open_edope', '--name', 'Open E-Dope', '--version', '1.0', '--package', 'com.openedope.open_edope', '--minsdk', '21', '--ndk-api', '21', '--private', '/content/.buildozer/android/app', '--permission', 'INTERNET', '--permission', 'WRITE_EXTERNAL_STORAGE', '--permission', 'READ_EXTERNAL_STORAGE', '--permission', 'NFC', '--permission', 'FOREGROUND_SERVICE', '--res_xml', '/content/./res/xml/nfc_tech_filter.xml', '--android-entrypoint', 'org.kivy.android.PythonActivity', '--android-apptheme', '@android:style/Theme.NoTitleBar', '--meta-data', 'android.allowBalOptIn=true', '--presplash', '/content/assets/images/splash.png', '--icon', '/content/assets/images/icon.png', '--orientation', 'portrait', '--window', '--enable-androidx', '--intent-filters', '/content/extra_manifest.xml', '--presplash-color', '#016586', '--copy-libs', '--add-source', '/content/app/src/main/java', '--add-asset', '/content/assets/images:images', '--add-asset', '/content/assets/fonts:fonts', '--add-asset', '/content/assets/CSV:CSV', '--add-asset', '/content/assets/bitmap:bitmap', '--add-resource', '/content/res/xml/nfc_tech_filter.xml:', '--arch', 'arm64-v8a', '--arch', 'armeabi-v7a', '--color=always', '--storage-dir=/content/.buildozer/android/platform/build-arm64-v8a_armeabi-v7a', '--ndk-api=21', '--ignore-setup-py', '--debug']\u001b[39m\u001b[0m\n",
            "\u001b[39m\u001b[0m\u001b[30m\u001b[1m# Cwd /content/.buildozer/android/platform/python-for-android\u001b[39m\u001b[0m\n",
            "[WARNING]: prerequisites.py is experimental and does not support all prerequisites yet.\n",
            "[WARNING]: Please report any issues to the python-for-android issue tracker.\n",
            "[WARNING]: prerequisites.py is experimental and does not support all prerequisites yet.\n",
            "[WARNING]: Please report any issues to the python-for-android issue tracker.\n",
            "\u001b[1m[INFO]\u001b[0m:    Will compile for the following archs: armeabi-v7a, arm64-v8a\n",
            "\u001b[1m[INFO]\u001b[0m:    Found Android API target in $ANDROIDAPI: 31\n",
            "\u001b[1m[INFO]\u001b[0m:    Available Android APIs are (31)\n",
            "\u001b[1m[INFO]\u001b[0m:    Requested API target 31 is available, continuing.\n",
            "\u001b[1m[INFO]\u001b[0m:    Found NDK dir in $ANDROIDNDK: /root/.buildozer/android/platform/android-ndk-r25b\n",
            "\u001b[1m[INFO]\u001b[0m:    Found NDK version 25b\n",
            "\u001b[1m[INFO]\u001b[0m:    Getting NDK API version (i.e. minimum supported API) from user argument\n",
            "\u001b[1m[INFO]\u001b[0m:    ccache is missing, the build will not be optimized in the future.\n",
            "\u001b[1m\u001b[90m[DEBUG]\u001b[39m\u001b[0m:   All possible dists: [<Distribution: name open_edope with recipes (freetype, hostpython3, jpeg, libffi, openssl, png, sdl2_image, sdl2_mixer, sdl2_ttf, sqlite3, python3, sdl2, setuptools, pillow, six, pyjnius, android, kivy, requests, idna, plyer, kivymd, chardet, urllib3, certifi)>]\n",
            "\u001b[1m\u001b[90m[DEBUG]\u001b[39m\u001b[0m:   Dist matching name and arch: [<Distribution: name open_edope with recipes (freetype, hostpython3, jpeg, libffi, openssl, png, sdl2_image, sdl2_mixer, sdl2_ttf, sqlite3, python3, sdl2, setuptools, pillow, six, pyjnius, android, kivy, requests, idna, plyer, kivymd, chardet, urllib3, certifi)>]\n",
            "\u001b[1m\u001b[90m[DEBUG]\u001b[39m\u001b[0m:   Dist matching ndk_api and recipe: [<Distribution: name open_edope with recipes (freetype, hostpython3, jpeg, libffi, openssl, png, sdl2_image, sdl2_mixer, sdl2_ttf, sqlite3, python3, sdl2, setuptools, pillow, six, pyjnius, android, kivy, requests, idna, plyer, kivymd, chardet, urllib3, certifi)>]\n",
            "\u001b[1m[INFO]\u001b[0m:    Of the existing distributions, the following meet the given requirements:\n",
            "\u001b[1m[INFO]\u001b[0m:    \t\u001b[32m\u001b[1mopen_edope\u001b[0m: min API 21, includes recipes (\u001b[32mfreetype, hostpython3, jpeg, libffi, openssl, png, sdl2_image, sdl2_mixer, sdl2_ttf, sqlite3, python3, sdl2, setuptools, pillow, six, pyjnius, android, kivy, requests, idna, plyer, kivymd, chardet, urllib3, certifi\u001b[0m), built for archs (\u001b[34marmeabi-v7a, arm64-v8a\u001b[0m)\n",
            "\u001b[1m[INFO]\u001b[0m:    \u001b[1m\u001b[94mopen_edope has compatible recipes, using this one\u001b[0m\n",
            "\u001b[1m\u001b[90m[DEBUG]\u001b[39m\u001b[0m:   All possible dists: [<Distribution: name open_edope with recipes (freetype, hostpython3, jpeg, libffi, openssl, png, sdl2_image, sdl2_mixer, sdl2_ttf, sqlite3, python3, sdl2, setuptools, pillow, six, pyjnius, android, kivy, requests, idna, plyer, kivymd, chardet, urllib3, certifi)>]\n",
            "\u001b[1m\u001b[90m[DEBUG]\u001b[39m\u001b[0m:   Dist matching name and arch: [<Distribution: name open_edope with recipes (freetype, hostpython3, jpeg, libffi, openssl, png, sdl2_image, sdl2_mixer, sdl2_ttf, sqlite3, python3, sdl2, setuptools, pillow, six, pyjnius, android, kivy, requests, idna, plyer, kivymd, chardet, urllib3, certifi)>]\n",
            "\u001b[1m\u001b[90m[DEBUG]\u001b[39m\u001b[0m:   Dist matching ndk_api and recipe: [<Distribution: name open_edope with recipes (freetype, hostpython3, jpeg, libffi, openssl, png, sdl2_image, sdl2_mixer, sdl2_ttf, sqlite3, python3, sdl2, setuptools, pillow, six, pyjnius, android, kivy, requests, idna, plyer, kivymd, chardet, urllib3, certifi)>]\n",
            "\u001b[1m[INFO]\u001b[0m:    Of the existing distributions, the following meet the given requirements:\n",
            "\u001b[1m[INFO]\u001b[0m:    \t\u001b[32m\u001b[1mopen_edope\u001b[0m: min API 21, includes recipes (\u001b[32mfreetype, hostpython3, jpeg, libffi, openssl, png, sdl2_image, sdl2_mixer, sdl2_ttf, sqlite3, python3, sdl2, setuptools, pillow, six, pyjnius, android, kivy, requests, idna, plyer, kivymd, chardet, urllib3, certifi\u001b[0m), built for archs (\u001b[34marmeabi-v7a, arm64-v8a\u001b[0m)\n",
            "\u001b[1m[INFO]\u001b[0m:    \u001b[1m\u001b[94mopen_edope has compatible recipes, using this one\u001b[0m\n",
            "\u001b[1m[INFO]\u001b[0m:    \u001b[36m-> directory context /content/.buildozer/android/platform/build-arm64-v8a_armeabi-v7a/build/bootstrap_builds/sdl2\u001b[39m\n",
            "\u001b[1m[INFO]\u001b[0m:    \u001b[36m<- directory context /content/.buildozer/android/platform/python-for-android\u001b[39m\n",
            "\u001b[1m[INFO]\u001b[0m:    \u001b[36m-> directory context /content/.buildozer/android/platform/build-arm64-v8a_armeabi-v7a/dists/open_edope\u001b[39m\n",
            "\u001b[1m\u001b[90m[DEBUG]\u001b[39m\u001b[0m:   Remove directory and subdirectory src/main/assets\n",
            "\u001b[1m\u001b[90m[DEBUG]\u001b[39m\u001b[0m:   Create directory src/main/assets\n",
            "Compiling '/content/.buildozer/android/app/sitecustomize.py'...\n",
            "Compiling '/content/.buildozer/android/app/main.py'...\n",
            "\u001b[1m\u001b[90m[DEBUG]\u001b[39m\u001b[0m:   Remove directory and subdirectory /tmp/p4a-extra-env-1iasfioq\n",
            "\u001b[1m\u001b[90m[DEBUG]\u001b[39m\u001b[0m:   Remove directory and subdirectory src/main/res\n",
            "\u001b[1m\u001b[90m[DEBUG]\u001b[39m\u001b[0m:   Create directory src/main/res/xml\n",
            "\u001b[1m[INFO]\u001b[0m:    Detected highest available build tools version to be 36.0.0\n",
            "stty: 'standard input': Inappropriate ioctl for device\n",
            "\u001b[1m\u001b[90m[DEBUG]\u001b[39m\u001b[0m:   \u001b[90m->\u001b[0m running gradlew clean assembleDebug\u001b[0m\n",
            "\u001b[1m\u001b[90m[DEBUG]\u001b[39m\u001b[0m:   \tDownloading https://services.gradle.org/distributions/gradle-8.0.2-all.zip\n",
            "\u001b[1m\u001b[90m[DEBUG]\u001b[39m\u001b[0m:   \t...............................................................................................................................................................................................................................................................................................................................................................................................................................................................................................................................................................................................................................................................................................................................................................................................................................................................................................................................................................................................................................................................................................................................................................................................................................................................................................................................................................................................................................................................................................................................................................................................................................................................................................................................................................................................................................................................................................................................................................................................................................................................................................................................................................................................................................................................................................................................................................................................................................................................................................................................................................................................................................................................................................................................................................................................................................................................................................................................................................................................................................................................................................................................................................................................................................................................................................................................................................................................................................................................................................................................................................................................................................................................................................................................................................................................................................................................................................................................................................................................................................................................................................................................................................................................................................................................................................................................................................................................................................................................................................................................................................................................................................................................................................................................................................................................................................................................................................................................................................................................................................................................................................................................................................................................................................................................................................................................................................................................................................................................................................................................................................................................................................................................................................................................................................................................................................................................................................................................................................................................................................................................................................................................................................................................................................................................................................................................................................................................................................................................................................................................................................................................................................................................................................................................................................................................................................................................................................................................................................................................................................................................................................................................................................................................................................................................................................................................................................................................................................................................................................................................................................................................................................................................................................................................................................................................................................................................................................................................................................................................................................................................................................................................................................................................................................................................................................................................................................................................................................................................................................................................................................................................................................................................................................................................\n",
            "\u001b[1m\u001b[90m[DEBUG]\u001b[39m\u001b[0m:   \tUnzipping /root/.gradle/wrapper/dists/gradle-8.0.2-all/14bt34ptcsg1ikmfn78tdh1keu/gradle-8.0.2-all.zip to /root/.gradle/wrapper/dists/gradle-8.0.2-all/14bt34ptcsg1ikmfn78tdh1keu\n",
            "\u001b[1m\u001b[90m[DEBUG]\u001b[39m\u001b[0m:   \tSet executable permissions for: /root/.gradle/wrapper/dists/gradle-8.0.2-all/14bt34ptcsg1ikmfn78tdh1keu/gradle-8.0.2/bin/gradle\n",
            "\u001b[1m\u001b[90m[DEBUG]\u001b[39m\u001b[0m:   \t\n",
            "\u001b[1m\u001b[90m[DEBUG]\u001b[39m\u001b[0m:   \tWelcome to Gradle 8.0.2!\n",
            "\u001b[1m\u001b[90m[DEBUG]\u001b[39m\u001b[0m:   \t\n",
            "\u001b[1m\u001b[90m[DEBUG]\u001b[39m\u001b[0m:   \tHere are the highlights of this release:\n",
            "\u001b[1m\u001b[90m[DEBUG]\u001b[39m\u001b[0m:   \t - Improvements to the Kotlin DSL\n",
            "\u001b[1m\u001b[90m[DEBUG]\u001b[39m\u001b[0m:   \t - Fine-grained parallelism from the first build with configuration cache\n",
            "\u001b[1m\u001b[90m[DEBUG]\u001b[39m\u001b[0m:   \t - Configurable Gradle user home cache cleanup\n",
            "\u001b[1m\u001b[90m[DEBUG]\u001b[39m\u001b[0m:   \t\n",
            "\u001b[1m\u001b[90m[DEBUG]\u001b[39m\u001b[0m:   \tFor more details see https://docs.gradle.org/8.0.2/release-notes.html\n",
            "\u001b[1m\u001b[90m[DEBUG]\u001b[39m\u001b[0m:   \t\n",
            "\u001b[1m\u001b[90m[DEBUG]\u001b[39m\u001b[0m:   \tStarting a Gradle Daemon (subsequent builds will be faster)\n",
            "\u001b[1m\u001b[90m[DEBUG]\u001b[39m\u001b[0m:   \t\n",
            "\u001b[1m\u001b[90m[DEBUG]\u001b[39m\u001b[0m:   \t\n",
            "\u001b[1m\u001b[90m[DEBUG]\u001b[39m\u001b[0m:   \t\u001b[2A\u001b[1B\u001b[1m> Starting Daemon\u001b[m\u001b[17D\u001b[1B\u001b[1A> IDLE\u001b[0K\u001b[6D\u001b[1B\u001b[2A\u001b[1m<\u001b[0;1m-------------> 0% INITIALIZING [63ms]\u001b[m\u001b[38D\u001b[2B\u001b[2A\u001b[1m<\u001b[0;1m-------------> 0% INITIALIZING [163ms]\u001b[m\u001b[39D\u001b[2B\u001b[2A\u001b[1m<\u001b[0;1m-------------> 0% INITIALIZING [264ms]\u001b[m\u001b[39D\u001b[2B\u001b[2A\u001b[1m<\u001b[0;1m-------------> 0% INITIALIZING [363ms]\u001b[m\u001b[39D\u001b[2B\u001b[2A\u001b[1m<\u001b[0;1m-------------> 0% INITIALIZING [463ms]\u001b[m\u001b[39D\u001b[2B\u001b[2A\u001b[1m<\u001b[0;1m-------------> 0% INITIALIZING [563ms]\u001b[m\u001b[39D\u001b[2B\u001b[2A\u001b[1m<\u001b[0;1m-------------> 0% INITIALIZING [663ms]\u001b[m\u001b[39D\u001b[2B\u001b[2A\u001b[1m<\u001b[0;1m-------------> 0% INITIALIZING [763ms]\u001b[m\u001b[39D\u001b[2B\u001b[2A\u001b[1m<\u001b[0;1m-------------> 0% INITIALIZING [864ms]\u001b[m\u001b[39D\u001b[2B\u001b[2A\u001b[1m<\u001b[0;1m-------------> 0% INITIALIZING [964ms]\u001b[m\u001b[39D\u001b[2B\u001b[2A\u001b[1m<\u001b[0;1m-------------> 0% INITIALIZING [1s]\u001b[m\u001b[0K\u001b[36D\u001b[2B\u001b[1A\u001b[1m> Evaluating settings\u001b[m\u001b[21D\u001b[1B\u001b[2A\u001b[1m<\u001b[0;1m-------------> 0% INITIALIZING [2s]\u001b[m\u001b[36D\u001b[2B\u001b[2A\u001b[1m<\u001b[0;1m-------------> 0% INITIALIZING [3s]\u001b[m\u001b[36D\u001b[2B\u001b[2A\u001b[1m<\u001b[0;1m-------------> 0% CONFIGURING [3s]\u001b[m\u001b[0K\u001b[35D\u001b[1B\u001b[1m> Loading projects\u001b[m\u001b[0K\u001b[18D\u001b[1B\u001b[1A> IDLE\u001b[0K\u001b[6D\u001b[1B\u001b[1A\u001b[1m> root project\u001b[m\u001b[14D\u001b[1B\u001b[1A\u001b[1m> root project > Compiling build file 'build.gradle'\u001b[m\u001b[52D\u001b[1B\u001b[2A\u001b[1m<\u001b[0;1m-------------> 0% CONFIGURING [4s]\u001b[m\u001b[35D\u001b[2B\u001b[2A\u001b[1m<\u001b[0;1m-------------> 0% CONFIGURING [5s]\u001b[m\u001b[35D\u001b[2B\u001b[1A\u001b[1m> root project\u001b[m\u001b[0K\u001b[14D\u001b[1B\u001b[2A\u001b[1m<\u001b[0;1m-------------> 0% CONFIGURING [6s]\u001b[m\u001b[35D\u001b[2B\u001b[1A\u001b[1m> root project > Resolve dependencies of :classpath\u001b[m\u001b[51D\u001b[1B\u001b[1A\u001b[1m> root project > Resolve dependencies of :classpath > gradle-8.1.1.pom\u001b[m\u001b[70D\u001b[1B\u001b[2A\u001b[1m<\u001b[0;1m-------------> 0% CONFIGURING [7s]\u001b[m\u001b[35D\u001b[2B\u001b[1A\u001b[1m> root project > Resolve dependencies of :classpath\u001b[m\u001b[0K\u001b[51D\u001b[1B\u001b[1A\u001b[1m> root project > Resolve dependencies of :classpath > gradle-8.1.1.module\u001b[m\u001b[73D\u001b[1B\u001b[1A\u001b[1m> root project > Resolve dependencies of :classpath\u001b[m\u001b[0K\u001b[51D\u001b[1B\n",
            "\u001b[1m\u001b[90m[DEBUG]\u001b[39m\u001b[0m:   \t\u001b[3A\u001b[1m<\u001b[0;1m-------------> 0% CONFIGURING [8s]\u001b[m\u001b[0K\u001b[35D\u001b[1B\u001b[1m> root project > Resolve dependencies of :classpath > sdklib-31.1.1.pom\u001b[m\u001b[71D\u001b[1B\u001b[1m> root project > Resolve dependencies of :classpath > gradle-settings-api-8.1.1\u001b[m\u001b[79D\u001b[1B\u001b[2A> IDLE\u001b[0K\u001b[6D\u001b[1B\u001b[1m> root project > Resolve dependencies of :classpath > android-test-plugin-host-\u001b[m\u001b[79D\u001b[1B\u001b[2A\u001b[1m> root project > Resolve dependencies of :classpath > android-test-plugin-resul\u001b[m\u001b[79D\u001b[2B\u001b[2A> IDLE\u001b[0K\u001b[6D\u001b[1B\u001b[1m> root project > Resolve dependencies of :classpath > kotlin-stdlib-jdk8-1.8.20\u001b[m\u001b[79D\u001b[1B\u001b[2A\u001b[1m> root project > Resolve dependencies of :classpath > httpmime-4.5.6.pom\u001b[m\u001b[72D\u001b[2B\u001b[2A\u001b[1m> root project > Resolve dependencies of :classpath > commons-io-2.4.pom\u001b[m\u001b[72D\u001b[1B> IDLE\u001b[0K\u001b[6D\u001b[1B\u001b[3A\u001b[1m<\u001b[0;1m-------------> 0% CONFIGURING [9s]\u001b[m\u001b[35D\u001b[1B\u001b[1m> root project > Resolve dependencies of :classpath > commons-parent-25.pom\u001b[m\u001b[75D\u001b[1B\u001b[1m> root project > Resolve dependencies of :classpath > httpcomponents-client-4.5\u001b[m\u001b[79D\u001b[1B\u001b[2A\u001b[1m> root project > Resolve dependencies of :classpath > commons-parent-25.pom > 1\u001b[m\u001b[79D\u001b[1B> IDLE\u001b[0K\u001b[6D\u001b[1B\u001b[2A\u001b[1m> root project > Resolve dependencies of :classpath > httpcomponents-parent-10.\u001b[m\u001b[79D\u001b[2B\u001b[2A\u001b[1m> root project > Resolve dependencies of :classpath > apache-18.pom\u001b[m\u001b[0K\u001b[67D\u001b[2B\u001b[2A\u001b[1m> root project > Resolve dependencies of :classpath\u001b[m\u001b[0K\u001b[51D\u001b[2B\u001b[2A\u001b[1m> root project > Resolve dependencies of :classpath > asm-9.2.pom\u001b[m\u001b[65D\u001b[2B\u001b[2A\u001b[1m> root project > Resolve dependencies of :classpath > ow2-1.5.pom\u001b[m\u001b[65D\u001b[1B\u001b[1m> root project > Resolve dependencies of :classpath > asm-analysis-9.2.pom\u001b[m\u001b[74D\u001b[1B\u001b[2A\u001b[1m> root project > Resolve dependencies of :classpath > asm-commons-9.2.pom\u001b[m\u001b[73D\u001b[1B> IDLE\u001b[0K\u001b[6D\u001b[1B\u001b[2A\u001b[1m> root project > Resolve dependencies of :classpath > asm-commons-9.2.pom > 2.6\u001b[m\u001b[79D\u001b[1B\u001b[1m> root project > Resolve dependencies of :classpath > asm-util-9.2.pom\u001b[m\u001b[70D\u001b[1B\u001b[3A\u001b[1m<\u001b[0;1m-------------> 0% CONFIGURING [10s]\u001b[m\u001b[36D\u001b[1B\u001b[1m> root project > Resolve dependencies of :classpath > jaxb-runtime-2.3.2.pom\u001b[m\u001b[0K\u001b[76D\u001b[1B\u001b[1m> root project > Resolve dependencies of :classpath > bcpkix-jdk15on-1.67.pom\u001b[m\u001b[77D\u001b[1B\u001b[2A\u001b[1m> root project > Resolve dependencies of :classpath > jopt-simple-4.9.pom\u001b[m\u001b[0K\u001b[73D\u001b[1B\u001b[1m> root project > Resolve dependencies of :classpath > jaxb-runtime-parent-2.3.2\u001b[m\u001b[79D\u001b[1B\u001b[2A\u001b[1m> root project > Resolve dependencies of :classpath > jaxb-parent-2.3.2.pom\u001b[m\u001b[75D\u001b[1B\u001b[1m> root project > Resolve dependencies of :classpath > oss-parent-7.pom\u001b[m\u001b[0K\u001b[70D\u001b[1B\u001b[2A\u001b[1m> root project > Resolve dependencies of :classpath > jaxb-bom-ext-2.3.2.pom\u001b[m\u001b[76D\u001b[1B> IDLE\u001b[0K\u001b[6D\u001b[1B\u001b[2A\u001b[1m> root project > Resolve dependencies of :classpath > jetifier-core-1.0.0-beta1\u001b[m\u001b[79D\u001b[2B\u001b[2A> IDLE\u001b[0K\u001b[6D\u001b[1B\u001b[1m> root project > Resolve dependencies of :classpath > jaxb-bom-2.3.2.pom\u001b[m\u001b[72D\u001b[1B\u001b[2A\u001b[1m> root project > Resolve dependencies of :classpath > project-1.0.5.pom\u001b[m\u001b[71D\u001b[1B\u001b[1m> root project > Resolve dependencies of :classpath > jetifier-processor-1.0.0-\u001b[m\u001b[79D\u001b[1B\u001b[2A\u001b[1m> root project > Resolve dependencies of :classpath > jetifier-processor-1.0.0-\u001b[m\u001b[79D\u001b[1B> IDLE\u001b[0K\u001b[6D\u001b[1B\u001b[2A\u001b[1m> root project > Resolve dependencies of :classpath > javapoet-1.10.0.pom\u001b[m\u001b[0K\u001b[73D\u001b[2B\u001b[3A\u001b[1m<\u001b[0;1m-------------> 0% CONFIGURING [11s]\u001b[m\u001b[36D\u001b[3B\u001b[2A\u001b[1m> root project > Resolve dependencies of :classpath > protobuf-java-3.19.3.pom\u001b[m\u001b[78D\u001b[2B\u001b[2A\u001b[1m> root project > Resolve dependencies of :classpath > protobuf-java-util-3.19.3\u001b[m\u001b[79D\u001b[2B\u001b[1A\u001b[1m> root project > Resolve dependencies of :classpath > protobuf-parent-3.19.3.po\u001b[m\u001b[79D\u001b[1B\u001b[2A\u001b[1m> root project > Resolve dependencies of :classpath > protobuf-bom-3.19.3.pom\u001b[m\u001b[0K\u001b[77D\u001b[1B\u001b[1m> root project > Resolve dependencies of :classpath > protobuf-bom-3.19.3.pom\u001b[m\u001b[0K\u001b[77D\u001b[1B\u001b[2A> IDLE\u001b[0K\u001b[6D\u001b[1B\u001b[1m> root project > Resolve dependencies of :classpath\u001b[m\u001b[0K\u001b[51D\u001b[1B\u001b[2A\u001b[1m> root project > Resolve dependencies of :classpath > grpc-core-1.45.1.pom\u001b[m\u001b[74D\u001b[1B\u001b[1m> root project > Resolve dependencies of :classpath > gson-2.8.6.pom\u001b[m\u001b[68D\u001b[1B\u001b[2A\u001b[1m> root project > Resolve dependencies of :classpath > gson-parent-2.8.6.pom\u001b[m\u001b[75D\u001b[1B\u001b[1m> root project > Resolve dependencies of :classpath > grpc-netty-1.45.1.pom\u001b[m\u001b[75D\u001b[1B\u001b[2A> IDLE\u001b[0K\u001b[6D\u001b[1B\u001b[1m> root project > Resolve dependencies of :classpath > grpc-protobuf-1.45.1.pom\u001b[m\u001b[78D\u001b[1B\u001b[2A\u001b[1m> root project > Resolve dependencies of :classpath > grpc-stub-1.45.1.pom\u001b[m\u001b[74D\u001b[2B\u001b[3A\u001b[1m<\u001b[0;1m-------------> 0% CONFIGURING [12s]\u001b[m\u001b[36D\u001b[1B\u001b[1m> root project > Resolve dependencies of :classpath\u001b[m\u001b[0K\u001b[51D\u001b[1B> IDLE\u001b[0K\u001b[6D\u001b[1B\u001b[2A\u001b[1m> root project > Resolve dependencies of :classpath > flatbuffers-java-1.12.0.p\u001b[m\u001b[79D\u001b[2B\u001b[2A\u001b[1m> root project > Resolve dependencies of :classpath > tensorflow-lite-metadata-\u001b[m\u001b[79D\u001b[1B\u001b[1m> root project > Resolve dependencies of :classpath > builder-8.1.1.module\u001b[m\u001b[74D\u001b[1B\u001b[2A\u001b[1m> root project > Resolve dependencies of :classpath > builder-model-8.1.1.pom >\u001b[m\u001b[79D\u001b[2B\u001b[2A\u001b[1m> root project > Resolve dependencies of :classpath > builder-model-8.1.1.modul\u001b[m\u001b[79D\u001b[1B> IDLE\u001b[0K\u001b[6D\u001b[1B\u001b[2A> IDLE\u001b[0K\u001b[6D\u001b[1B\u001b[1m> root project > Resolve dependencies of :classpath > gradle-api-8.1.1.module\u001b[m\u001b[77D\u001b[1B\u001b[2A\u001b[1m> root project > Resolve dependencies of :classpath > android-test-plugin-host-\u001b[m\u001b[79D\u001b[1B\u001b[1m> root project > Resolve dependencies of :classpath > ddmlib-31.1.1.pom\u001b[m\u001b[0K\u001b[71D\u001b[1B\u001b[1A\u001b[1m> root project > Resolve dependencies of :classpath > aapt2-proto-8.1.1-1015446\u001b[m\u001b[79D\u001b[1B\u001b[2A\u001b[1m> root project > Resolve dependencies of :classpath > android-device-provider-g\u001b[m\u001b[79D\u001b[1B\u001b[1m> root project > Resolve dependencies of :classpath > aaptcompiler-8.1.1.pom\u001b[m\u001b[0K\u001b[76D\u001b[1B\u001b[3A\u001b[1m<\u001b[0;1m-------------> 0% CONFIGURING [13s]\u001b[m\u001b[36D\u001b[1B\u001b[1m> root project > Resolve dependencies of :classpath > aaptcompiler-8.1.1.module\u001b[m\u001b[79D\u001b[1B\u001b[1m> root project > Resolve dependencies of :classpath > crash-31.1.1.pom\u001b[m\u001b[0K\u001b[70D\u001b[1B\u001b[2A\u001b[1m> root project > Resolve dependencies of :classpath > android-device-provider-d\u001b[m\u001b[79D\u001b[1B\u001b[1m> root project > Resolve dependencies of :classpath > shared-31.1.1.pom\u001b[m\u001b[71D\u001b[1B\u001b[2A\u001b[1m> root project > Resolve dependencies of :classpath > lint-model-31.1.1.pom\u001b[m\u001b[0K\u001b[75D\u001b[1B\u001b[1m> root project > Resolve dependencies of :classpath > layoutlib-api-31.1.1.pom\u001b[m\u001b[78D\u001b[1B\u001b[2A\u001b[1m> root project > Resolve dependencies of :classpath > builder-test-api-8.1.1.po\u001b[m\u001b[79D\u001b[1B\u001b[1m> root project > Resolve dependencies of :classpath > lint-typedef-remover-31.1\u001b[m\u001b[79D\u001b[1B\u001b[2A\u001b[1m> root project > Resolve dependencies of :classpath > builder-test-api-8.1.1.mo\u001b[m\u001b[79D\u001b[1B\u001b[1m> root project > Resolve dependencies of :classpath > baseLibrary-8.1.1.pom\u001b[m\u001b[0K\u001b[75D\u001b[1B\u001b[2A\u001b[1m> root project > Resolve dependencies of :classpath > sdk-common-31.1.1.pom\u001b[m\u001b[0K\u001b[75D\u001b[1B\u001b[1m> root project > Resolve dependencies of :classpath > databinding-common-8.1.1.\u001b[m\u001b[79D\u001b[1B\u001b[2A> IDLE\u001b[0K\u001b[6D\u001b[2B\u001b[1A\u001b[1m> root project > Resolve dependencies of :classpath > gson-2.8.9.pom\u001b[m\u001b[0K\u001b[68D\u001b[1B\u001b[1A\u001b[1m> root project > Resolve dependencies of :classpath > gson-parent-2.8.9.pom\u001b[m\u001b[75D\u001b[1B\u001b[1A\u001b[1m> root project > Resolve dependencies of :classpath\u001b[m\u001b[0K\u001b[51D\u001b[1B\u001b[3A\u001b[1m<\u001b[0;1m-------------> 0% CONFIGURING [14s]\u001b[m\u001b[36D\u001b[1B\u001b[1m> root project > Resolve dependencies of :classpath > javax.inject-1.pom\u001b[m\u001b[72D\u001b[1B\u001b[1m> root project > Resolve dependencies of :classpath > guava-31.1-jre.pom\u001b[m\u001b[72D\u001b[1B\u001b[1A\u001b[1m> root project > Resolve dependencies of :classpath > guava-parent-31.1-jre.pom\u001b[m\u001b[79D\u001b[1B\u001b[2A\u001b[1m> root project > Resolve dependencies of :classpath > xercesImpl-2.12.0.pom\u001b[m\u001b[75D\u001b[1B\u001b[1m> root project > Resolve dependencies of :classpath > kxml2-2.3.0.pom\u001b[m\u001b[0K\u001b[69D\u001b[1B\u001b[2A\u001b[1m> root project > Resolve dependencies of :classpath > kotlin-reflect-1.8.20-RC2\u001b[m\u001b[79D\u001b[1B\u001b[1m> root project > Resolve dependencies of :classpath > bcprov-jdk15on-1.67.pom\u001b[m\u001b[77D\u001b[1B\u001b[2A\u001b[1m> root project > Resolve dependencies of :classpath > bcprov-jdk15on-1.67.pom\u001b[m\u001b[0K\u001b[77D\u001b[1B\u001b[1m> root project > Resolve dependencies of :classpath > kotlin-reflect-1.8.20-RC2\u001b[m\u001b[79D\u001b[1B\u001b[2A\u001b[1m> root project > Resolve dependencies of :classpath > trove4j-1.0.20200330.pom\u001b[m\u001b[78D\u001b[1B> IDLE\u001b[0K\u001b[6D\u001b[1B\u001b[2A\u001b[1m> root project > Resolve dependencies of :classpath > commons-compress-1.21.pom\u001b[m\u001b[79D\u001b[1B\u001b[1m> root project > Resolve dependencies of :classpath > httpcore-4.4.15.pom\u001b[m\u001b[73D\u001b[1B\u001b[2A\u001b[1m> root project > Resolve dependencies of :classpath > commons-parent-52.pom\u001b[m\u001b[0K\u001b[75D\u001b[2B\u001b[2A\u001b[1m> root project > Resolve dependencies of :classpath > httpcomponents-core-4.4.1\u001b[m\u001b[79D\u001b[1B\u001b[1m> root project > Resolve dependencies of :classpath > apache-23.pom\u001b[m\u001b[0K\u001b[67D\u001b[1B\u001b[2A\u001b[1m> root project > Resolve dependencies of :classpath > httpcomponents-parent-11.\u001b[m\u001b[79D\u001b[2B\u001b[3A\u001b[1m<\u001b[0;1m-------------> 0% CONFIGURING [15s]\u001b[m\u001b[36D\u001b[1B> IDLE\u001b[0K\u001b[6D\u001b[1B\u001b[1m> root project > Resolve dependencies of :classpath > apache-21.pom\u001b[m\u001b[67D\u001b[1B\u001b[2A\u001b[1m> root project > Resolve dependencies of :classpath > javax.activation-1.2.0.po\u001b[m\u001b[79D\u001b[1B\u001b[1m> root project > Resolve dependencies of :classpath > jimfs-1.1.pom\u001b[m\u001b[67D\u001b[1B\u001b[2A> IDLE\u001b[0K\u001b[6D\u001b[1B\u001b[1m> root project > Resolve dependencies of :classpath\u001b[m\u001b[0K\u001b[51D\u001b[1B\u001b[2A\u001b[1m> root project > Resolve dependencies of :classpath > jimfs-parent-1.1.pom\u001b[m\u001b[74D\u001b[1B\u001b[1m> root project > Resolve dependencies of :classpath > all-1.2.0.pom\u001b[m\u001b[67D\u001b[1B\u001b[2A\u001b[1m> root project > Resolve dependencies of :classpath > jvnet-parent-1.pom\u001b[m\u001b[0K\u001b[72D\u001b[1B> IDLE\u001b[0K\u001b[6D\u001b[1B\u001b[2A\u001b[1m> root project > Resolve dependencies of :classpath > annotations-13.0.pom\u001b[m\u001b[74D\u001b[2B\u001b[2A\u001b[1m> root project > Resolve dependencies of :classpath > httpclient-4.5.13.pom\u001b[m\u001b[75D\u001b[2B\u001b[2A\u001b[1m> root project > Resolve dependencies of :classpath\u001b[m\u001b[0K\u001b[51D\u001b[2B\u001b[2A\u001b[1m> root project > Resolve dependencies of :classpath > jna-platform-5.6.0.pom\u001b[m\u001b[76D\u001b[2B\u001b[3A\u001b[1m<\u001b[0;1m-------------> 0% CONFIGURING [16s]\u001b[m\u001b[36D\u001b[1B\u001b[1m> root project > Resolve dependencies of :classpath > juniversalchardet-1.0.3.p\u001b[m\u001b[79D\u001b[2B\u001b[2A\u001b[1m> root project > Resolve dependencies of :classpath > javax.annotation-api-1.3.\u001b[m\u001b[79D\u001b[2B\u001b[2A\u001b[1m> root project > Resolve dependencies of :classpath > jvnet-parent-3.pom\u001b[m\u001b[0K\u001b[72D\u001b[2B\u001b[2A\u001b[1m> root project > Resolve dependencies of :classpath\u001b[m\u001b[0K\u001b[51D\u001b[2B\u001b[2A\u001b[1m> root project > Resolve dependencies of :classpath > kotlin-stdlib-1.8.20-RC2.\u001b[m\u001b[79D\u001b[1B\u001b[1m> root project > Resolve dependencies of :classpath > kotlin-stdlib-jdk7-1.8.20\u001b[m\u001b[79D\u001b[1B\u001b[2A> IDLE\u001b[0K\u001b[6D\u001b[1B\u001b[1m> root project > Resolve dependencies of :classpath > asm-tree-9.2.pom\u001b[m\u001b[0K\u001b[70D\u001b[1B\u001b[2A\u001b[1m> root project > Resolve dependencies of :classpath > jakarta.xml.bind-api-2.3.\u001b[m\u001b[79D\u001b[1B\u001b[1m> root project > Resolve dependencies of :classpath > txw2-2.3.2.pom\u001b[m\u001b[0K\u001b[68D\u001b[1B\u001b[2A\u001b[1m> root project > Resolve dependencies of :classpath > jakarta.xml.bind-api-pare\u001b[m\u001b[79D\u001b[1B\u001b[1m> root project > Resolve dependencies of :classpath > jaxb-txw-parent-2.3.2.pom\u001b[m\u001b[79D\u001b[1B\u001b[2A\u001b[1m> root project > Resolve dependencies of :classpath > istack-commons-runtime-3.\u001b[m\u001b[79D\u001b[1B> IDLE\u001b[0K\u001b[6D\u001b[1B\u001b[2A\u001b[1m> root project > Resolve dependencies of :classpath > jakarta.activation-api-1.\u001b[m\u001b[79D\u001b[2B\u001b[3A\u001b[1m<\u001b[0;1m-------------> 0% CONFIGURING [17s]\u001b[m\u001b[36D\u001b[2B\u001b[1m> root project > Resolve dependencies of :classpath > istack-commons-3.0.8.pom\u001b[m\u001b[78D\u001b[1B\u001b[2A\u001b[1m> root project > Resolve dependencies of :classpath > all-1.2.1.pom\u001b[m\u001b[0K\u001b[67D\u001b[1B\u001b[1m> root project > Resolve dependencies of :classpath > FastInfoset-1.2.16.pom\u001b[m\u001b[0K\u001b[76D\u001b[1B\u001b[2A\u001b[1m> root project > Resolve dependencies of :classpath > project-1.0.2.pom\u001b[m\u001b[71D\u001b[1B\u001b[1m> root project > Resolve dependencies of :classpath > fastinfoset-project-1.2.1\u001b[m\u001b[79D\u001b[1B\u001b[2A\u001b[1m> root project > Resolve dependencies of :classpath > stax-ex-1.8.1.pom\u001b[m\u001b[71D\u001b[1B> IDLE\u001b[0K\u001b[6D\u001b[1B\u001b[2A\u001b[1m> root project > Resolve dependencies of :classpath\u001b[m\u001b[0K\u001b[51D\u001b[2B\u001b[2A\u001b[1m> root project > Resolve dependencies of :classpath > error_prone_annotations-2\u001b[m\u001b[79D\u001b[1B\u001b[1m> root project > Resolve dependencies of :classpath > auto-value-annotations-1.\u001b[m\u001b[79D\u001b[1B\u001b[2A\u001b[1m> root project > Resolve dependencies of :classpath > error_prone_parent-2.3.1.\u001b[m\u001b[79D\u001b[1B\u001b[1m> root project > Resolve dependencies of :classpath > auto-value-parent-1.6.2.p\u001b[m\u001b[79D\u001b[1B\u001b[2A\u001b[1m> root project > Resolve dependencies of :classpath > auto-parent-6.pom\u001b[m\u001b[0K\u001b[71D\u001b[1B\u001b[1m> root project > Resolve dependencies of :classpath > slf4j-api-1.7.30.pom\u001b[m\u001b[0K\u001b[74D\u001b[1B\u001b[2A\u001b[1m> root project > Resolve dependencies of :classpath > slf4j-parent-1.7.30.pom\u001b[m\u001b[77D\u001b[1B\u001b[1m> root project > Resolve dependencies of :classpath > dagger-2.28.3.pom\u001b[m\u001b[0K\u001b[71D\u001b[1B\u001b[2A\u001b[1m> root project > Resolve dependencies of :classpath > jose4j-0.7.0.pom\u001b[m\u001b[0K\u001b[70D\u001b[1B> IDLE\u001b[0K\u001b[6D\u001b[1B\u001b[3A\u001b[1m<\u001b[0;1m-------------> 0% CONFIGURING [18s]\u001b[m\u001b[36D\u001b[1B\u001b[1m> root project > Resolve dependencies of :classpath\u001b[m\u001b[0K\u001b[51D\u001b[2B\u001b[2A\u001b[1m> root project > Resolve dependencies of :classpath > jdom2-2.0.6.pom\u001b[m\u001b[69D\u001b[2B\u001b[2A\u001b[1m> root project > Resolve dependencies of :classpath > error_prone_annotations-2\u001b[m\u001b[79D\u001b[2B\u001b[2A\u001b[1m> root project > Resolve dependencies of :classpath > error_prone_parent-2.5.1.\u001b[m\u001b[79D\u001b[2B\u001b[2A\u001b[1m> root project > Resolve dependencies of :classpath > jsr305-3.0.2.pom\u001b[m\u001b[0K\u001b[70D\u001b[1B\u001b[1m> root project > Resolve dependencies of :classpath > j2objc-annotations-1.3.po\u001b[m\u001b[79D\u001b[1B\u001b[2A> IDLE\u001b[0K\u001b[6D\u001b[1B\u001b[1m> root project > Resolve dependencies of :classpath > error_prone_annotations-2\u001b[m\u001b[79D\u001b[1B\u001b[1A\u001b[1m> root project > Resolve dependencies of :classpath > error_prone_parent-2.10.0\u001b[m\u001b[79D\u001b[1B\u001b[2A\u001b[1m> root project > Resolve dependencies of :classpath > grpc-api-1.45.1.pom\u001b[m\u001b[73D\u001b[1B\u001b[1m> root project > Resolve dependencies of :classpath > annotations-4.1.1.4.pom\u001b[m\u001b[0K\u001b[77D\u001b[1B\u001b[2A\u001b[1m> root project > Resolve dependencies of :classpath > animal-sniffer-annotation\u001b[m\u001b[79D\u001b[1B\u001b[1m> root project > Resolve dependencies of :classpath > perfmark-api-0.23.0.pom\u001b[m\u001b[77D\u001b[1B\u001b[3A\u001b[1m<\u001b[0;1m-------------> 0% CONFIGURING [19s]\u001b[m\u001b[36D\u001b[1B\u001b[1m> root project > Resolve dependencies of :classpath > animal-sniffer-parent-1.1\u001b[m\u001b[79D\u001b[1B\u001b[1m> root project > Resolve dependencies of :classpath > perfmark-api-0.23.0.modul\u001b[m\u001b[79D\u001b[1B\u001b[2A\u001b[1m> root project > Resolve dependencies of :classpath > mojo-parent-50.pom\u001b[m\u001b[0K\u001b[72D\u001b[1B> IDLE\u001b[0K\u001b[6D\u001b[1B\u001b[2A\u001b[1m> root project > Resolve dependencies of :classpath\u001b[m\u001b[0K\u001b[51D\u001b[2B\u001b[2A\u001b[1m> root project > Resolve dependencies of :classpath > netty-codec-http2-4.1.72.\u001b[m\u001b[79D\u001b[1B\u001b[1m> root project > Resolve dependencies of :classpath > netty-handler-proxy-4.1.7\u001b[m\u001b[79D\u001b[1B\u001b[2A\u001b[1m> root project > Resolve dependencies of :classpath > netty-parent-4.1.72.Final\u001b[m\u001b[79D\u001b[1B\u001b[1m> root project > Resolve dependencies of :classpath > netty-parent-4.1.72.Final\u001b[m\u001b[79D\u001b[1B\u001b[2A> IDLE\u001b[0K\u001b[6D\u001b[1B\u001b[1m> root project > Resolve dependencies of :classpath > oss-parent-9.pom\u001b[m\u001b[0K\u001b[70D\u001b[1B\u001b[1A\u001b[1m> root project > Resolve dependencies of :classpath\u001b[m\u001b[0K\u001b[51D\u001b[1B\u001b[2A\u001b[1m> root project > Resolve dependencies of :classpath > proto-google-common-proto\u001b[m\u001b[79D\u001b[1B\u001b[1m> root project > Resolve dependencies of :classpath > grpc-protobuf-lite-1.45.1\u001b[m\u001b[79D\u001b[1B\u001b[2A\u001b[1m> root project > Resolve dependencies of :classpath > checker-qual-2.5.8.pom\u001b[m\u001b[0K\u001b[76D\u001b[1B> IDLE\u001b[0K\u001b[6D\u001b[1B\u001b[2A\u001b[1m> root project > Resolve dependencies of :classpath > signflinger-8.1.1.pom\u001b[m\u001b[0K\u001b[75D\u001b[1B\u001b[1m> root project > Resolve dependencies of :classpath > tracker-31.1.1.pom\u001b[m\u001b[72D\u001b[1B\u001b[3A\u001b[1m<\u001b[0;1m-------------> 0% CONFIGURING [20s]\u001b[m\u001b[36D\u001b[1B\u001b[1m> root project > Resolve dependencies of :classpath > manifest-merger-31.1.1.po\u001b[m\u001b[79D\u001b[1B\u001b[1m> root project > Resolve dependencies of :classpath > commons-codec-1.10.pom\u001b[m\u001b[76D\u001b[1B\u001b[1A\u001b[1m> root project > Resolve dependencies of :classpath > commons-parent-35.pom\u001b[m\u001b[0K\u001b[75D\u001b[1B\u001b[2A> IDLE\u001b[0K\u001b[6D\u001b[1B\u001b[1m> root project > Resolve dependencies of :classpath > zipflinger-8.1.1.pom\u001b[m\u001b[0K\u001b[74D\u001b[1B\u001b[2A\u001b[1m> root project > Resolve dependencies of :classpath > apache-15.pom\u001b[m\u001b[67D\u001b[1B\u001b[1m> root project > Resolve dependencies of :classpath > javawriter-2.5.0.pom\u001b[m\u001b[74D\u001b[1B\u001b[2A\u001b[1m> root project > Resolve dependencies of :classpath > apksig-8.1.1.pom\u001b[m\u001b[70D\u001b[1B\u001b[1m> root project > Resolve dependencies of :classpath > apkzlib-8.1.1.pom\u001b[m\u001b[0K\u001b[71D\u001b[1B\u001b[2A\u001b[1m> root project > Resolve dependencies of :classpath > checker-qual-3.12.0.pom\u001b[m\u001b[77D\u001b[1B> IDLE\u001b[0K\u001b[6D\u001b[1B\u001b[2A\u001b[1m> root project > Resolve dependencies of :classpath > checker-qual-3.12.0.modul\u001b[m\u001b[79D\u001b[2B\u001b[2A\u001b[1m> root project > Resolve dependencies of :classpath > error_prone_annotations-2\u001b[m\u001b[79D\u001b[2B\u001b[2A\u001b[1m> root project > Resolve dependencies of :classpath > error_prone_parent-2.11.0\u001b[m\u001b[79D\u001b[2B\u001b[2A\u001b[1m> root project > Resolve dependencies of :classpath > failureaccess-1.0.1.pom\u001b[m\u001b[0K\u001b[77D\u001b[1B\u001b[1m> root project > Resolve dependencies of :classpath > listenablefuture-9999.0-e\u001b[m\u001b[79D\u001b[1B\u001b[3A\u001b[1m<\u001b[0;1m-------------> 0% CONFIGURING [21s]\u001b[m\u001b[36D\u001b[1B> IDLE\u001b[0K\u001b[6D\u001b[1B\u001b[1m> root project > Resolve dependencies of :classpath > guava-parent-26.0-android\u001b[m\u001b[79D\u001b[1B\u001b[1A\u001b[1m> root project > Resolve dependencies of :classpath > xml-apis-1.4.01.pom\u001b[m\u001b[0K\u001b[73D\u001b[1B\u001b[1A\u001b[1m> root project > Resolve dependencies of :classpath > commons-codec-1.11.pom\u001b[m\u001b[76D\u001b[1B\u001b[1A\u001b[1m> root project > Resolve dependencies of :classpath > commons-parent-42.pom\u001b[m\u001b[0K\u001b[75D\u001b[1B\u001b[1A\u001b[1m> root project > Resolve dependencies of :classpath > commons-logging-1.2.pom\u001b[m\u001b[77D\u001b[1B\u001b[1A\u001b[1m> root project > Resolve dependencies of :classpath > commons-parent-34.pom\u001b[m\u001b[0K\u001b[75D\u001b[1B\u001b[1A\u001b[1m> root project > Resolve dependencies of :classpath > apache-13.pom\u001b[m\u001b[0K\u001b[67D\u001b[1B\u001b[1A\u001b[1m> root project > Resolve dependencies of :classpath > jna-5.6.0.pom\u001b[m\u001b[67D\u001b[1B\u001b[3A\u001b[1m<\u001b[0;1m-------------> 0% CONFIGURING [22s]\u001b[m\u001b[36D\u001b[2B\u001b[1m> root project > Resolve dependencies of :classpath > kotlin-stdlib-common-1.8.\u001b[m\u001b[79D\u001b[1B\u001b[1A\u001b[1m> root project > Resolve dependencies of :classpath > grpc-context-1.45.1.pom\u001b[m\u001b[0K\u001b[77D\u001b[1B\u001b[1A\u001b[1m> root project > Resolve dependencies of :classpath\u001b[m\u001b[0K\u001b[51D\u001b[1B\u001b[2A\u001b[1m> root project > Resolve dependencies of :classpath > netty-buffer-4.1.72.Final\u001b[m\u001b[79D\u001b[1B\u001b[1m> root project > Resolve dependencies of :classpath > netty-common-4.1.72.Final\u001b[m\u001b[79D\u001b[1B\u001b[2A\u001b[1m> root project > Resolve dependencies of :classpath > netty-transport-4.1.72.Fi\u001b[m\u001b[79D\u001b[1B\u001b[1m> root project > Resolve dependencies of :classpath > netty-codec-http-4.1.72.F\u001b[m\u001b[79D\u001b[1B\u001b[2A\u001b[1m> root project > Resolve dependencies of :classpath > netty-handler-4.1.72.Fina\u001b[m\u001b[79D\u001b[1B\u001b[1m> root project > Resolve dependencies of :classpath > netty-codec-4.1.72.Final.\u001b[m\u001b[79D\u001b[1B\u001b[2A> IDLE\u001b[0K\u001b[6D\u001b[1B\u001b[1m> root project > Resolve dependencies of :classpath\u001b[m\u001b[0K\u001b[51D\u001b[1B\u001b[1A\u001b[1m> root project > Resolve dependencies of :classpath > netty-codec-socks-4.1.72.\u001b[m\u001b[79D\u001b[1B\u001b[1A\u001b[1m> root project > Resolve dependencies of :classpath > netty-resolver-4.1.72.Fin\u001b[m\u001b[79D\u001b[1B\u001b[1A\u001b[1m> root project > Resolve dependencies of :classpath > netty-tcnative-classes-2.\u001b[m\u001b[79D\u001b[1B\u001b[3A\u001b[1m<\u001b[0;1m-------------> 0% CONFIGURING [23s]\u001b[m\u001b[36D\u001b[2B\u001b[1m> root project > Resolve dependencies of :classpath > netty-tcnative-parent-2.0\u001b[m\u001b[79D\u001b[1B\u001b[1A\u001b[1m> root project > Resolve dependencies of :classpath\u001b[m\u001b[0K\u001b[51D\u001b[1B\u001b[2A\u001b[1m> root project > Resolve files of :classpath > repository-31.1.1.jar\u001b[m\u001b[68D\u001b[1B\u001b[1m> root project > Resolve files of :classpath > gradle-8.1.1.jar\u001b[m\u001b[63D\u001b[1B\u001b[2A> IDLE\u001b[0K\u001b[6D\u001b[1B\u001b[1m> root project > Resolve files of :classpath > gradle-8.1.1.jar > 293 KiB/10.3 \u001b[m\u001b[79D\u001b[1B\u001b[2A\u001b[1m> root project > Resolve files of :classpath > layoutlib-api-31.1.1.jar > 107.4\u001b[m\u001b[79D\u001b[1B\u001b[1m> root project > Resolve files of :classpath > gradle-8.1.1.jar > 650.9 KiB/10.\u001b[m\u001b[79D\u001b[1B\u001b[2A\u001b[1m> root project > Resolve files of :classpath > android-device-provider-gradle-p\u001b[m\u001b[79D\u001b[1B\u001b[1m> root project > Resolve files of :classpath > gradle-8.1.1.jar > 944 KiB/10.3 \u001b[m\u001b[79D\u001b[1B\u001b[1A\u001b[1m> root project > Resolve files of :classpath > gradle-8.1.1.jar > 1.3 MiB/10.3 \u001b[m\u001b[79D\u001b[1B\u001b[2A\u001b[1m> root project > Resolve files of :classpath > android-test-plugin-host-coverag\u001b[m\u001b[79D\u001b[1B\u001b[1m> root project > Resolve files of :classpath > gradle-8.1.1.jar > 2.2 MiB/10.3 \u001b[m\u001b[79D\u001b[1B\u001b[2A\u001b[1m> root project > Resolve files of :classpath > android-test-plugin-host-emulato\u001b[m\u001b[79D\u001b[1B\u001b[1m> root project > Resolve files of :classpath > gradle-8.1.1.jar > 2.9 MiB/10.3 \u001b[m\u001b[79D\u001b[1B\u001b[3A\u001b[1m<\u001b[0;1m-------------> 0% CONFIGURING [24s]\u001b[m\u001b[36D\u001b[1B\u001b[1m> root project > Resolve files of :classpath > android-test-plugin-host-logcat-\u001b[m\u001b[79D\u001b[1B\u001b[1m> root project > Resolve files of :classpath > gradle-8.1.1.jar > 3.7 MiB/10.3 \u001b[m\u001b[79D\u001b[1B\u001b[2A\u001b[1m> root project > Resolve files of :classpath > android-test-plugin-host-apk-ins\u001b[m\u001b[79D\u001b[1B\u001b[1m> root project > Resolve files of :classpath > gradle-8.1.1.jar > 4.3 MiB/10.3 \u001b[m\u001b[79D\u001b[1B\u001b[2A\u001b[1m> root project > Resolve files of :classpath > android-test-plugin-host-retenti\u001b[m\u001b[79D\u001b[1B\u001b[1m> root project > Resolve files of :classpath > gradle-8.1.1.jar > 4.9 MiB/10.3 \u001b[m\u001b[79D\u001b[1B\u001b[2A\u001b[1m> root project > Resolve files of :classpath > builder-model-8.1.1.jar\u001b[m\u001b[0K\u001b[70D\u001b[1B\u001b[1m> root project > Resolve files of :classpath > gradle-8.1.1.jar > 5.5 MiB/10.3 \u001b[m\u001b[79D\u001b[1B\u001b[2A\u001b[1m> root project > Resolve files of :classpath > dvlib-31.1.1.jar\u001b[m\u001b[0K\u001b[63D\u001b[1B\u001b[1m> root project > Resolve files of :classpath > gradle-8.1.1.jar > 6.2 MiB/10.3 \u001b[m\u001b[79D\u001b[1B\u001b[2A\u001b[1m> root project > Resolve files of :classpath > common-31.1.1.jar > 67.4 KiB/526\u001b[m\u001b[79D\u001b[1B\u001b[1m> root project > Resolve files of :classpath > gradle-8.1.1.jar > 6.9 MiB/10.3 \u001b[m\u001b[79D\u001b[1B\u001b[2A\u001b[1m> root project > Resolve files of :classpath > kotlin-stdlib-jdk8-1.8.20-RC2.ja\u001b[m\u001b[79D\u001b[1B\u001b[1m> root project > Resolve files of :classpath > gradle-8.1.1.jar > 7.8 MiB/10.3 \u001b[m\u001b[79D\u001b[1B\u001b[2A\u001b[1m> root project > Resolve files of :classpath > httpmime-4.5.6.jar\u001b[m\u001b[0K\u001b[65D\u001b[1B\u001b[1m> root project > Resolve files of :classpath > gradle-8.1.1.jar > 9.2 MiB/10.3 \u001b[m\u001b[79D\u001b[1B\u001b[2A\u001b[1m> root project > Resolve files of :classpath > commons-io-2.4.jar\u001b[m\u001b[65D\u001b[1B\u001b[1m> root project > Resolve files of :classpath > gradle-8.1.1.jar > 10.2 MiB/10.3\u001b[m\u001b[79D\u001b[1B\u001b[2A\u001b[1m> root project > Resolve files of :classpath\u001b[m\u001b[0K\u001b[44D\u001b[1B> IDLE\u001b[0K\u001b[6D\u001b[1B\u001b[3A\u001b[1m<\u001b[0;1m-------------> 0% CONFIGURING [25s]\u001b[m\u001b[36D\u001b[1B\u001b[1m> root project > Resolve files of :classpath > jetifier-processor-1.0.0-beta10.\u001b[m\u001b[79D\u001b[1B\u001b[1m> root project > Resolve files of :classpath > asm-commons-9.2.jar\u001b[m\u001b[66D\u001b[1B\u001b[2A\u001b[1m> root project > Resolve files of :classpath > asm-tree-9.2.jar\u001b[m\u001b[0K\u001b[63D\u001b[1B\u001b[1m> root project > Resolve files of :classpath > asm-analysis-9.2.jar\u001b[m\u001b[67D\u001b[1B\u001b[2A\u001b[1m> root project > Resolve files of :classpath > apkzlib-8.1.1.jar\u001b[m\u001b[64D\u001b[1B\u001b[1m> root project > Resolve files of :classpath > asm-9.2.jar > 15.4 KiB/119.1 KiB\u001b[m\u001b[79D\u001b[1B\u001b[2A\u001b[1m> root project > Resolve files of :classpath > jaxb-runtime-2.3.2.jar\u001b[m\u001b[69D\u001b[1B\u001b[1m> root project > Resolve files of :classpath > bcpkix-jdk15on-1.67.jar\u001b[m\u001b[0K\u001b[70D\u001b[1B\u001b[2A\u001b[1m> root project > Resolve files of :classpath > jetifier-core-1.0.0-beta10.jar\u001b[m\u001b[77D\u001b[1B\u001b[1m> root project > Resolve files of :classpath > jopt-simple-4.9.jar\u001b[m\u001b[0K\u001b[66D\u001b[1B\u001b[2A\u001b[1m> root project > Resolve files of :classpath > jetifier-core-1.0.0-beta10.jar >\u001b[m\u001b[79D\u001b[2B\u001b[2A\u001b[1m> root project > Resolve files of :classpath > protobuf-java-util-3.19.3.jar\u001b[m\u001b[0K\u001b[76D\u001b[1B\u001b[1m> root project > Resolve files of :classpath > javapoet-1.10.0.jar\u001b[m\u001b[66D\u001b[1B\u001b[2A\u001b[1m> root project > Resolve files of :classpath > grpc-protobuf-1.45.1.jar\u001b[m\u001b[0K\u001b[71D\u001b[1B\u001b[1m> root project > Resolve files of :classpath > tink-1.7.0.jar\u001b[m\u001b[0K\u001b[61D\u001b[1B\u001b[2A\u001b[1m> root project > Resolve files of :classpath > protos-31.1.1.jar > 111.5 KiB/6.\u001b[m\u001b[79D\u001b[1B\u001b[1m> root project > Resolve files of :classpath > tink-1.7.0.jar > 1.2 MiB/1.7 MiB\u001b[m\u001b[79D\u001b[1B\u001b[2A\u001b[1m> root project > Resolve files of :classpath > protos-31.1.1.jar > 1000 KiB/6.6\u001b[m\u001b[79D\u001b[1B\u001b[1m> root project > Resolve files of :classpath > proto-google-common-protos-2.0.1\u001b[m\u001b[79D\u001b[1B\u001b[3A\u001b[1m<\u001b[0;1m-------------> 0% CONFIGURING [26s]\u001b[m\u001b[36D\u001b[1B\u001b[1m> root project > Resolve files of :classpath > protos-31.1.1.jar > 2.4 MiB/6.6 \u001b[m\u001b[79D\u001b[2B\u001b[2A> IDLE\u001b[0K\u001b[6D\u001b[1B\u001b[1m> root project > Resolve files of :classpath > protobuf-java-3.19.3.jar\u001b[m\u001b[0K\u001b[71D\u001b[1B\u001b[2A\u001b[1m> root project > Resolve files of :classpath > grpc-netty-1.45.1.jar\u001b[m\u001b[68D\u001b[1B\u001b[1m> root project > Resolve files of :classpath > protobuf-java-3.19.3.jar > 1.1 M\u001b[m\u001b[79D\u001b[1B\u001b[2A\u001b[1m> root project > Resolve files of :classpath > grpc-core-1.45.1.jar\u001b[m\u001b[0K\u001b[67D\u001b[1B\u001b[1m> root project > Resolve files of :classpath > gson-2.8.9.jar\u001b[m\u001b[0K\u001b[61D\u001b[1B\u001b[2A\u001b[1m> root project > Resolve files of :classpath > core-proto-0.0.8-alpha08.jar\u001b[m\u001b[75D\u001b[1B\u001b[1m> root project > Resolve files of :classpath > grpc-stub-1.45.1.jar\u001b[m\u001b[67D\u001b[1B\u001b[2A\u001b[1m> root project > Resolve files of :classpath > flatbuffers-java-1.12.0.jar\u001b[m\u001b[0K\u001b[74D\u001b[1B\u001b[1m> root project > Resolve files of :classpath > tensorflow-lite-metadata-0.1.0-r\u001b[m\u001b[79D\u001b[1B\u001b[2A\u001b[1m> root project > Resolve files of :classpath > grpc-protobuf-lite-1.45.1.jar\u001b[m\u001b[76D\u001b[1B\u001b[1m> root project > Resolve files of :classpath > jimfs-1.1.jar\u001b[m\u001b[0K\u001b[60D\u001b[1B\u001b[2A\u001b[1m> root project > Resolve files of :classpath > grpc-api-1.45.1.jar\u001b[m\u001b[0K\u001b[66D\u001b[1B\u001b[1m> root project > Resolve files of :classpath > guava-31.1-jre.jar\u001b[m\u001b[65D\u001b[1B\u001b[2A> IDLE\u001b[0K\u001b[6D\u001b[1B\u001b[1m> root project > Resolve files of :classpath\u001b[m\u001b[0K\u001b[44D\u001b[1B\u001b[2A\u001b[1m> root project > Resolve files of :classpath > trove4j-1.0.20200330.jar\u001b[m\u001b[71D\u001b[1B\u001b[1m> root project > Resolve files of :classpath > bcprov-jdk15on-1.67.jar\u001b[m\u001b[70D\u001b[1B\u001b[3A\u001b[1m<\u001b[0;1m-------------> 0% CONFIGURING [27s]\u001b[m\u001b[36D\u001b[1B> IDLE\u001b[0K\u001b[6D\u001b[1B\u001b[1m> root project > Resolve files of :classpath > bcprov-jdk15on-1.67.jar > 683 Ki\u001b[m\u001b[79D\u001b[1B\u001b[2A\u001b[1m> root project > Resolve files of :classpath > kotlin-reflect-1.8.20-RC2.jar > \u001b[m\u001b[79D\u001b[1B\u001b[1m> root project > Resolve files of :classpath > bcprov-jdk15on-1.67.jar > 3.3 Mi\u001b[m\u001b[79D\u001b[1B\u001b[1A> IDLE\u001b[0K\u001b[6D\u001b[1B\u001b[2A\u001b[1m> root project > Resolve files of :classpath > commons-compress-1.21.jar\u001b[m\u001b[0K\u001b[72D\u001b[1B\u001b[1m> root project > Resolve files of :classpath > xercesImpl-2.12.0.jar > 204.1 Ki\u001b[m\u001b[79D\u001b[1B\u001b[2A\u001b[1m> root project > Resolve files of :classpath > httpclient-4.5.13.jar\u001b[m\u001b[0K\u001b[68D\u001b[1B\u001b[1m> root project > Resolve files of :classpath > httpcore-4.4.15.jar\u001b[m\u001b[0K\u001b[66D\u001b[1B\u001b[2A\u001b[1m> root project > Resolve files of :classpath > javax.activation-1.2.0.jar\u001b[m\u001b[73D\u001b[1B> IDLE\u001b[0K\u001b[6D\u001b[1B\u001b[2A\u001b[1m> root project > Resolve files of :classpath > kotlin-stdlib-1.8.20-RC2.jar\u001b[m\u001b[75D\u001b[1B\u001b[1m> root project > Resolve files of :classpath > annotations-13.0.jar\u001b[m\u001b[67D\u001b[1B\u001b[2A\u001b[1m> root project > Resolve files of :classpath > kotlin-stdlib-1.8.20-RC2.jar > 1\u001b[m\u001b[79D\u001b[1B> IDLE\u001b[0K\u001b[6D\u001b[1B\u001b[2A\u001b[1m> root project > Resolve files of :classpath > jna-platform-5.6.0.jar\u001b[m\u001b[0K\u001b[69D\u001b[1B\u001b[1m> root project > Resolve files of :classpath > juniversalchardet-1.0.3.jar\u001b[m\u001b[74D\u001b[1B\u001b[2A\u001b[1m> root project > Resolve files of :classpath > jna-platform-5.6.0.jar > 2.1 MiB\u001b[m\u001b[79D\u001b[1B\u001b[1m> root project > Resolve files of :classpath > javax.annotation-api-1.3.2.jar\u001b[m\u001b[77D\u001b[1B\u001b[3A\u001b[1m<\u001b[0;1m-------------> 0% CONFIGURING [28s]\u001b[m\u001b[36D\u001b[1B\u001b[1m> root project > Resolve files of :classpath > jakarta.xml.bind-api-2.3.2.jar\u001b[m\u001b[0K\u001b[77D\u001b[1B\u001b[1m> root project > Resolve files of :classpath > stax-ex-1.8.1.jar\u001b[m\u001b[0K\u001b[64D\u001b[1B\u001b[2A\u001b[1m> root project > Resolve files of :classpath > FastInfoset-1.2.16.jar\u001b[m\u001b[0K\u001b[69D\u001b[1B\u001b[1m> root project > Resolve files of :classpath > jakarta.activation-api-1.2.1.jar\u001b[m\u001b[79D\u001b[1B\u001b[2A\u001b[1m> root project > Resolve files of :classpath > error_prone_annotations-2.11.0.j\u001b[m\u001b[79D\u001b[1B\u001b[1m> root project > Resolve files of :classpath > auto-value-annotations-1.6.2.jar\u001b[m\u001b[79D\u001b[1B\u001b[2A\u001b[1m> root project > Resolve files of :classpath > slf4j-api-1.7.30.jar\u001b[m\u001b[0K\u001b[67D\u001b[1B\u001b[1m> root project > Resolve files of :classpath > jose4j-0.7.0.jar\u001b[m\u001b[0K\u001b[63D\u001b[1B\u001b[2A\u001b[1m> root project > Resolve files of :classpath > jdom2-2.0.6.jar\u001b[m\u001b[0K\u001b[62D\u001b[1B\u001b[1m> root project > Resolve files of :classpath > j2objc-annotations-1.3.jar\u001b[m\u001b[73D\u001b[1B\u001b[2A\u001b[1m> root project > Resolve files of :classpath > animal-sniffer-annotations-1.19.\u001b[m\u001b[79D\u001b[1B> IDLE\u001b[0K\u001b[6D\u001b[1B\u001b[2A\u001b[1m> root project > Resolve files of :classpath > netty-codec-http2-4.1.72.Final.j\u001b[m\u001b[79D\u001b[1B\u001b[1m> root project > Resolve files of :classpath > netty-handler-proxy-4.1.72.Final\u001b[m\u001b[79D\u001b[1B\u001b[2A\u001b[1m> root project > Resolve files of :classpath > commons-codec-1.11.jar\u001b[m\u001b[0K\u001b[69D\u001b[1B\u001b[1m> root project > Resolve files of :classpath > checker-qual-3.12.0.jar\u001b[m\u001b[0K\u001b[70D\u001b[1B\u001b[2A\u001b[1m> root project > Resolve files of :classpath > javawriter-2.5.0.jar\u001b[m\u001b[0K\u001b[67D\u001b[1B\u001b[1m> root project > Resolve files of :classpath > apksig-8.1.1.jar > 89.1 KiB/472.\u001b[m\u001b[79D\u001b[1B\u001b[2A\u001b[1m> root project > Resolve files of :classpath > commons-logging-1.2.jar\u001b[m\u001b[70D\u001b[1B\u001b[1m> root project > Resolve files of :classpath > xml-apis-1.4.01.jar\u001b[m\u001b[0K\u001b[66D\u001b[1B\u001b[3A\u001b[1m<\u001b[0;1m-------------> 0% CONFIGURING [29s]\u001b[m\u001b[36D\u001b[1B\u001b[1m> root project > Resolve files of :classpath > jna-5.6.0.jar\u001b[m\u001b[0K\u001b[60D\u001b[1B\u001b[1m> root project > Resolve files of :classpath > kotlin-stdlib-common-1.8.20-RC2.\u001b[m\u001b[79D\u001b[1B\u001b[2A\u001b[1m> root project > Resolve files of :classpath > netty-codec-http-4.1.72.Final.ja\u001b[m\u001b[79D\u001b[1B\u001b[1m> root project > Resolve files of :classpath > grpc-context-1.45.1.jar\u001b[m\u001b[0K\u001b[70D\u001b[1B\u001b[2A\u001b[1m> root project > Resolve files of :classpath > netty-codec-socks-4.1.72.Final.j\u001b[m\u001b[79D\u001b[1B\u001b[1m> root project > Resolve files of :classpath > netty-handler-4.1.72.Final.jar\u001b[m\u001b[77D\u001b[1B\u001b[2A\u001b[1m> root project > Resolve files of :classpath > netty-transport-4.1.72.Final.jar\u001b[m\u001b[79D\u001b[1B\u001b[1m> root project > Resolve files of :classpath > netty-codec-4.1.72.Final.jar\u001b[m\u001b[0K\u001b[75D\u001b[1B\u001b[2A\u001b[1m> root project > Resolve files of :classpath > netty-resolver-4.1.72.Final.jar\u001b[m\u001b[0K\u001b[78D\u001b[1B\u001b[1m> root project > Resolve files of :classpath > netty-common-4.1.72.Final.jar\u001b[m\u001b[76D\u001b[1B\u001b[2A\u001b[1m> root project > Resolve files of :classpath > baseLibrary-8.1.1.jar\u001b[m\u001b[0K\u001b[68D\u001b[1B\u001b[1m> root project > Resolve files of :classpath > gradle-settings-api-8.1.1.jar\u001b[m\u001b[76D\u001b[1B\u001b[2A\u001b[1m> root project > Resolve files of :classpath > databinding-compiler-common-8.1.\u001b[m\u001b[79D\u001b[1B\u001b[1m> root project > Resolve files of :classpath > builder-8.1.1.jar > 1.1 MiB/11.3\u001b[m\u001b[79D\u001b[1B\u001b[2A\u001b[1m> root project > Resolve files of :classpath > databinding-common-8.1.1.jar\u001b[m\u001b[0K\u001b[75D\u001b[1B\u001b[1m> root project > Resolve files of :classpath > builder-8.1.1.jar > 9.9 MiB/11.3\u001b[m\u001b[79D\u001b[1B\u001b[2A\u001b[1m> root project > Resolve files of :classpath\u001b[m\u001b[0K\u001b[44D\u001b[1B> IDLE\u001b[0K\u001b[6D\u001b[1B\u001b[2A\u001b[1m> root project > Resolve files of :classpath > sdk-common-31.1.1.jar\u001b[m\u001b[68D\u001b[1B\u001b[1m> root project > Resolve files of :classpath > lint-typedef-remover-31.1.1.jar\u001b[m\u001b[78D\u001b[1B\u001b[3A\u001b[1m<\u001b[0;1m-------------> 0% CONFIGURING [30s]\u001b[m\u001b[36D\u001b[1B\u001b[1m> root project > Resolve files of :classpath > gradle-api-8.1.1.jar\u001b[m\u001b[0K\u001b[67D\u001b[1B\u001b[1m> root project > Resolve files of :classpath > crash-31.1.1.jar\u001b[m\u001b[0K\u001b[63D\u001b[1B\u001b[2A\u001b[1m> root project > Resolve files of :classpath > bundletool-1.14.0.jar\u001b[m\u001b[68D\u001b[1B\u001b[1m> root project > Resolve files of :classpath > ddmlib-31.1.1.jar > 168 KiB/598.\u001b[m\u001b[79D\u001b[1B\u001b[2A\u001b[1m> root project > Resolve files of :classpath > bundletool-1.14.0.jar > 11.1 MiB\u001b[m\u001b[79D\u001b[1B> IDLE\u001b[0K\u001b[6D\u001b[1B\u001b[2A\u001b[1m> root project > Resolve files of :classpath\u001b[m\u001b[0K\u001b[44D\u001b[2B\u001b[2A\u001b[1m> root project\u001b[m\u001b[0K\u001b[14D\u001b[2B\u001b[3A\u001b[1m<\u001b[0;1m-------------> 0% CONFIGURING [31s]\u001b[m\u001b[36D\u001b[3B\u001b[3A\u001b[1m<\u001b[0;1m-------------> 0% CONFIGURING [32s]\u001b[m\u001b[36D\u001b[3B\u001b[3A\u001b[1m<\u001b[0;1m-------------> 0% CONFIGURING [33s]\u001b[m\u001b[36D\u001b[3B\u001b[3A\u001b[1m<\u001b[0;1m-------------> 0% CONFIGURING [34s]\u001b[m\u001b[36D\u001b[3B\u001b[3A\u001b[1m<\u001b[0;1m-------------> 0% CONFIGURING [35s]\u001b[m\u001b[36D\u001b[3B\u001b[3A\u001b[1m<\u001b[0;1m-------------> 0% CONFIGURING [36s]\u001b[m\u001b[36D\u001b[3B\u001b[3A\u001b[1m<\u001b[0;1m-------------> 0% CONFIGURING [37s]\u001b[m\u001b[36D\u001b[3B\u001b[3A\u001b[1m<\u001b[0;1m-------------> 0% CONFIGURING [38s]\u001b[m\u001b[36D\u001b[3B\u001b[3A\u001b[1m<\u001b[0;1m-------------> 0% CONFIGURING [39s]\u001b[m\u001b[36D\u001b[3B\u001b[3A\u001b[1m<\u001b[0;1m-------------> 0% CONFIGURING [40s]\u001b[m\u001b[36D\u001b[3B\u001b[3A\u001b[1m<\u001b[0;1m-------------> 0% CONFIGURING [41s]\u001b[m\u001b[36D\u001b[3B\u001b[3A\u001b[1m<\u001b[0;1m-------------> 0% CONFIGURING [42s]\u001b[m\u001b[36D\u001b[3B\u001b[3A\u001b[1m<\u001b[0;1m-------------> 0% CONFIGURING [43s]\u001b[m\u001b[36D\u001b[3B\u001b[3A\u001b[1m<\u001b[0;1m-------------> 0% CONFIGURING [44s]\u001b[m\u001b[36D\u001b[3B\u001b[3A\u001b[1m<\u001b[0;1m-------------> 0% CONFIGURING [45s]\u001b[m\u001b[36D\u001b[3B\u001b[3A\u001b[1m<\u001b[0;1m-------------> 0% CONFIGURING [46s]\u001b[m\u001b[36D\u001b[3B\u001b[3A\u001b[1m<\u001b[0;1m-------------> 0% CONFIGURING [47s]\u001b[m\u001b[36D\u001b[3B\u001b[3A\u001b[1m<\u001b[0;1m-------------> 0% CONFIGURING [48s]\u001b[m\u001b[36D\u001b[3B\u001b[2A\u001b[1m> root project > Compiling build file 'build.gradle'\u001b[m\u001b[52D\u001b[2B\u001b[3A\u001b[1m<\u001b[0;1m-------------> 0% CONFIGURING [49s]\u001b[m\u001b[36D\u001b[1B\u001b[1m> root project\u001b[m\u001b[0K\u001b[14D\u001b[2B\u001b[3A\u001b[1m<\u001b[0;1m-------------> 0% CONFIGURING [50s]\u001b[m\u001b[36D\u001b[3B\u001b[3A\u001b[1m<\u001b[0;1m-------------> 0% CONFIGURING [51s]\u001b[m\u001b[36D\u001b[3B\u001b[3A\u001b[1m<\u001b[0;1m-------------> 0% CONFIGURING [52s]\u001b[m\u001b[36D\u001b[3B\u001b[3A\u001b[1m<\u001b[0;1m-------------> 0% CONFIGURING [53s]\u001b[m\u001b[36D\u001b[3B\u001b[3A\u001b[1m<\u001b[0;1m-------------> 0% CONFIGURING [54s]\u001b[m\u001b[36D\u001b[3B\u001b[3A\u001b[1m<\u001b[0;1m-------------> 0% CONFIGURING [55s]\u001b[m\u001b[36D\u001b[3B\u001b[3A\u001b[1m<\u001b[0;32;1m=============\u001b[0;39;1m> 100% CONFIGURING [55s]\u001b[m\u001b[38D\u001b[1B\u001b[1m> Resolve dependencies of :classpath\u001b[m\u001b[36D\u001b[2B\u001b[2A> IDLE\u001b[0K\u001b[6D\u001b[2B\u001b[3A\u001b[1m<\u001b[0;32;1m=============\u001b[0;39;1m> 100% CONFIGURING [56s]\u001b[m\u001b[38D\u001b[3B\u001b[3A\u001b[1m<\u001b[0;1m-------------> 0% EXECUTING [56s]\u001b[m\u001b[0K\u001b[34D\u001b[3B\u001b[3A\u001b[1m<\u001b[0;1m-------------> 7% EXECUTING [57s]\u001b[m\u001b[34D\u001b[3B\u001b[3A\u001b[1m<\u001b[0;32;1m=\u001b[0;39;1m------------> 9% EXECUTING [57s]\u001b[m\u001b[34D\u001b[1B\u001b[1m> :javaPreCompileDebug\u001b[m\u001b[22D\u001b[2B\u001b[1A\u001b[1m> :checkDebugAarMetadata\u001b[m\u001b[24D\u001b[1B\u001b[3A\u001b[1m<\u001b[0;32;1m==\u001b[0;39;1m-----------> 17% EXECUTING [57s]\u001b[m\u001b[35D\u001b[1B> IDLE\u001b[0K\u001b[6D\u001b[1B\u001b[1m> :mapDebugSourceSetPaths\u001b[m\u001b[25D\u001b[1B\u001b[3A\u001b[1m<\u001b[0;32;1m==\u001b[0;39;1m-----------> 21% EXECUTING [57s]\u001b[m\u001b[35D\u001b[2B\u001b[1m> :mergeDebugResources\u001b[m\u001b[0K\u001b[22D\u001b[1B\u001b[2A\u001b[1m> :packageDebugResources\u001b[m\u001b[24D\u001b[2B\u001b[3A\u001b[1m<\u001b[0;32;1m===\u001b[0;39;1m----------> 24% EXECUTING [57s]\u001b[m\u001b[35D\u001b[1B\u001b[1m> :parseDebugLocalResources > Resolve files of :androidApis\u001b[m\u001b[59D\u001b[2B\u001b[3A\u001b[1m<\u001b[0;32;1m===\u001b[0;39;1m----------> 24% EXECUTING [58s]\u001b[m\u001b[35D\u001b[3B\u001b[3A\u001b[1m<\u001b[0;32;1m===\u001b[0;39;1m----------> 26% EXECUTING [58s]\u001b[m\u001b[35D\u001b[2B> IDLE\u001b[0K\u001b[6D\u001b[1B\u001b[3A\u001b[1m<\u001b[0;32;1m===\u001b[0;39;1m----------> 26% EXECUTING [59s]\u001b[m\u001b[35D\u001b[1B\u001b[1m> :parseDebugLocalResources > Resolve files of :androidApis > PlatformAttrTrans\u001b[m\u001b[79D\u001b[2B\u001b[2A\u001b[1m> :parseDebugLocalResources\u001b[m\u001b[0K\u001b[27D\u001b[1B\u001b[1m> :createDebugCompatibleScreenManifests\u001b[m\u001b[39D\u001b[1B\u001b[3A\u001b[1m<\u001b[0;32;1m===\u001b[0;39;1m----------> 29% EXECUTING [59s]\u001b[m\u001b[35D\u001b[2B\u001b[1m> :extractDeepLinksDebug\u001b[m\u001b[0K\u001b[24D\u001b[1B\u001b[3A\u001b[1m<\u001b[0;32;1m====\u001b[0;39;1m---------> 31% EXECUTING [59s]\u001b[m\u001b[35D\u001b[2B\u001b[1m> :processDebugMainManifest\u001b[m\u001b[27D\u001b[1B\u001b[3A\u001b[1m<\u001b[0;32;1m====\u001b[0;39;1m---------> 34% EXECUTING [59s]\u001b[m\u001b[35D\u001b[1B> IDLE\u001b[0K\u001b[6D\u001b[2B\u001b[3A\u001b[0K\n",
            "\u001b[1m\u001b[90m[DEBUG]\u001b[39m\u001b[0m:   \t\u001b[1m> Task :processDebugMainManifest\u001b[m\n",
            "\u001b[1m\u001b[90m[DEBUG]\u001b[39m\u001b[0m:   \t/content/.buildozer/android/platform/build-arm64-v8a_armeabi-v7a/dists/open_edope/src/main/AndroidManifest.xml:63:18-50 Warning:\n",
            "\u001b[1m\u001b[90m[DEBUG]\u001b[39m\u001b[0m:   \t        android:extractNativeLibs should not be specified in this source AndroidManifest.xml file. See https://d.android.com/guide/topics/manifest/application-element#extractNativeLibs for more information.\n",
            "\u001b[1m\u001b[90m[DEBUG]\u001b[39m\u001b[0m:   \tThe AGP Upgrade Assistant can remove the attribute from the AndroidManifest.xml file and update the build file accordingly. See https://d.android.com/studio/build/agp-upgrade-assistant for more information.\n",
            "\u001b[1m\u001b[90m[DEBUG]\u001b[39m\u001b[0m:   \t\u001b[0K\n",
            "\u001b[1m\u001b[90m[DEBUG]\u001b[39m\u001b[0m:   \t\u001b[0K\n",
            "\u001b[1m\u001b[90m[DEBUG]\u001b[39m\u001b[0m:   \t\u001b[0K\n",
            "\u001b[1m\u001b[90m[DEBUG]\u001b[39m\u001b[0m:   \t\u001b[3A\u001b[1m<\u001b[0;32;1m====\u001b[0;39;1m---------> 36% EXECUTING [59s]\u001b[m\u001b[35D\u001b[1B> IDLE\u001b[6D\u001b[1B\u001b[1m> :processDebugManifest\u001b[m\u001b[23D\u001b[1B\u001b[3A\u001b[1m<\u001b[0;32;1m====\u001b[0;39;1m---------> 36% EXECUTING [1m]\u001b[m\u001b[0K\u001b[34D\u001b[3B\u001b[3A\u001b[1m<\u001b[0;32;1m=====\u001b[0;39;1m--------> 39% EXECUTING [1m]\u001b[m\u001b[34D\u001b[1B\u001b[1m> :mergeDebugShaders\u001b[m\u001b[20D\u001b[1B\u001b[1m> :processDebugManifestForPackage\u001b[m\u001b[33D\u001b[1B\u001b[3A\u001b[1m<\u001b[0;32;1m======\u001b[0;39;1m-------> 48% EXECUTING [1m]\u001b[m\u001b[34D\u001b[1B> IDLE\u001b[0K\u001b[6D\u001b[1B\u001b[1m> :processDebugResources\u001b[m\u001b[0K\u001b[24D\u001b[1B\u001b[1A\u001b[1m> :processDebugResources > Resolve dependencies of :detachedConfiguration2 > aa\u001b[m\u001b[79D\u001b[1B\u001b[1A\u001b[1m> :processDebugResources > Resolve files of :detachedConfiguration2 > aapt2-8.1\u001b[m\u001b[79D\u001b[1B\u001b[1A\u001b[1m> :processDebugResources > Resolve files of :detachedConfiguration2\u001b[m\u001b[0K\u001b[67D\u001b[1B\u001b[3A\u001b[1m<\u001b[0;32;1m======\u001b[0;39;1m-------> 48% EXECUTING [1m 1s]\u001b[m\u001b[37D\u001b[2B\u001b[1m> :processDebugResources > Resolve files of :detachedConfiguration2 > Aapt2Extr\u001b[m\u001b[79D\u001b[1B\u001b[1A\u001b[1m> :processDebugResources > Resolve files of :detachedConfiguration2\u001b[m\u001b[0K\u001b[67D\u001b[1B\u001b[2A\u001b[1m> :mergeDebugAssets\u001b[m\u001b[19D\u001b[1B\u001b[1m> :processDebugResources\u001b[m\u001b[0K\u001b[24D\u001b[1B\u001b[3A\u001b[1m<\u001b[0;32;1m======\u001b[0;39;1m-------> 51% EXECUTING [1m 1s]\u001b[m\u001b[37D\u001b[1B\u001b[1m> :compressDebugAssets\u001b[m\u001b[22D\u001b[2B\u001b[3A\u001b[1m<\u001b[0;32;1m=======\u001b[0;39;1m------> 56% EXECUTING [1m 1s]\u001b[m\u001b[37D\u001b[1B> IDLE\u001b[0K\u001b[6D\u001b[2B\u001b[2A\u001b[1m> :mergeDebugJavaResource\u001b[m\u001b[25D\u001b[2B\u001b[3A\u001b[1m<\u001b[0;32;1m=======\u001b[0;39;1m------> 60% EXECUTING [1m 1s]\u001b[m\u001b[37D\u001b[1B\u001b[1m> :desugarDebugFileDependencies\u001b[m\u001b[31D\u001b[2B\u001b[3A\u001b[1m<\u001b[0;32;1m========\u001b[0;39;1m-----> 63% EXECUTING [1m 1s]\u001b[m\u001b[37D\u001b[2B> IDLE\u001b[0K\u001b[6D\u001b[1B\u001b[3A\u001b[1m<\u001b[0;32;1m========\u001b[0;39;1m-----> 63% EXECUTING [1m 2s]\u001b[m\u001b[37D\u001b[3B\u001b[3A\u001b[1m<\u001b[0;32;1m========\u001b[0;39;1m-----> 63% EXECUTING [1m 3s]\u001b[m\u001b[37D\u001b[3B\u001b[3A\u001b[1m<\u001b[0;32;1m========\u001b[0;39;1m-----> 65% EXECUTING [1m 3s]\u001b[m\u001b[37D\u001b[1B\u001b[1m> :compileDebugJavaWithJavac\u001b[m\u001b[0K\u001b[28D\u001b[2B\u001b[3A\u001b[1m<\u001b[0;32;1m========\u001b[0;39;1m-----> 65% EXECUTING [1m 4s]\u001b[m\u001b[37D\u001b[3B\u001b[3A\u001b[1m<\u001b[0;32;1m========\u001b[0;39;1m-----> 65% EXECUTING [1m 5s]\u001b[m\u001b[37D\u001b[3B\u001b[3A\u001b[1m<\u001b[0;32;1m========\u001b[0;39;1m-----> 65% EXECUTING [1m 6s]\u001b[m\u001b[37D\u001b[3B\u001b[3A\u001b[1m<\u001b[0;32;1m========\u001b[0;39;1m-----> 65% EXECUTING [1m 7s]\u001b[m\u001b[37D\u001b[3B\u001b[3A\u001b[1m<\u001b[0;32;1m========\u001b[0;39;1m-----> 65% EXECUTING [1m 8s]\u001b[m\u001b[37D\u001b[3B\u001b[3A\u001b[0K\n",
            "\u001b[1m\u001b[90m[DEBUG]\u001b[39m\u001b[0m:   \t\u001b[1m> Task :compileDebugJavaWithJavac\u001b[m\n",
            "\u001b[1m\u001b[90m[DEBUG]\u001b[39m\u001b[0m:   \tNote: Some input files use or override a deprecated API.\n",
            "\u001b[1m\u001b[90m[DEBUG]\u001b[39m\u001b[0m:   \tNote: Recompile with -Xlint:deprecation for details.\n",
            "\u001b[1m\u001b[90m[DEBUG]\u001b[39m\u001b[0m:   \t\u001b[0K\n",
            "\u001b[1m\u001b[90m[DEBUG]\u001b[39m\u001b[0m:   \t\u001b[0K\n",
            "\u001b[1m\u001b[90m[DEBUG]\u001b[39m\u001b[0m:   \t\u001b[0K\n",
            "\u001b[1m\u001b[90m[DEBUG]\u001b[39m\u001b[0m:   \t\u001b[3A\u001b[1m<\u001b[0;32;1m========\u001b[0;39;1m-----> 65% EXECUTING [1m 8s]\u001b[m\u001b[37D\u001b[1B\u001b[1m> :compileDebugJavaWithJavac\u001b[m\u001b[28D\u001b[1B> IDLE\u001b[6D\u001b[1B\u001b[3A\u001b[1m<\u001b[0;32;1m========\u001b[0;39;1m-----> 68% EXECUTING [1m 9s]\u001b[m\u001b[37D\u001b[1B\u001b[1m> :mergeExtDexDebug\u001b[m\u001b[0K\u001b[19D\u001b[1B\u001b[1m> :mergeLibDexDebug\u001b[m\u001b[19D\u001b[1B\u001b[3A\u001b[1m<\u001b[0;32;1m=========\u001b[0;39;1m----> 73% EXECUTING [1m 9s]\u001b[m\u001b[37D\u001b[1B\u001b[1m> :dexBuilderDebug\u001b[m\u001b[0K\u001b[18D\u001b[1B> IDLE\u001b[0K\u001b[6D\u001b[1B\u001b[3A\u001b[1m<\u001b[0;32;1m=========\u001b[0;39;1m----> 73% EXECUTING [1m 10s]\u001b[m\u001b[38D\u001b[3B\u001b[3A\u001b[1m<\u001b[0;32;1m=========\u001b[0;39;1m----> 73% EXECUTING [1m 11s]\u001b[m\u001b[38D\u001b[3B\u001b[3A\u001b[1m<\u001b[0;32;1m=========\u001b[0;39;1m----> 73% EXECUTING [1m 12s]\u001b[m\u001b[38D\u001b[3B\u001b[3A\u001b[1m<\u001b[0;32;1m=========\u001b[0;39;1m----> 73% EXECUTING [1m 13s]\u001b[m\u001b[38D\u001b[3B\u001b[3A\u001b[1m<\u001b[0;32;1m=========\u001b[0;39;1m----> 73% EXECUTING [1m 14s]\u001b[m\u001b[38D\u001b[3B\u001b[3A\u001b[1m<\u001b[0;32;1m=========\u001b[0;39;1m----> 73% EXECUTING [1m 15s]\u001b[m\u001b[38D\u001b[3B\u001b[3A\u001b[1m<\u001b[0;32;1m=========\u001b[0;39;1m----> 73% EXECUTING [1m 16s]\u001b[m\u001b[38D\u001b[3B\u001b[3A\u001b[1m<\u001b[0;32;1m=========\u001b[0;39;1m----> 75% EXECUTING [1m 17s]\u001b[m\u001b[38D\u001b[1B\u001b[1m> :mergeProjectDexDebug\u001b[m\u001b[23D\u001b[1B\u001b[1m> :mergeDebugJniLibFolders\u001b[m\u001b[26D\u001b[1B\u001b[3A\u001b[1m<\u001b[0;32;1m=========\u001b[0;39;1m----> 75% EXECUTING [1m 18s]\u001b[m\u001b[38D\u001b[3B\u001b[3A\u001b[1m<\u001b[0;32;1m==========\u001b[0;39;1m---> 78% EXECUTING [1m 18s]\u001b[m\u001b[38D\u001b[1B> IDLE\u001b[0K\u001b[6D\u001b[2B\u001b[3A\u001b[1m<\u001b[0;32;1m==========\u001b[0;39;1m---> 80% EXECUTING [1m 18s]\u001b[m\u001b[38D\u001b[2B\u001b[1m> :mergeDebugNativeLibs\u001b[m\u001b[0K\u001b[23D\u001b[1B\u001b[2A\u001b[1m> :validateSigningDebug\u001b[m\u001b[23D\u001b[2B\u001b[3A\u001b[1m<\u001b[0;32;1m==========\u001b[0;39;1m---> 80% EXECUTING [1m 19s]\u001b[m\u001b[38D\u001b[3B\u001b[3A\u001b[1m<\u001b[0;32;1m==========\u001b[0;39;1m---> 80% EXECUTING [1m 20s]\u001b[m\u001b[38D\u001b[3B\u001b[3A\u001b[1m<\u001b[0;32;1m==========\u001b[0;39;1m---> 82% EXECUTING [1m 20s]\u001b[m\u001b[38D\u001b[2B> IDLE\u001b[0K\u001b[6D\u001b[1B\u001b[3A\u001b[1m<\u001b[0;32;1m==========\u001b[0;39;1m---> 82% EXECUTING [1m 21s]\u001b[m\u001b[38D\u001b[3B\u001b[3A\u001b[1m<\u001b[0;32;1m===========\u001b[0;39;1m--> 85% EXECUTING [1m 22s]\u001b[m\u001b[38D\u001b[1B\u001b[1m> :stripDebugDebugSymbols\u001b[m\u001b[25D\u001b[2B\u001b[3A\u001b[1m<\u001b[0;32;1m===========\u001b[0;39;1m--> 90% EXECUTING [1m 22s]\u001b[m\u001b[38D\u001b[3B\u001b[3A\u001b[1m<\u001b[0;32;1m============\u001b[0;39;1m-> 92% EXECUTING [1m 22s]\u001b[m\u001b[38D\u001b[1B\u001b[1m> :packageDebug\u001b[m\u001b[0K\u001b[15D\u001b[2B\u001b[3A\u001b[1m<\u001b[0;32;1m============\u001b[0;39;1m-> 92% EXECUTING [1m 23s]\u001b[m\u001b[38D\u001b[3B\u001b[3A\u001b[1m<\u001b[0;32;1m============\u001b[0;39;1m-> 92% EXECUTING [1m 24s]\u001b[m\u001b[38D\u001b[3B\u001b[3A\u001b[1m<\u001b[0;32;1m============\u001b[0;39;1m-> 92% EXECUTING [1m 25s]\u001b[m\u001b[38D\u001b[3B\u001b[3A\u001b[1m<\u001b[0;32;1m============\u001b[0;39;1m-> 92% EXECUTING [1m 26s]\u001b[m\u001b[38D\u001b[3B\u001b[3A\u001b[0K\n",
            "\u001b[1m\u001b[90m[DEBUG]\u001b[39m\u001b[0m:   \tDeprecated Gradle features were used in this build, making it incompatible with Gradle 9.0.\n",
            "\u001b[1m\u001b[90m[DEBUG]\u001b[39m\u001b[0m:   \t\n",
            "\u001b[1m\u001b[90m[DEBUG]\u001b[39m\u001b[0m:   \tYou can use '--warning-mode all' to show the individual deprecation warnings and determine if they come from your own scripts or plugins.\n",
            "\u001b[1m\u001b[90m[DEBUG]\u001b[39m\u001b[0m:   \t\n",
            "\u001b[1m\u001b[90m[DEBUG]\u001b[39m\u001b[0m:   \tSee https://docs.gradle.org/8.0.2/userguide/command_line_interface.html#sec:command_line_warnings\n",
            "\u001b[1m\u001b[90m[DEBUG]\u001b[39m\u001b[0m:   \t\n",
            "\u001b[1m\u001b[90m[DEBUG]\u001b[39m\u001b[0m:   \t\u001b[32;1mBUILD SUCCESSFUL\u001b[0;39m in 1m 42s\n",
            "\u001b[1m\u001b[90m[DEBUG]\u001b[39m\u001b[0m:   \t33 actionable tasks: 32 executed, 1 up-to-date\n",
            "\u001b[1m\u001b[90m[DEBUG]\u001b[39m\u001b[0m:   \t\u001b[0K\n",
            "\u001b[1m\u001b[90m[DEBUG]\u001b[39m\u001b[0m:   \t\u001b[0K\n",
            "\u001b[1m\u001b[90m[DEBUG]\u001b[39m\u001b[0m:   \t\u001b[0K\n",
            "\u001b[1m\u001b[90m[DEBUG]\u001b[39m\u001b[0m:   \t\u001b[3A\u001b[1m<\u001b[0;1m-------------> 0% WAITING\u001b[m\u001b[26D\u001b[1B> IDLE\u001b[6D\u001b[1B> IDLE\u001b[6D\u001b[1B\u001b[3A\u001b[2K\u001b[1B\u001b[2K\u001b[1B\u001b[2K\u001b[2A\u001b[m\n",
            "\u001b[1m[INFO]\u001b[0m:    \u001b[36m<- directory context /content/.buildozer/android/platform/python-for-android\u001b[39m\n",
            "\u001b[1m\u001b[90m[DEBUG]\u001b[39m\u001b[0m:   All possible dists: [<Distribution: name open_edope with recipes (freetype, hostpython3, jpeg, libffi, openssl, png, sdl2_image, sdl2_mixer, sdl2_ttf, sqlite3, python3, sdl2, setuptools, pillow, six, pyjnius, android, kivy, requests, idna, plyer, kivymd, chardet, urllib3, certifi)>]\n",
            "\u001b[1m\u001b[90m[DEBUG]\u001b[39m\u001b[0m:   Dist matching name and arch: [<Distribution: name open_edope with recipes (freetype, hostpython3, jpeg, libffi, openssl, png, sdl2_image, sdl2_mixer, sdl2_ttf, sqlite3, python3, sdl2, setuptools, pillow, six, pyjnius, android, kivy, requests, idna, plyer, kivymd, chardet, urllib3, certifi)>]\n",
            "\u001b[1m\u001b[90m[DEBUG]\u001b[39m\u001b[0m:   Dist matching ndk_api and recipe: [<Distribution: name open_edope with recipes (freetype, hostpython3, jpeg, libffi, openssl, png, sdl2_image, sdl2_mixer, sdl2_ttf, sqlite3, python3, sdl2, setuptools, pillow, six, pyjnius, android, kivy, requests, idna, plyer, kivymd, chardet, urllib3, certifi)>]\n",
            "\u001b[1m[INFO]\u001b[0m:    Of the existing distributions, the following meet the given requirements:\n",
            "\u001b[1m[INFO]\u001b[0m:    \t\u001b[32m\u001b[1mopen_edope\u001b[0m: min API 21, includes recipes (\u001b[32mfreetype, hostpython3, jpeg, libffi, openssl, png, sdl2_image, sdl2_mixer, sdl2_ttf, sqlite3, python3, sdl2, setuptools, pillow, six, pyjnius, android, kivy, requests, idna, plyer, kivymd, chardet, urllib3, certifi\u001b[0m), built for archs (\u001b[34marmeabi-v7a, arm64-v8a\u001b[0m)\n",
            "\u001b[1m[INFO]\u001b[0m:    \u001b[1m\u001b[94mopen_edope has compatible recipes, using this one\u001b[0m\n",
            "\u001b[1m[INFO]\u001b[0m:    \u001b[1m\u001b[32m# Copying android package to current directory\u001b[0m\u001b[39m\n",
            "\u001b[1m[INFO]\u001b[0m:    \u001b[1m\u001b[32m# Android package filename not found in build output. Guessing...\u001b[0m\u001b[39m\n",
            "\u001b[1m[INFO]\u001b[0m:    \u001b[1m\u001b[32m# Found android package file: /content/.buildozer/android/platform/build-arm64-v8a_armeabi-v7a/dists/open_edope/build/outputs/apk/debug/open_edope-debug.apk\u001b[0m\u001b[39m\n",
            "\u001b[1m[INFO]\u001b[0m:    # Add version number to android package\n",
            "\u001b[1m[INFO]\u001b[0m:    # Android package renamed to open_edope-debug-1.0.apk\n",
            "stty: 'standard input': Inappropriate ioctl for device\n",
            "\u001b[1m\u001b[90m[DEBUG]\u001b[39m\u001b[0m:   \u001b[90m->\u001b[0m running cp /content/.buildozer/android/platform/build-arm64-v8a_armeabi-v7a/dists/open_edope/build/outputs/apk/debug/open_edope-debug.apk open_edope-debug-1.0.apk\u001b[0m\n",
            "No setup.py/pyproject.toml used, copying full private data into .apk.\n",
            "Applying Java source code patches...\n",
            "Applying patch: src/patches/SDLActivity.java.patch\n",
            "\u001b[39m\u001b[0m\u001b[36m# Android packaging done!\u001b[39m\u001b[0m\n",
            "\u001b[39m\u001b[0m\u001b[36m# APK open_edope-1.0-arm64-v8a_armeabi-v7a-debug.apk available in the bin directory\u001b[39m\u001b[0m\n",
            "\u001b[0m"
          ]
        }
      ],
      "source": [
        "!yes | buildozer -v android debug"
      ]
    },
    {
      "cell_type": "code",
      "execution_count": 22,
      "metadata": {
        "id": "aD_LcBHhZIAM",
        "outputId": "51a524fd-09f0-459d-bee7-a5333369491d",
        "colab": {
          "base_uri": "https://localhost:8080/",
          "height": 17
        }
      },
      "outputs": [
        {
          "output_type": "display_data",
          "data": {
            "text/plain": [
              "<IPython.core.display.Javascript object>"
            ],
            "application/javascript": [
              "\n",
              "    async function download(id, filename, size) {\n",
              "      if (!google.colab.kernel.accessAllowed) {\n",
              "        return;\n",
              "      }\n",
              "      const div = document.createElement('div');\n",
              "      const label = document.createElement('label');\n",
              "      label.textContent = `Downloading \"${filename}\": `;\n",
              "      div.appendChild(label);\n",
              "      const progress = document.createElement('progress');\n",
              "      progress.max = size;\n",
              "      div.appendChild(progress);\n",
              "      document.body.appendChild(div);\n",
              "\n",
              "      const buffers = [];\n",
              "      let downloaded = 0;\n",
              "\n",
              "      const channel = await google.colab.kernel.comms.open(id);\n",
              "      // Send a message to notify the kernel that we're ready.\n",
              "      channel.send({})\n",
              "\n",
              "      for await (const message of channel.messages) {\n",
              "        // Send a message to notify the kernel that we're ready.\n",
              "        channel.send({})\n",
              "        if (message.buffers) {\n",
              "          for (const buffer of message.buffers) {\n",
              "            buffers.push(buffer);\n",
              "            downloaded += buffer.byteLength;\n",
              "            progress.value = downloaded;\n",
              "          }\n",
              "        }\n",
              "      }\n",
              "      const blob = new Blob(buffers, {type: 'application/binary'});\n",
              "      const a = document.createElement('a');\n",
              "      a.href = window.URL.createObjectURL(blob);\n",
              "      a.download = filename;\n",
              "      div.appendChild(a);\n",
              "      a.click();\n",
              "      div.remove();\n",
              "    }\n",
              "  "
            ]
          },
          "metadata": {}
        },
        {
          "output_type": "display_data",
          "data": {
            "text/plain": [
              "<IPython.core.display.Javascript object>"
            ],
            "application/javascript": [
              "download(\"download_cd11e452-fcb7-4b09-8f3a-d26d94b23401\", \"open_edope-1.0-arm64-v8a_armeabi-v7a-debug.apk\", 43805727)"
            ]
          },
          "metadata": {}
        }
      ],
      "source": [
        "from google.colab import files\n",
        "files.download('bin/open_edope-1.0-arm64-v8a_armeabi-v7a-debug.apk')"
      ]
    }
  ],
  "metadata": {
    "colab": {
      "provenance": [],
      "include_colab_link": true
    },
    "kernelspec": {
      "display_name": "Python 3",
      "name": "python3"
    },
    "language_info": {
      "name": "python"
    }
  },
  "nbformat": 4,
  "nbformat_minor": 0
}